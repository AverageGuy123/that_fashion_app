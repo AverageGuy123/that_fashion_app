{
 "cells": [
  {
   "cell_type": "code",
   "execution_count": 68,
   "metadata": {
    "collapsed": false
   },
   "outputs": [],
   "source": [
    "import pandas as pd\n",
    "from pymongo import MongoClient\n",
    "from sklearn.linear_model import LinearRegression\n",
    "from sklearn.preprocessing import PolynomialFeatures\n",
    "import matplotlib.pyplot as plt\n",
    "import seaborn\n",
    "%matplotlib inline\n",
    "\n"
   ]
  },
  {
   "cell_type": "markdown",
   "metadata": {},
   "source": [
    "The purpose of this notebook is to perform EDA on a small sample of my data."
   ]
  },
  {
   "cell_type": "code",
   "execution_count": 14,
   "metadata": {
    "collapsed": true
   },
   "outputs": [],
   "source": [
    "client = MongoClient('mongodb://localhost:27017/')\n",
    "db = client['parsedA']\n",
    "posts = db['posts']"
   ]
  },
  {
   "cell_type": "code",
   "execution_count": 15,
   "metadata": {
    "collapsed": false
   },
   "outputs": [
    {
     "data": {
      "text/html": [
       "<div>\n",
       "<table border=\"1\" class=\"dataframe\">\n",
       "  <thead>\n",
       "    <tr style=\"text-align: right;\">\n",
       "      <th></th>\n",
       "      <th>chic_points</th>\n",
       "      <th>comments</th>\n",
       "      <th>date</th>\n",
       "      <th>favorites</th>\n",
       "      <th>followers</th>\n",
       "      <th>garment_links</th>\n",
       "      <th>id</th>\n",
       "      <th>location</th>\n",
       "      <th>main_photo</th>\n",
       "      <th>photo_desc</th>\n",
       "      <th>post_id</th>\n",
       "      <th>style_council</th>\n",
       "      <th>subphotos</th>\n",
       "      <th>tags</th>\n",
       "      <th>title</th>\n",
       "      <th>username</th>\n",
       "      <th>votes</th>\n",
       "    </tr>\n",
       "  </thead>\n",
       "  <tbody>\n",
       "    <tr>\n",
       "      <th>62</th>\n",
       "      <td>388</td>\n",
       "      <td>0</td>\n",
       "      <td>2008-05-10</td>\n",
       "      <td>3</td>\n",
       "      <td>0</td>\n",
       "      <td>None</td>\n",
       "      <td>1157</td>\n",
       "      <td>NaN</td>\n",
       "      <td>http://images2.chictopia.com/photos/lipstickgi...</td>\n",
       "      <td>\\nI love the Etro S/S 08 look. as said in Vogu...</td>\n",
       "      <td>1157</td>\n",
       "      <td>Style_council</td>\n",
       "      <td>No Subphotos</td>\n",
       "      <td>[Runway, Everyday, Summer]</td>\n",
       "      <td>Etro S/S 08</td>\n",
       "      <td>lipstickgirl</td>\n",
       "      <td>2</td>\n",
       "    </tr>\n",
       "    <tr>\n",
       "      <th>63</th>\n",
       "      <td>856</td>\n",
       "      <td>0</td>\n",
       "      <td>2008-05-10</td>\n",
       "      <td>1</td>\n",
       "      <td>18</td>\n",
       "      <td>[H&amp;M t-shirt]</td>\n",
       "      <td>1158</td>\n",
       "      <td>Milano, Italy</td>\n",
       "      <td>http://images2.chictopia.com/photos/loulouisa/...</td>\n",
       "      <td>\\nHung out with friends today, having a BBQ an...</td>\n",
       "      <td>1158</td>\n",
       "      <td>Style_council</td>\n",
       "      <td>No Subphotos</td>\n",
       "      <td>[Casual, Picnic, Summer]</td>\n",
       "      <td>just chilling</td>\n",
       "      <td>loulouisa</td>\n",
       "      <td>0</td>\n",
       "    </tr>\n",
       "    <tr>\n",
       "      <th>64</th>\n",
       "      <td>856</td>\n",
       "      <td>4</td>\n",
       "      <td>2008-05-10</td>\n",
       "      <td>0</td>\n",
       "      <td>18</td>\n",
       "      <td>[Zara dress]</td>\n",
       "      <td>1159</td>\n",
       "      <td>Milano, Italy</td>\n",
       "      <td>http://images2.chictopia.com/photos/loulouisa/...</td>\n",
       "      <td>\\nWent clubbing with friends. Its already warm...</td>\n",
       "      <td>1159</td>\n",
       "      <td>Style_council</td>\n",
       "      <td>No Subphotos</td>\n",
       "      <td>[Hippie, Casual Party, Summer]</td>\n",
       "      <td>Hippy-Happy Night Out</td>\n",
       "      <td>loulouisa</td>\n",
       "      <td>1</td>\n",
       "    </tr>\n",
       "    <tr>\n",
       "      <th>65</th>\n",
       "      <td>388</td>\n",
       "      <td>1</td>\n",
       "      <td>2008-05-10</td>\n",
       "      <td>0</td>\n",
       "      <td>0</td>\n",
       "      <td>[beige, Witchery shirt]</td>\n",
       "      <td>1160</td>\n",
       "      <td>NaN</td>\n",
       "      <td>http://images2.chictopia.com/photos/annapelle/...</td>\n",
       "      <td>\\nLove the lame leggings, even though my boyfr...</td>\n",
       "      <td>1160</td>\n",
       "      <td>Style_council</td>\n",
       "      <td>No Subphotos</td>\n",
       "      <td>[Casual, Art Opening, Summer]</td>\n",
       "      <td>My legs are fat</td>\n",
       "      <td>annapelle</td>\n",
       "      <td>0</td>\n",
       "    </tr>\n",
       "    <tr>\n",
       "      <th>66</th>\n",
       "      <td>388</td>\n",
       "      <td>0</td>\n",
       "      <td>2008-05-10</td>\n",
       "      <td>0</td>\n",
       "      <td>0</td>\n",
       "      <td>[gray, Witchery shirt]</td>\n",
       "      <td>1161</td>\n",
       "      <td>NaN</td>\n",
       "      <td>http://images2.chictopia.com/photos/annapelle/...</td>\n",
       "      <td>\\nThis skirt is one of those items youre glad ...</td>\n",
       "      <td>1161</td>\n",
       "      <td>Style_council</td>\n",
       "      <td>No Subphotos</td>\n",
       "      <td>[Elegant, Work, Summer]</td>\n",
       "      <td>No shoes</td>\n",
       "      <td>annapelle</td>\n",
       "      <td>1</td>\n",
       "    </tr>\n",
       "  </tbody>\n",
       "</table>\n",
       "</div>"
      ],
      "text/plain": [
       "    chic_points  comments        date  favorites  followers  \\\n",
       "62          388         0  2008-05-10          3          0   \n",
       "63          856         0  2008-05-10          1         18   \n",
       "64          856         4  2008-05-10          0         18   \n",
       "65          388         1  2008-05-10          0          0   \n",
       "66          388         0  2008-05-10          0          0   \n",
       "\n",
       "              garment_links    id       location  \\\n",
       "62                     None  1157            NaN   \n",
       "63            [H&M t-shirt]  1158  Milano, Italy   \n",
       "64             [Zara dress]  1159  Milano, Italy   \n",
       "65  [beige, Witchery shirt]  1160            NaN   \n",
       "66   [gray, Witchery shirt]  1161            NaN   \n",
       "\n",
       "                                           main_photo  \\\n",
       "62  http://images2.chictopia.com/photos/lipstickgi...   \n",
       "63  http://images2.chictopia.com/photos/loulouisa/...   \n",
       "64  http://images2.chictopia.com/photos/loulouisa/...   \n",
       "65  http://images2.chictopia.com/photos/annapelle/...   \n",
       "66  http://images2.chictopia.com/photos/annapelle/...   \n",
       "\n",
       "                                           photo_desc  post_id  style_council  \\\n",
       "62  \\nI love the Etro S/S 08 look. as said in Vogu...     1157  Style_council   \n",
       "63  \\nHung out with friends today, having a BBQ an...     1158  Style_council   \n",
       "64  \\nWent clubbing with friends. Its already warm...     1159  Style_council   \n",
       "65  \\nLove the lame leggings, even though my boyfr...     1160  Style_council   \n",
       "66  \\nThis skirt is one of those items youre glad ...     1161  Style_council   \n",
       "\n",
       "       subphotos                            tags                  title  \\\n",
       "62  No Subphotos      [Runway, Everyday, Summer]            Etro S/S 08   \n",
       "63  No Subphotos        [Casual, Picnic, Summer]          just chilling   \n",
       "64  No Subphotos  [Hippie, Casual Party, Summer]  Hippy-Happy Night Out   \n",
       "65  No Subphotos   [Casual, Art Opening, Summer]        My legs are fat   \n",
       "66  No Subphotos         [Elegant, Work, Summer]               No shoes   \n",
       "\n",
       "        username  votes  \n",
       "62  lipstickgirl      2  \n",
       "63     loulouisa      0  \n",
       "64     loulouisa      1  \n",
       "65     annapelle      0  \n",
       "66     annapelle      1  "
      ]
     },
     "execution_count": 15,
     "metadata": {},
     "output_type": "execute_result"
    }
   ],
   "source": [
    "cursor = posts.find()\n",
    "df =  pd.DataFrame(list(cursor))\n",
    "del df['_id']\n",
    "df.tail()"
   ]
  },
  {
   "cell_type": "code",
   "execution_count": 21,
   "metadata": {
    "collapsed": false
   },
   "outputs": [
    {
     "data": {
      "text/html": [
       "<div>\n",
       "<table border=\"1\" class=\"dataframe\">\n",
       "  <thead>\n",
       "    <tr style=\"text-align: right;\">\n",
       "      <th></th>\n",
       "      <th>chic_points</th>\n",
       "      <th>comments</th>\n",
       "      <th>favorites</th>\n",
       "      <th>followers</th>\n",
       "      <th>id</th>\n",
       "      <th>post_id</th>\n",
       "      <th>votes</th>\n",
       "    </tr>\n",
       "  </thead>\n",
       "  <tbody>\n",
       "    <tr>\n",
       "      <th>count</th>\n",
       "      <td>67.000000</td>\n",
       "      <td>67.000000</td>\n",
       "      <td>67.000000</td>\n",
       "      <td>67.000000</td>\n",
       "      <td>67.000000</td>\n",
       "      <td>67.000000</td>\n",
       "      <td>67.000000</td>\n",
       "    </tr>\n",
       "    <tr>\n",
       "      <th>mean</th>\n",
       "      <td>5143.492537</td>\n",
       "      <td>2.462687</td>\n",
       "      <td>1.940299</td>\n",
       "      <td>7449.492537</td>\n",
       "      <td>1104.940299</td>\n",
       "      <td>1072.134328</td>\n",
       "      <td>10.089552</td>\n",
       "    </tr>\n",
       "    <tr>\n",
       "      <th>std</th>\n",
       "      <td>15655.628836</td>\n",
       "      <td>4.200752</td>\n",
       "      <td>6.203324</td>\n",
       "      <td>33334.793224</td>\n",
       "      <td>39.891854</td>\n",
       "      <td>193.614964</td>\n",
       "      <td>19.063476</td>\n",
       "    </tr>\n",
       "    <tr>\n",
       "      <th>min</th>\n",
       "      <td>0.000000</td>\n",
       "      <td>0.000000</td>\n",
       "      <td>0.000000</td>\n",
       "      <td>0.000000</td>\n",
       "      <td>1042.000000</td>\n",
       "      <td>0.000000</td>\n",
       "      <td>0.000000</td>\n",
       "    </tr>\n",
       "    <tr>\n",
       "      <th>25%</th>\n",
       "      <td>422.000000</td>\n",
       "      <td>0.000000</td>\n",
       "      <td>0.000000</td>\n",
       "      <td>0.500000</td>\n",
       "      <td>1067.500000</td>\n",
       "      <td>1059.500000</td>\n",
       "      <td>0.000000</td>\n",
       "    </tr>\n",
       "    <tr>\n",
       "      <th>50%</th>\n",
       "      <td>569.000000</td>\n",
       "      <td>1.000000</td>\n",
       "      <td>0.000000</td>\n",
       "      <td>7.000000</td>\n",
       "      <td>1110.000000</td>\n",
       "      <td>1109.000000</td>\n",
       "      <td>2.000000</td>\n",
       "    </tr>\n",
       "    <tr>\n",
       "      <th>75%</th>\n",
       "      <td>889.000000</td>\n",
       "      <td>3.000000</td>\n",
       "      <td>1.000000</td>\n",
       "      <td>15.000000</td>\n",
       "      <td>1141.500000</td>\n",
       "      <td>1141.500000</td>\n",
       "      <td>8.500000</td>\n",
       "    </tr>\n",
       "    <tr>\n",
       "      <th>max</th>\n",
       "      <td>110256.000000</td>\n",
       "      <td>24.000000</td>\n",
       "      <td>40.000000</td>\n",
       "      <td>160155.000000</td>\n",
       "      <td>1161.000000</td>\n",
       "      <td>1161.000000</td>\n",
       "      <td>102.000000</td>\n",
       "    </tr>\n",
       "  </tbody>\n",
       "</table>\n",
       "</div>"
      ],
      "text/plain": [
       "         chic_points   comments  favorites      followers           id  \\\n",
       "count      67.000000  67.000000  67.000000      67.000000    67.000000   \n",
       "mean     5143.492537   2.462687   1.940299    7449.492537  1104.940299   \n",
       "std     15655.628836   4.200752   6.203324   33334.793224    39.891854   \n",
       "min         0.000000   0.000000   0.000000       0.000000  1042.000000   \n",
       "25%       422.000000   0.000000   0.000000       0.500000  1067.500000   \n",
       "50%       569.000000   1.000000   0.000000       7.000000  1110.000000   \n",
       "75%       889.000000   3.000000   1.000000      15.000000  1141.500000   \n",
       "max    110256.000000  24.000000  40.000000  160155.000000  1161.000000   \n",
       "\n",
       "           post_id       votes  \n",
       "count    67.000000   67.000000  \n",
       "mean   1072.134328   10.089552  \n",
       "std     193.614964   19.063476  \n",
       "min       0.000000    0.000000  \n",
       "25%    1059.500000    0.000000  \n",
       "50%    1109.000000    2.000000  \n",
       "75%    1141.500000    8.500000  \n",
       "max    1161.000000  102.000000  "
      ]
     },
     "execution_count": 21,
     "metadata": {},
     "output_type": "execute_result"
    }
   ],
   "source": [
    "df.describe()\n"
   ]
  },
  {
   "cell_type": "code",
   "execution_count": 33,
   "metadata": {
    "collapsed": false
   },
   "outputs": [],
   "source": [
    "df['desc_length'] = [len(desc) for desc in df['photo_desc'].values]\n"
   ]
  },
  {
   "cell_type": "code",
   "execution_count": 34,
   "metadata": {
    "collapsed": false,
    "scrolled": true
   },
   "outputs": [
    {
     "data": {
      "text/plain": [
       "0       92\n",
       "1       77\n",
       "2       79\n",
       "3       58\n",
       "4       33\n",
       "5       78\n",
       "6       54\n",
       "7      290\n",
       "8      234\n",
       "9       59\n",
       "10     152\n",
       "11     202\n",
       "12     220\n",
       "13     157\n",
       "14     205\n",
       "15      22\n",
       "16     835\n",
       "17      14\n",
       "18      14\n",
       "19      14\n",
       "20      12\n",
       "21       5\n",
       "22      39\n",
       "23     576\n",
       "24     844\n",
       "25      90\n",
       "26      14\n",
       "27    1703\n",
       "28      41\n",
       "29      41\n",
       "      ... \n",
       "37     462\n",
       "38     174\n",
       "39      37\n",
       "40     114\n",
       "41      32\n",
       "42      84\n",
       "43      55\n",
       "44      82\n",
       "45      19\n",
       "46     278\n",
       "47     619\n",
       "48     225\n",
       "49     115\n",
       "50     102\n",
       "51      78\n",
       "52     100\n",
       "53     112\n",
       "54     102\n",
       "55      89\n",
       "56     135\n",
       "57     113\n",
       "58      93\n",
       "59     184\n",
       "60     122\n",
       "61     216\n",
       "62     185\n",
       "63     155\n",
       "64     218\n",
       "65     162\n",
       "66     227\n",
       "Name: desc_length, dtype: int64"
      ]
     },
     "execution_count": 34,
     "metadata": {},
     "output_type": "execute_result"
    }
   ],
   "source": [
    "df['desc_length']"
   ]
  },
  {
   "cell_type": "code",
   "execution_count": 42,
   "metadata": {
    "collapsed": false
   },
   "outputs": [],
   "source": [
    "df = df.drop('post_len', axis=1)\n",
    "df = df.drop('id', axis=1)"
   ]
  },
  {
   "cell_type": "code",
   "execution_count": 46,
   "metadata": {
    "collapsed": false
   },
   "outputs": [],
   "source": [
    "df['num_subphotos'] = [0 if entry=='No Subphotos' else len(entry) for entry in df['subphotos']]"
   ]
  },
  {
   "cell_type": "code",
   "execution_count": 47,
   "metadata": {
    "collapsed": false
   },
   "outputs": [
    {
     "data": {
      "text/html": [
       "<div>\n",
       "<table border=\"1\" class=\"dataframe\">\n",
       "  <thead>\n",
       "    <tr style=\"text-align: right;\">\n",
       "      <th></th>\n",
       "      <th>chic_points</th>\n",
       "      <th>comments</th>\n",
       "      <th>favorites</th>\n",
       "      <th>followers</th>\n",
       "      <th>post_id</th>\n",
       "      <th>votes</th>\n",
       "      <th>desc_length</th>\n",
       "      <th>num_subphotos</th>\n",
       "    </tr>\n",
       "  </thead>\n",
       "  <tbody>\n",
       "    <tr>\n",
       "      <th>count</th>\n",
       "      <td>67.000000</td>\n",
       "      <td>67.000000</td>\n",
       "      <td>67.000000</td>\n",
       "      <td>67.000000</td>\n",
       "      <td>67.000000</td>\n",
       "      <td>67.000000</td>\n",
       "      <td>67.000000</td>\n",
       "      <td>67.000000</td>\n",
       "    </tr>\n",
       "    <tr>\n",
       "      <th>mean</th>\n",
       "      <td>5143.492537</td>\n",
       "      <td>2.462687</td>\n",
       "      <td>1.940299</td>\n",
       "      <td>7449.492537</td>\n",
       "      <td>1072.134328</td>\n",
       "      <td>10.089552</td>\n",
       "      <td>206.552239</td>\n",
       "      <td>0.417910</td>\n",
       "    </tr>\n",
       "    <tr>\n",
       "      <th>std</th>\n",
       "      <td>15655.628836</td>\n",
       "      <td>4.200752</td>\n",
       "      <td>6.203324</td>\n",
       "      <td>33334.793224</td>\n",
       "      <td>193.614964</td>\n",
       "      <td>19.063476</td>\n",
       "      <td>368.258485</td>\n",
       "      <td>0.872983</td>\n",
       "    </tr>\n",
       "    <tr>\n",
       "      <th>min</th>\n",
       "      <td>0.000000</td>\n",
       "      <td>0.000000</td>\n",
       "      <td>0.000000</td>\n",
       "      <td>0.000000</td>\n",
       "      <td>0.000000</td>\n",
       "      <td>0.000000</td>\n",
       "      <td>5.000000</td>\n",
       "      <td>0.000000</td>\n",
       "    </tr>\n",
       "    <tr>\n",
       "      <th>25%</th>\n",
       "      <td>422.000000</td>\n",
       "      <td>0.000000</td>\n",
       "      <td>0.000000</td>\n",
       "      <td>0.500000</td>\n",
       "      <td>1059.500000</td>\n",
       "      <td>0.000000</td>\n",
       "      <td>54.500000</td>\n",
       "      <td>0.000000</td>\n",
       "    </tr>\n",
       "    <tr>\n",
       "      <th>50%</th>\n",
       "      <td>569.000000</td>\n",
       "      <td>1.000000</td>\n",
       "      <td>0.000000</td>\n",
       "      <td>7.000000</td>\n",
       "      <td>1109.000000</td>\n",
       "      <td>2.000000</td>\n",
       "      <td>102.000000</td>\n",
       "      <td>0.000000</td>\n",
       "    </tr>\n",
       "    <tr>\n",
       "      <th>75%</th>\n",
       "      <td>889.000000</td>\n",
       "      <td>3.000000</td>\n",
       "      <td>1.000000</td>\n",
       "      <td>15.000000</td>\n",
       "      <td>1141.500000</td>\n",
       "      <td>8.500000</td>\n",
       "      <td>200.000000</td>\n",
       "      <td>0.000000</td>\n",
       "    </tr>\n",
       "    <tr>\n",
       "      <th>max</th>\n",
       "      <td>110256.000000</td>\n",
       "      <td>24.000000</td>\n",
       "      <td>40.000000</td>\n",
       "      <td>160155.000000</td>\n",
       "      <td>1161.000000</td>\n",
       "      <td>102.000000</td>\n",
       "      <td>2356.000000</td>\n",
       "      <td>3.000000</td>\n",
       "    </tr>\n",
       "  </tbody>\n",
       "</table>\n",
       "</div>"
      ],
      "text/plain": [
       "         chic_points   comments  favorites      followers      post_id  \\\n",
       "count      67.000000  67.000000  67.000000      67.000000    67.000000   \n",
       "mean     5143.492537   2.462687   1.940299    7449.492537  1072.134328   \n",
       "std     15655.628836   4.200752   6.203324   33334.793224   193.614964   \n",
       "min         0.000000   0.000000   0.000000       0.000000     0.000000   \n",
       "25%       422.000000   0.000000   0.000000       0.500000  1059.500000   \n",
       "50%       569.000000   1.000000   0.000000       7.000000  1109.000000   \n",
       "75%       889.000000   3.000000   1.000000      15.000000  1141.500000   \n",
       "max    110256.000000  24.000000  40.000000  160155.000000  1161.000000   \n",
       "\n",
       "            votes  desc_length  num_subphotos  \n",
       "count   67.000000    67.000000      67.000000  \n",
       "mean    10.089552   206.552239       0.417910  \n",
       "std     19.063476   368.258485       0.872983  \n",
       "min      0.000000     5.000000       0.000000  \n",
       "25%      0.000000    54.500000       0.000000  \n",
       "50%      2.000000   102.000000       0.000000  \n",
       "75%      8.500000   200.000000       0.000000  \n",
       "max    102.000000  2356.000000       3.000000  "
      ]
     },
     "execution_count": 47,
     "metadata": {},
     "output_type": "execute_result"
    }
   ],
   "source": [
    "df.describe()"
   ]
  },
  {
   "cell_type": "code",
   "execution_count": 49,
   "metadata": {
    "collapsed": true
   },
   "outputs": [],
   "source": [
    "lin = LinearRegression()"
   ]
  },
  {
   "cell_type": "code",
   "execution_count": 52,
   "metadata": {
    "collapsed": true
   },
   "outputs": [],
   "source": [
    "test = df.sample(frac=0.15)\n",
    "train_and_cross_val = df.loc[~df.index.isin(test.index)]"
   ]
  },
  {
   "cell_type": "code",
   "execution_count": 54,
   "metadata": {
    "collapsed": false,
    "scrolled": true
   },
   "outputs": [],
   "source": [
    "cross_val = train_and_cross_val.sample(frac=0.2)\n",
    "train = train_and_cross_val.loc[~train_and_cross_val.index.isin(cross_val.index)]"
   ]
  },
  {
   "cell_type": "code",
   "execution_count": 55,
   "metadata": {
    "collapsed": false
   },
   "outputs": [
    {
     "data": {
      "text/plain": [
       "pandas.core.frame.DataFrame"
      ]
     },
     "execution_count": 55,
     "metadata": {},
     "output_type": "execute_result"
    }
   ],
   "source": [
    "type(train)"
   ]
  },
  {
   "cell_type": "code",
   "execution_count": 58,
   "metadata": {
    "collapsed": false
   },
   "outputs": [
    {
     "data": {
      "text/plain": [
       "46"
      ]
     },
     "execution_count": 58,
     "metadata": {},
     "output_type": "execute_result"
    }
   ],
   "source": [
    "len(train)"
   ]
  },
  {
   "cell_type": "code",
   "execution_count": 59,
   "metadata": {
    "collapsed": false
   },
   "outputs": [
    {
     "name": "stderr",
     "output_type": "stream",
     "text": [
      "/Users/claremariemyers/anaconda/lib/python2.7/site-packages/scipy/linalg/basic.py:884: RuntimeWarning: internal gelsd driver lwork query error, required iwork dimension not returned. This is likely the result of LAPACK bug 0038, fixed in LAPACK 3.2.2 (released July 21, 2010). Falling back to 'gelss' driver.\n",
      "  warnings.warn(mesg, RuntimeWarning)\n"
     ]
    }
   ],
   "source": [
    "model = lin.fit(train[['desc_length', 'num_subphotos']], train['favorites'])"
   ]
  },
  {
   "cell_type": "code",
   "execution_count": 61,
   "metadata": {
    "collapsed": false
   },
   "outputs": [
    {
     "data": {
      "text/plain": [
       "array([-0.00045473, -0.23566063])"
      ]
     },
     "execution_count": 61,
     "metadata": {},
     "output_type": "execute_result"
    }
   ],
   "source": [
    "model.coef_\n"
   ]
  },
  {
   "cell_type": "code",
   "execution_count": 62,
   "metadata": {
    "collapsed": false
   },
   "outputs": [
    {
     "data": {
      "text/plain": [
       "1.467033360757295"
      ]
     },
     "execution_count": 62,
     "metadata": {},
     "output_type": "execute_result"
    }
   ],
   "source": [
    "model.intercept_"
   ]
  },
  {
   "cell_type": "code",
   "execution_count": 63,
   "metadata": {
    "collapsed": false
   },
   "outputs": [
    {
     "data": {
      "text/plain": [
       "array([ 1.4583934 ,  0.97888691,  1.46066708,  0.69262021,  1.45202712,\n",
       "        1.37381275,  1.39336634,  1.3679012 ,  1.41883149,  1.3769959 ,\n",
       "        1.39564002])"
      ]
     },
     "execution_count": 63,
     "metadata": {},
     "output_type": "execute_result"
    }
   ],
   "source": [
    "y_preds = model.predict(cross_val[['desc_length', 'num_subphotos']])\n",
    "y_preds"
   ]
  },
  {
   "cell_type": "code",
   "execution_count": 64,
   "metadata": {
    "collapsed": false
   },
   "outputs": [
    {
     "data": {
      "text/plain": [
       "-0.084296714636253878"
      ]
     },
     "execution_count": 64,
     "metadata": {},
     "output_type": "execute_result"
    }
   ],
   "source": [
    "model.score(cross_val[['desc_length', 'num_subphotos']], cross_val['favorites'])"
   ]
  },
  {
   "cell_type": "code",
   "execution_count": 65,
   "metadata": {
    "collapsed": false
   },
   "outputs": [
    {
     "data": {
      "text/plain": [
       "45     0\n",
       "39     1\n",
       "26     0\n",
       "27    19\n",
       "4      0\n",
       "14     0\n",
       "65     0\n",
       "64     0\n",
       "34     0\n",
       "31     0\n",
       "13     0\n",
       "Name: favorites, dtype: int64"
      ]
     },
     "execution_count": 65,
     "metadata": {},
     "output_type": "execute_result"
    }
   ],
   "source": [
    "cross_val['favorites']"
   ]
  },
  {
   "cell_type": "code",
   "execution_count": 82,
   "metadata": {
    "collapsed": false
   },
   "outputs": [
    {
     "data": {
      "text/plain": [
       "<matplotlib.text.Text at 0x11e055090>"
      ]
     },
     "execution_count": 82,
     "metadata": {},
     "output_type": "execute_result"
    },
    {
     "data": {
      "image/png": "[encoded data removed]",
      "text/plain": [
       "<matplotlib.figure.Figure at 0x11d93e690>"
      ]
     },
     "metadata": {},
     "output_type": "display_data"
    }
   ],
   "source": [
    "f, ((ax1, ax2), (ax3, ax4)) = plt.subplots(2, 2, figsize=(12,12))\n",
    "ax1.scatter(train['desc_length'], train['comments'])\n",
    "ax1.set_title('description length vs comments')\n",
    "ax2.scatter(train['desc_length'], train['favorites'])\n",
    "ax2.set_title('description length vs favorites')\n",
    "ax3.scatter(train['num_subphotos'], train['comments'])\n",
    "ax3.set_title('number of subphotos length vs comments')\n",
    "ax4.scatter(train['num_subphotos'], train['favorites'])\n",
    "ax4.set_title('number of subphotos vs comments')\n"
   ]
  },
  {
   "cell_type": "code",
   "execution_count": 83,
   "metadata": {
    "collapsed": false
   },
   "outputs": [
    {
     "data": {
      "text/html": [
       "<div>\n",
       "<table border=\"1\" class=\"dataframe\">\n",
       "  <thead>\n",
       "    <tr style=\"text-align: right;\">\n",
       "      <th></th>\n",
       "      <th>chic_points</th>\n",
       "      <th>comments</th>\n",
       "      <th>date</th>\n",
       "      <th>favorites</th>\n",
       "      <th>followers</th>\n",
       "      <th>garment_links</th>\n",
       "      <th>location</th>\n",
       "      <th>main_photo</th>\n",
       "      <th>photo_desc</th>\n",
       "      <th>post_id</th>\n",
       "      <th>style_council</th>\n",
       "      <th>subphotos</th>\n",
       "      <th>tags</th>\n",
       "      <th>title</th>\n",
       "      <th>username</th>\n",
       "      <th>votes</th>\n",
       "      <th>desc_length</th>\n",
       "      <th>num_subphotos</th>\n",
       "    </tr>\n",
       "  </thead>\n",
       "  <tbody>\n",
       "    <tr>\n",
       "      <th>59</th>\n",
       "      <td>8026</td>\n",
       "      <td>9</td>\n",
       "      <td>2008-05-10</td>\n",
       "      <td>1</td>\n",
       "      <td>482</td>\n",
       "      <td>None</td>\n",
       "      <td>NaN</td>\n",
       "      <td>http://images0.chictopia.com/photos/poppylee/1...</td>\n",
       "      <td>\\nTook this photo for my blog when I got in fr...</td>\n",
       "      <td>1154</td>\n",
       "      <td>Style_icon</td>\n",
       "      <td>No Subphotos</td>\n",
       "      <td>[Chic, Clubbing, Summer]</td>\n",
       "      <td>A bit drunk</td>\n",
       "      <td>kirstylee</td>\n",
       "      <td>20</td>\n",
       "      <td>184</td>\n",
       "      <td>0</td>\n",
       "    </tr>\n",
       "    <tr>\n",
       "      <th>60</th>\n",
       "      <td>1133</td>\n",
       "      <td>5</td>\n",
       "      <td>2008-05-10</td>\n",
       "      <td>0</td>\n",
       "      <td>25</td>\n",
       "      <td>[hoodie, Marc by Marc Jacobs sweater]</td>\n",
       "      <td>Singapore, Singapore</td>\n",
       "      <td>http://images2.chictopia.com/photos/kokonzai2/...</td>\n",
       "      <td>\\ni think i look quite funny here haha\\nanyway...</td>\n",
       "      <td>1155</td>\n",
       "      <td>Style_council</td>\n",
       "      <td>No Subphotos</td>\n",
       "      <td>[Eclectic, Everyday, Summer]</td>\n",
       "      <td>i look grumpy</td>\n",
       "      <td>kokonzai2</td>\n",
       "      <td>28</td>\n",
       "      <td>122</td>\n",
       "      <td>0</td>\n",
       "    </tr>\n",
       "    <tr>\n",
       "      <th>62</th>\n",
       "      <td>388</td>\n",
       "      <td>0</td>\n",
       "      <td>2008-05-10</td>\n",
       "      <td>3</td>\n",
       "      <td>0</td>\n",
       "      <td>None</td>\n",
       "      <td>NaN</td>\n",
       "      <td>http://images2.chictopia.com/photos/lipstickgi...</td>\n",
       "      <td>\\nI love the Etro S/S 08 look. as said in Vogu...</td>\n",
       "      <td>1157</td>\n",
       "      <td>Style_council</td>\n",
       "      <td>No Subphotos</td>\n",
       "      <td>[Runway, Everyday, Summer]</td>\n",
       "      <td>Etro S/S 08</td>\n",
       "      <td>lipstickgirl</td>\n",
       "      <td>2</td>\n",
       "      <td>185</td>\n",
       "      <td>0</td>\n",
       "    </tr>\n",
       "    <tr>\n",
       "      <th>63</th>\n",
       "      <td>856</td>\n",
       "      <td>0</td>\n",
       "      <td>2008-05-10</td>\n",
       "      <td>1</td>\n",
       "      <td>18</td>\n",
       "      <td>[H&amp;M t-shirt]</td>\n",
       "      <td>Milano, Italy</td>\n",
       "      <td>http://images2.chictopia.com/photos/loulouisa/...</td>\n",
       "      <td>\\nHung out with friends today, having a BBQ an...</td>\n",
       "      <td>1158</td>\n",
       "      <td>Style_council</td>\n",
       "      <td>No Subphotos</td>\n",
       "      <td>[Casual, Picnic, Summer]</td>\n",
       "      <td>just chilling</td>\n",
       "      <td>loulouisa</td>\n",
       "      <td>0</td>\n",
       "      <td>155</td>\n",
       "      <td>0</td>\n",
       "    </tr>\n",
       "    <tr>\n",
       "      <th>66</th>\n",
       "      <td>388</td>\n",
       "      <td>0</td>\n",
       "      <td>2008-05-10</td>\n",
       "      <td>0</td>\n",
       "      <td>0</td>\n",
       "      <td>[gray, Witchery shirt]</td>\n",
       "      <td>NaN</td>\n",
       "      <td>http://images2.chictopia.com/photos/annapelle/...</td>\n",
       "      <td>\\nThis skirt is one of those items youre glad ...</td>\n",
       "      <td>1161</td>\n",
       "      <td>Style_council</td>\n",
       "      <td>No Subphotos</td>\n",
       "      <td>[Elegant, Work, Summer]</td>\n",
       "      <td>No shoes</td>\n",
       "      <td>annapelle</td>\n",
       "      <td>1</td>\n",
       "      <td>227</td>\n",
       "      <td>0</td>\n",
       "    </tr>\n",
       "  </tbody>\n",
       "</table>\n",
       "</div>"
      ],
      "text/plain": [
       "    chic_points  comments        date  favorites  followers  \\\n",
       "59         8026         9  2008-05-10          1        482   \n",
       "60         1133         5  2008-05-10          0         25   \n",
       "62          388         0  2008-05-10          3          0   \n",
       "63          856         0  2008-05-10          1         18   \n",
       "66          388         0  2008-05-10          0          0   \n",
       "\n",
       "                            garment_links              location  \\\n",
       "59                                   None                   NaN   \n",
       "60  [hoodie, Marc by Marc Jacobs sweater]  Singapore, Singapore   \n",
       "62                                   None                   NaN   \n",
       "63                          [H&M t-shirt]         Milano, Italy   \n",
       "66                 [gray, Witchery shirt]                   NaN   \n",
       "\n",
       "                                           main_photo  \\\n",
       "59  http://images0.chictopia.com/photos/poppylee/1...   \n",
       "60  http://images2.chictopia.com/photos/kokonzai2/...   \n",
       "62  http://images2.chictopia.com/photos/lipstickgi...   \n",
       "63  http://images2.chictopia.com/photos/loulouisa/...   \n",
       "66  http://images2.chictopia.com/photos/annapelle/...   \n",
       "\n",
       "                                           photo_desc  post_id  style_council  \\\n",
       "59  \\nTook this photo for my blog when I got in fr...     1154     Style_icon   \n",
       "60  \\ni think i look quite funny here haha\\nanyway...     1155  Style_council   \n",
       "62  \\nI love the Etro S/S 08 look. as said in Vogu...     1157  Style_council   \n",
       "63  \\nHung out with friends today, having a BBQ an...     1158  Style_council   \n",
       "66  \\nThis skirt is one of those items youre glad ...     1161  Style_council   \n",
       "\n",
       "       subphotos                          tags          title      username  \\\n",
       "59  No Subphotos      [Chic, Clubbing, Summer]    A bit drunk     kirstylee   \n",
       "60  No Subphotos  [Eclectic, Everyday, Summer]  i look grumpy     kokonzai2   \n",
       "62  No Subphotos    [Runway, Everyday, Summer]    Etro S/S 08  lipstickgirl   \n",
       "63  No Subphotos      [Casual, Picnic, Summer]  just chilling     loulouisa   \n",
       "66  No Subphotos       [Elegant, Work, Summer]       No shoes     annapelle   \n",
       "\n",
       "    votes  desc_length  num_subphotos  \n",
       "59     20          184              0  \n",
       "60     28          122              0  \n",
       "62      2          185              0  \n",
       "63      0          155              0  \n",
       "66      1          227              0  "
      ]
     },
     "execution_count": 83,
     "metadata": {},
     "output_type": "execute_result"
    }
   ],
   "source": [
    "train.tail()\n"
   ]
  },
  {
   "cell_type": "code",
   "execution_count": 91,
   "metadata": {
    "collapsed": false
   },
   "outputs": [
    {
     "data": {
      "text/plain": [
       "[' Fall 2007 favourite  sequins and hippie-hair. Mostly vintage peices, H&M tanktop I suppose ',\n",
       " ' Going out! February 2008, I think Occasion? Swedish hip hop concert + club. ',\n",
       " '  seems kinda top-heavy? This one is Jonatans. But I want it. For myself. Now. ',\n",
       " ' Those slippers just complete this outfit dont you think? ',\n",
       " ' Me and my adoptive son Evert <3 ',\n",
       " ' I have come to the conclusion that I am absolutely useless with a self-timer ',\n",
       " ' Quite recent picture here, this was taken 1st of May ',\n",
       " ' I would imagine one of my pre-school teachers would wear something like this, back in the day. Im a big fan of primary colors and geometric patterns, thus when I thrifted this shirt, I was thrilled. Vintage shirt: thrifted Jumper: Fleamarket vendor Shoes: Fleamarket vendor Necklace: Etsy ',\n",
       " ' The shoes are old faves and the purse I thrifted after I swore that I would never thrift a bag again. Sunglasses: H&M Khaki shirt: Thrifted Tank: ? Pencil skirt: Thrifted Lace tights: Monoprix Shoes: Thrifted Vintage purse: Thrifted ',\n",
       " ' This is outside of class.  Vest  GoodWill Jeans  GoodWill ',\n",
       " ' I was bored in english class so here I go lol.  Shirt  Urban Outfitters Jeans  Urban Outfitters Vest  Goodwill Necklace  Forever 21 Shoes  Foot Locker ',\n",
       " ' I have a terrible habit of just stoppin in the middle of class and requesting a photo of me lol. This is not my bag btw, its one of my trendy freinds lol Vest  Goodwill Jeans  Wal-Mart Shoes  Journeys ',\n",
       " ' Our class was on a field trip but I couldnt resist that scenery around me, so I had to have some one showcase my new rain boots I had bought just for the occasion lol Sweater  Goodwill Jeans  Wal-Mart Rainboots  J.Crew ',\n",
       " ' I love outfits with black and white and than just a pop of bright color! Scarf  Canal St. Shirt  Aeropostale Vest  Goodwill Jeans  Wal-mart Shoes  Journeys ',\n",
       " ' i feel like this outfit is so french-inspired with the striped shirt and silk neck scarf. i wore this outfit to work  but it could easily been worn out at night with a fun necklace in place of the scarf. ',\n",
       " ' THAT IS THE QUESTION ',\n",
       " ' is anyone here as obsessed with bowtie blouses as much as i am? After watching Anna Suis Spring 2008 runway, i was reminded of my old boarding school days singing competitions and the required uniform: long sleeve white button up shirts neatly tucked into heather grey plaid skirts, black scarf like bowties. Obviously the uniform was not nearly funky, fresh and quirky as Anna Suis collection. Here# is the runway video to the AS 08 Spring collection. I got this black silk bowtie dress/jumper from a vintage store in San Francisco. I love how the shoulder area is sheer and its got poufy sleeves, POUFY >_<. very femme. Perfect for dinner parties and such. i usuallly dont like to accessorize as much cos the bowtie already makes a statement in itself. my o how much i love my red-soled heel pumps goes really well with this dress. ',\n",
       " 'No Description',\n",
       " 'No Description',\n",
       " 'No Description',\n",
       " ' happy dais ',\n",
       " ' boo ',\n",
       " ' my mom got her wedding dress for $15. ',\n",
       " ' At Chictopia, we work very hard to make the site better for our users everyday. Helen, our CEO, personally reads through all feedbacks and gives the rest of us a list of items to work on. She gets credit for the easy navigation and fun features on the site! Last week, a few users requested having multiple photos attached to their blog entry, to enhance the browsing experience. So she gave us a wire frame drawing for us to build. Here it is! Let us know how you like it! Flow:  - upload a photo as you normally would - go to your ChicBlog - click on add additional photos ',\n",
       " ' For those of you who are interested in how we are doing since our public launch on April 25, here are some stats. 1. Number of pages viewed on our site:  142,000 2. Number of unique visitors: 6000 3. Number of pages viewed per visit: 11 4. Number of hours Chictopia members work \"every week: 60 5. Number of competition Chictopia has entered: 1  startup camp contest A contest held in San Francisco Moscone center, with over 14,000 attendees.  6. Placement in the competition: 1st place! Thanks for everyones support! Its so great to see the fruit of our labor grow and pay off! Helen was wearing this outfit when she presented at the competition. She was one of the twenty two CEOs introducing their companies. From the look of it, she was the youngest one among the crowd. She was one of the three women presenting. And. she was the winner! ',\n",
       " ' Today was my birthday.. and Im dressed very casual for the occasion.  But, Its aiiiitte~ ',\n",
       " 'No Description',\n",
       " ' i planned to wear this to meet a potential landlord but ended up changing into something less impressive and more formal. i took pictures anyway so why not post it? im feeling really stressed out about this situation because my roommate and i have had our hearts set on this amazing little apartment when we realized that her friends were moving out of it. when i saw the place my jaw literally dropped its beautiful! before i could start making plans on how i was going to decorate we were told that getting the lease passed down to us wasnt going to be as easy as we thought because these other people were inquiring and also deserved a fair chance. unfortunately, ive really fallen in love with the place and i cant really describe why. its super spacious and has so many windows!! i lovelovelove natural lighting! oh god, and two separate closets per room! AHHH! ive really hated living in the dorms for another year but thats another story. all i care about is the extra closet space!! at the moment i cant find anywhere to put my all of my clothes and its really piling up :( i wonder if the other contenders feel the same way i do about this place. this group of three freshmen sounded really confident about getting it (although we were referred by the current tenants) and were talking about where theyre going to put their stuff while we were already thinking of the other mediocre places were going to visit. well, well find out tomorrow or monday, i guess. i wish i could have taken pictures but i really didnt want to get my hopes up even more. 50/50 chance? okay, well see :( anyway, sorry for the rant. it just kind of came to me. expect my contribution to coed ugly sometime tomorrow!! ',\n",
       " ' buy online at: http://www.shopadele.com ',\n",
       " ' buy online at: http://www.shopadele.com ',\n",
       " ' buy online at: http://www.lagarconne.com ',\n",
       " ' just tryed out new style with blazer, the pic wasnt so clear cause taken by phone i like the style, but not so comfortable + is way hot to wear blazer now i am melting p.s. price in English pounds ',\n",
       " ' I so love these vintage mocs. Im a big boots fan but these are so comfy and I can rockem with skinnys or cute dresses! ',\n",
       " ' Just because I love em so much! And the buttons are kewls! ',\n",
       " ' I was at the observatory and took this pic~ Its my Jovavich Hawk dress for Target and vintage boots! HA! ',\n",
       " 'No Description',\n",
       " ' Recently, quite a few people have asked Helen how she came up with the idea for Chictopia. Here is her story. Helen has been around three web companies and knew that she had a talent for understanding user experience and building great websites. Two of the websites she managed have been nominated for the Webby award, the Oscar of website design and navigation. Its always been her dream to make a website on her own. Last October, Helen came across this old issue of Time magazine, lying around the corner of her night stand. It was the issue that named You as the person of the year. The story basically centered around the new digital age, where you, the individual, can change and shape the world by putting your music talent on Myspace, or your film production talent on YouTube. It got her thinking about other talents out there that havent been explored. The answer she came to was fashion. Like film and music, the fashion industry has traditionally been dictated by major brands, whether high end or mass produced, the inspiration of what we wear is mainly comes fashion magazines or television commercials. The images professionally shot, models hand-picked, personas elaborately fabricated. Basically, we are all dressing the way Banana Republic and J Crews design team envisioned. But what about you? The individual who has the talent to be on the design team for Prada but has not yet been discovered. The person who sets trends and creates new styles among your community? Why isnt there a portal for fashion icons to be discovered? After all, like film and music, fashion is another form of expression, based on individuality. So Helen got out her laptop and started drawing using Microsoft Paint. The wire frames of a website that would ultimately become the new fashion destination. Chictopia, style created for the people, by the people. To the left is a group of girls that she sees as style-icons-to-be.  Some have already been featured by well known websites like Teen Vogue, or Whowhatweardaily, some are still to be discovered. But one thing is for sure. They are all influential; not just within the walls of Chictopia, but amongst their own community, and the ever expanding circle of people who appreciate individual style and authenticity. From top left 1st row: fashiontoast,lulu, fashionfake 2nd row: Lindarr, Annabel,nymaan ',\n",
       " ' One of the best things about not working in an office is flexibility in dressing. I could never have gotten away with shorts around the office, even though the style of this jumper is fairly serious. But Im working from home today, going to a wine bar with some friends in a bit. This outfit can last me all day. Continued: Just got back from the wine bar. Going to the bathroom was really annoying in this outfit! Not recommended for a night of heavy drinking ',\n",
       " ' This is my typical summer look  khaki cargo shorts, t-shirt and some sort of long-sleeve shirt.  Im not sure why but I have a fetish for plaid and enjoy contrasting colors. ',\n",
       " ' Fit for a tea party in my backyard. ',\n",
       " ' I will be wearing this to work at the tea shop a lot in the summer months. My boss gave me this dress as a gift. ',\n",
       " ' Embracing wider legged jeans.. ',\n",
       " ' change is not always immediate. Maybe some other day. \\\\I NEED COLOR IN MY LIFE >_< ',\n",
       " ' This Jil Sander sheath was another gift from my boss. ',\n",
       " ' This is an outfit from several months ago, trying to overcome my winter fatigue. ',\n",
       " ' Moving too fast.. ',\n",
       " ' more of the uniqlo wide leg jeans i bought last weekend. i wore this outfit to walk around a couple of days ago and just havent had a chance to post. hat  urban outfitters  $20 shirt  simply vera wang (kohls) $25 jeans  uniqlo  $30 bag  old navy  $25 sandals  naturalizer  $60 ',\n",
       " ' hmm, this photo is turned the way it should be.  oh well. this is the grunge variation of what i wore earlier in the day. i just added the bow, eliminated the tights, switched the cardigan for the flannel and the skirt for the shorts. & changed shoes. okay that doesnt sound so simple. anyway: i wore this to go see what happens in vegas.  ashton kutcher is funny & cute. h&m hairbow, key necklace that i put together, white tee, flannel shirt, blue aa shorts under denim ae shorts, light brown ae corduroy flats, black patent faux-croc bag from aldo.  everything im wearing is sooo old.  minus the bag & the hairbow. ',\n",
       " ' somehow i managed to screw this picture up too, ill figure it out soon enough. hopefully. grandpas cardigan, whit tee, white ballet tights, tiered floral h&m skirt, white patent peeptoe wedes, a million bracelets & bangles. ',\n",
       " ' Adding a little class to a normal school day. Wearing: Shirt, shoes, necklace, tights  Thrifted Skirt  Forever 21 ',\n",
       " ' Documenting the outfit at the tail end of a house party Wearing: Jumper, leggings  Thrifted Tee  Gap ',\n",
       " ' Wearing: Dress  Gift Belt  Vintage Tights  Forever 21 Shoes  Charlotte Russe ',\n",
       " ' Wearing: Tee  Purchased @ Bob Dylan concert Vest  Forever 21 Skirt, boots  Thrifted Tights  Target ',\n",
       " ' Wearing: Cardigan, dress, tights, sunglasses  Thrifted Socks  Target Moccasins  Gift Necklace  Four Directions ',\n",
       " ' Wearing: Raincoat, tank  Thrifted Shirt  American Eagle Shorts  Gift Boots  belong to my friends mom ',\n",
       " ' i feel like marcia brady. jovovich-hawk dress for target victoria spenser wedge sandals ',\n",
       " ' plain teal t grey waist tie from a sweater dress tied around my neck as a bow black and white checked pleated shorts black jazz shoes ',\n",
       " ' Outfit for today with my lovely DIY scarf aka cutting it quite badly in an attempt to make it a square scarfyay ',\n",
       " ' Im the gal on the left. am wearing a tee from thriftshop, shorts from zara, keds not shown. ',\n",
       " ' Took this photo for my blog when I got in from a night out, hence the silly pose. Its Topshopago-go with Jonathan Saunders for Topshop dress, and socks and shoes from the same place. ',\n",
       " ' i think i look quite funny here haha anyways i tucked in my mj hoodie into an AA skirt. fun way to wear the pencil skirt ',\n",
       " ' next week is death with AP exams and my magazine publication, so ill savor the weekend while i have it and ive decided today i like cuffing my long jeans, i thought they looked stupid before but ive changed my mind ',\n",
       " ' I love the Etro S/S 08 look. as said in Vogue, it combines wetlook leggings, billowing dresses, colour blocks and fringed accessories.  This is the look I want to capture this season! ',\n",
       " ' Hung out with friends today, having a BBQ and enjoying the sun. Ready to leap into the weekend, head first! Top, Shorts, Vesty-thing, Sunglasses: All H&M ',\n",
       " ' Went clubbing with friends. Its already warm anough at night to not having to wear tights or a jacket, so to embrace summer I wore a bright dress. Dress: Zara Shoes: Lea Foscati Headband: H&M, Jewellery: H&M, Vintage ',\n",
       " ' Love the lame leggings, even though my boyfriend hates them. Oh well. We were going to a very alternative part of Sydney that night, so I figured anything goes! ',\n",
       " ' This skirt is one of those items youre glad you bought when you saw it  I noticed that a week later, the store only had one left!  It probably looks nice without a belt but then it hangs in an awkward position around my hips. ']"
      ]
     },
     "execution_count": 91,
     "metadata": {},
     "output_type": "execute_result"
    }
   ],
   "source": [
    "descriptions = df['photo_desc']\n",
    "descriptions = [str(d).replace('\\n',' ') for d in descriptions]\n",
    "descriptions"
   ]
  },
  {
   "cell_type": "code",
   "execution_count": 86,
   "metadata": {
    "collapsed": false
   },
   "outputs": [],
   "source": []
  },
  {
   "cell_type": "code",
   "execution_count": null,
   "metadata": {
    "collapsed": true
   },
   "outputs": [],
   "source": []
  }
 ],
 "metadata": {
  "anaconda-cloud": {},
  "kernelspec": {
   "display_name": "Python [Root]",
   "language": "python",
   "name": "Python [Root]"
  },
  "language_info": {
   "codemirror_mode": {
    "name": "ipython",
    "version": 2
   },
   "file_extension": ".py",
   "mimetype": "text/x-python",
   "name": "python",
   "nbconvert_exporter": "python",
   "pygments_lexer": "ipython2",
   "version": "2.7.12"
  }
 },
 "nbformat": 4,
 "nbformat_minor": 0
}
