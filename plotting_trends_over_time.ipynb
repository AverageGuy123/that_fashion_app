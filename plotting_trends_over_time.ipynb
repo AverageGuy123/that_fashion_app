{
 "cells": [
  {
   "cell_type": "code",
   "execution_count": 1,
   "metadata": {
    "collapsed": false
   },
   "outputs": [],
   "source": [
    "import pandas as pd\n",
    "from pymongo import MongoClient\n",
    "from sklearn.linear_model import LinearRegression\n",
    "from sklearn.preprocessing import PolynomialFeatures\n",
    "import matplotlib.pyplot as plt\n",
    "import seaborn\n",
    "import string\n",
    "\n",
    "from sklearn.feature_extraction.text import CountVectorizer\n",
    "import datetime\n",
    "import random\n",
    "\n",
    "%matplotlib inline"
   ]
  },
  {
   "cell_type": "markdown",
   "metadata": {},
   "source": [
    "The purpose of this notebook is to develop the Trend class and ensure that it plots correctly"
   ]
  },
  {
   "cell_type": "code",
   "execution_count": 2,
   "metadata": {
    "collapsed": false
   },
   "outputs": [],
   "source": [
    "client = MongoClient('mongodb://localhost:27017/')\n",
    "db = client['parsedA']\n",
    "posts = db['post0-5000s']\n",
    "cursor = posts.find()\n"
   ]
  },
  {
   "cell_type": "code",
   "execution_count": 3,
   "metadata": {
    "collapsed": false
   },
   "outputs": [],
   "source": [
    "df =  pd.DataFrame(list(cursor))"
   ]
  },
  {
   "cell_type": "markdown",
   "metadata": {},
   "source": [
    "I have to deal with the dates. My plan is to turn my list of ints represent year, month and day into a pandas series of dates. I'm going to do this VERY SLOWLY.\n"
   ]
  },
  {
   "cell_type": "code",
   "execution_count": 34,
   "metadata": {
    "collapsed": false
   },
   "outputs": [
    {
     "data": {
      "text/plain": [
       "pandas.core.series.Series"
      ]
     },
     "execution_count": 34,
     "metadata": {},
     "output_type": "execute_result"
    }
   ],
   "source": [
    "dates_series_1 = df.date\n",
    "type(dates_series)"
   ]
  },
  {
   "cell_type": "markdown",
   "metadata": {},
   "source": [
    "okay, take a breath. You have a series of lists. You want to turn those lists in a string. You want to join each element of the list with commas in between"
   ]
  },
  {
   "cell_type": "code",
   "execution_count": 39,
   "metadata": {
    "collapsed": false
   },
   "outputs": [],
   "source": [
    "dates_series_2 = []\n",
    "for item in dates_series_1:\n",
    "    s = \"{}, {}, {}\".format(item[0], item[1], item[2])\n",
    "    dates_series_2.append(s)\n",
    "    "
   ]
  },
  {
   "cell_type": "code",
   "execution_count": 43,
   "metadata": {
    "collapsed": false
   },
   "outputs": [],
   "source": [
    "dates_series_2 = pd.Series(dates_series_2)\n",
    "dates_series_3 = pd.to_datetime(dates_series_2)\n"
   ]
  },
  {
   "cell_type": "code",
   "execution_count": 45,
   "metadata": {
    "collapsed": false
   },
   "outputs": [
    {
     "data": {
      "text/plain": [
       "pandas.tslib.Timestamp"
      ]
     },
     "execution_count": 45,
     "metadata": {},
     "output_type": "execute_result"
    }
   ],
   "source": [
    "type(dates_series_3[5])"
   ]
  },
  {
   "cell_type": "code",
   "execution_count": 49,
   "metadata": {
    "collapsed": false
   },
   "outputs": [],
   "source": [
    "def coerce_to_datetime(series):\n",
    "    series_2 = []\n",
    "    for item in series:\n",
    "        s = \"{}, {}, {}\".format(item[0], item[1], item[2])\n",
    "        series_2.append(s)\n",
    "    series_2 = pd.Series(series_2)\n",
    "    series_3 = pd.to_datetime(series_2)\n",
    "    return series_3"
   ]
  },
  {
   "cell_type": "code",
   "execution_count": 51,
   "metadata": {
    "collapsed": false
   },
   "outputs": [],
   "source": [
    "df['datetime'] = coerce_to_datetime(df.date)"
   ]
  },
  {
   "cell_type": "code",
   "execution_count": 52,
   "metadata": {
    "collapsed": true
   },
   "outputs": [
    {
     "data": {
      "text/html": [
       "<div>\n",
       "<table border=\"1\" class=\"dataframe\">\n",
       "  <thead>\n",
       "    <tr style=\"text-align: right;\">\n",
       "      <th></th>\n",
       "      <th>_id</th>\n",
       "      <th>chic_points</th>\n",
       "      <th>comments</th>\n",
       "      <th>date</th>\n",
       "      <th>favorites</th>\n",
       "      <th>followers</th>\n",
       "      <th>garment_links</th>\n",
       "      <th>id</th>\n",
       "      <th>location</th>\n",
       "      <th>main_photo</th>\n",
       "      <th>photo_desc</th>\n",
       "      <th>post_id</th>\n",
       "      <th>style_council</th>\n",
       "      <th>subphotos</th>\n",
       "      <th>tags</th>\n",
       "      <th>title</th>\n",
       "      <th>username</th>\n",
       "      <th>votes</th>\n",
       "      <th>datetime</th>\n",
       "    </tr>\n",
       "  </thead>\n",
       "  <tbody>\n",
       "    <tr>\n",
       "      <th>0</th>\n",
       "      <td>582cd92ab9ed3a07007ad6d0</td>\n",
       "      <td>31081</td>\n",
       "      <td>2</td>\n",
       "      <td>[2008, 3, 2]</td>\n",
       "      <td>2</td>\n",
       "      <td>160155</td>\n",
       "      <td>[cashmere, free people top]</td>\n",
       "      <td>1</td>\n",
       "      <td>San Francisco, CA</td>\n",
       "      <td>http://images2.chictopia.com/photos/CheriChict...</td>\n",
       "      <td>\\nWelcome to Chictopia! A community where peop...</td>\n",
       "      <td>1</td>\n",
       "      <td>Style_council</td>\n",
       "      <td>No Subphotos</td>\n",
       "      <td>[Romantic, Work Happy Hour, Summer]</td>\n",
       "      <td>The fashion maven</td>\n",
       "      <td>CheriChictopia</td>\n",
       "      <td>11</td>\n",
       "      <td>2008-03-02</td>\n",
       "    </tr>\n",
       "    <tr>\n",
       "      <th>1</th>\n",
       "      <td>582cd92bb9ed3a07007ad6d1</td>\n",
       "      <td>431</td>\n",
       "      <td>1</td>\n",
       "      <td>[2008, 3, 2]</td>\n",
       "      <td>0</td>\n",
       "      <td>5</td>\n",
       "      <td>[parka, coat]</td>\n",
       "      <td>2</td>\n",
       "      <td>San Francisco, CA</td>\n",
       "      <td>http://images0.chictopia.com/photos/mikajones/...</td>\n",
       "      <td>\\nA winter look out on the town.  I thought th...</td>\n",
       "      <td>2</td>\n",
       "      <td>Style_council</td>\n",
       "      <td>No Subphotos</td>\n",
       "      <td>[Urban, Everyday, Summer]</td>\n",
       "      <td>Striped parka</td>\n",
       "      <td>mikajones</td>\n",
       "      <td>0</td>\n",
       "      <td>2008-03-02</td>\n",
       "    </tr>\n",
       "    <tr>\n",
       "      <th>2</th>\n",
       "      <td>582cd92bb9ed3a07007ad6d2</td>\n",
       "      <td>431</td>\n",
       "      <td>0</td>\n",
       "      <td>[2008, 3, 2]</td>\n",
       "      <td>0</td>\n",
       "      <td>5</td>\n",
       "      <td>[white, cashmere, scarf]</td>\n",
       "      <td>3</td>\n",
       "      <td>San Francisco, CA</td>\n",
       "      <td>http://images2.chictopia.com/photos/mikajones/...</td>\n",
       "      <td>\\nI dont know if shes a student, but I thought...</td>\n",
       "      <td>3</td>\n",
       "      <td>Style_council</td>\n",
       "      <td>No Subphotos</td>\n",
       "      <td>[Trendy, Everyday, Summer]</td>\n",
       "      <td>College Hip</td>\n",
       "      <td>mikajones</td>\n",
       "      <td>0</td>\n",
       "      <td>2008-03-02</td>\n",
       "    </tr>\n",
       "    <tr>\n",
       "      <th>3</th>\n",
       "      <td>582cd92bb9ed3a07007ad6d3</td>\n",
       "      <td>431</td>\n",
       "      <td>0</td>\n",
       "      <td>[2008, 3, 2]</td>\n",
       "      <td>0</td>\n",
       "      <td>5</td>\n",
       "      <td>[blue, down, jacket]</td>\n",
       "      <td>4</td>\n",
       "      <td>San Francisco, CA</td>\n",
       "      <td>http://images2.chictopia.com/photos/mikajones/...</td>\n",
       "      <td>\\nThis is a bundle of cozy scarf, jacket and u...</td>\n",
       "      <td>4</td>\n",
       "      <td>Style_council</td>\n",
       "      <td>No Subphotos</td>\n",
       "      <td>[Comfortable, Everyday, Summer]</td>\n",
       "      <td>Winter wear</td>\n",
       "      <td>mikajones</td>\n",
       "      <td>1</td>\n",
       "      <td>2008-03-02</td>\n",
       "    </tr>\n",
       "    <tr>\n",
       "      <th>4</th>\n",
       "      <td>582cd92cb9ed3a07007ad6d4</td>\n",
       "      <td>431</td>\n",
       "      <td>0</td>\n",
       "      <td>[2008, 3, 2]</td>\n",
       "      <td>0</td>\n",
       "      <td>5</td>\n",
       "      <td>[blue, knit, jacket]</td>\n",
       "      <td>5</td>\n",
       "      <td>San Francisco, CA</td>\n",
       "      <td>http://images2.chictopia.com/photos/mikajones/...</td>\n",
       "      <td>\\nI thought this was a comfortable but stylish...</td>\n",
       "      <td>5</td>\n",
       "      <td>Style_council</td>\n",
       "      <td>No Subphotos</td>\n",
       "      <td>[Comfortable, Everyday, Summer]</td>\n",
       "      <td>Urban cozy-wear</td>\n",
       "      <td>mikajones</td>\n",
       "      <td>0</td>\n",
       "      <td>2008-03-02</td>\n",
       "    </tr>\n",
       "  </tbody>\n",
       "</table>\n",
       "</div>"
      ],
      "text/plain": [
       "                        _id  chic_points  comments          date  favorites  \\\n",
       "0  582cd92ab9ed3a07007ad6d0        31081         2  [2008, 3, 2]          2   \n",
       "1  582cd92bb9ed3a07007ad6d1          431         1  [2008, 3, 2]          0   \n",
       "2  582cd92bb9ed3a07007ad6d2          431         0  [2008, 3, 2]          0   \n",
       "3  582cd92bb9ed3a07007ad6d3          431         0  [2008, 3, 2]          0   \n",
       "4  582cd92cb9ed3a07007ad6d4          431         0  [2008, 3, 2]          0   \n",
       "\n",
       "   followers                garment_links  id           location  \\\n",
       "0     160155  [cashmere, free people top]   1  San Francisco, CA   \n",
       "1          5                [parka, coat]   2  San Francisco, CA   \n",
       "2          5     [white, cashmere, scarf]   3  San Francisco, CA   \n",
       "3          5         [blue, down, jacket]   4  San Francisco, CA   \n",
       "4          5         [blue, knit, jacket]   5  San Francisco, CA   \n",
       "\n",
       "                                          main_photo  \\\n",
       "0  http://images2.chictopia.com/photos/CheriChict...   \n",
       "1  http://images0.chictopia.com/photos/mikajones/...   \n",
       "2  http://images2.chictopia.com/photos/mikajones/...   \n",
       "3  http://images2.chictopia.com/photos/mikajones/...   \n",
       "4  http://images2.chictopia.com/photos/mikajones/...   \n",
       "\n",
       "                                          photo_desc  post_id  style_council  \\\n",
       "0  \\nWelcome to Chictopia! A community where peop...        1  Style_council   \n",
       "1  \\nA winter look out on the town.  I thought th...        2  Style_council   \n",
       "2  \\nI dont know if shes a student, but I thought...        3  Style_council   \n",
       "3  \\nThis is a bundle of cozy scarf, jacket and u...        4  Style_council   \n",
       "4  \\nI thought this was a comfortable but stylish...        5  Style_council   \n",
       "\n",
       "      subphotos                                 tags              title  \\\n",
       "0  No Subphotos  [Romantic, Work Happy Hour, Summer]  The fashion maven   \n",
       "1  No Subphotos            [Urban, Everyday, Summer]      Striped parka   \n",
       "2  No Subphotos           [Trendy, Everyday, Summer]        College Hip   \n",
       "3  No Subphotos      [Comfortable, Everyday, Summer]        Winter wear   \n",
       "4  No Subphotos      [Comfortable, Everyday, Summer]    Urban cozy-wear   \n",
       "\n",
       "         username  votes   datetime  \n",
       "0  CheriChictopia     11 2008-03-02  \n",
       "1       mikajones      0 2008-03-02  \n",
       "2       mikajones      0 2008-03-02  \n",
       "3       mikajones      1 2008-03-02  \n",
       "4       mikajones      0 2008-03-02  "
      ]
     },
     "execution_count": 52,
     "metadata": {},
     "output_type": "execute_result"
    }
   ],
   "source": [
    "df.head()"
   ]
  },
  {
   "cell_type": "code",
   "execution_count": 53,
   "metadata": {
    "collapsed": true
   },
   "outputs": [],
   "source": [
    "test = df.sample(frac=0.15)\n",
    "train_and_cross_val = df.loc[~df.index.isin(test.index)]"
   ]
  },
  {
   "cell_type": "code",
   "execution_count": 54,
   "metadata": {
    "collapsed": true
   },
   "outputs": [],
   "source": [
    "cross_val = train_and_cross_val.sample(frac=0.2)\n",
    "train = train_and_cross_val.loc[~train_and_cross_val.index.isin(cross_val.index)]"
   ]
  },
  {
   "cell_type": "code",
   "execution_count": 110,
   "metadata": {
    "collapsed": false
   },
   "outputs": [],
   "source": [
    "class Trend(object):\n",
    "\n",
    "    def __init__(self, phrase, garment_type):\n",
    "        self.phrase = phrase\n",
    "        self.type = garment_type\n",
    "\n",
    "\n",
    "    def plot_over_time(self, df, date_begin, date_end):\n",
    "        '''\n",
    "        Creates a plot showing the term frequency of the Trend\n",
    "        over a given date range\n",
    "        INPUT: dataframe contaiing dates and descriptions,\n",
    "                start and end date in std format ['1980-01-15']\n",
    "        OUTPUT: matplotlib object\n",
    "        '''\n",
    "\n",
    "        term_frequencies_by_day = []\n",
    "        rng = pd.date_range(date_begin, date_end)\n",
    "        print rng\n",
    "    \n",
    "        for a_date in rng:\n",
    "            mask = df.datetime == a_date\n",
    "            segment = df[mask]\n",
    "            segment = segment.photo_desc\n",
    "            for row in segment:\n",
    "                ct = 0\n",
    "                if self.phrase in row:\n",
    "                    ct+=1\n",
    "            term_frequencies_by_day.append(ct)\n",
    "\n",
    "        #plot dates on x axis, frequency on y-axis\n",
    "        tf_plot = plt.plot(rng, term_frequencies_by_day)\n",
    "        return tf_plot\n",
    "    \n",
    "    \n",
    "    \n",
    "    "
   ]
  },
  {
   "cell_type": "code",
   "execution_count": 115,
   "metadata": {
    "collapsed": true
   },
   "outputs": [],
   "source": [
    "dress = Trend(\"dress\", \"allover\")\n",
    "gladiator = Trend(\"gladiator\", \"shoes\")\n",
    "jeans = Trend(\"jeans\", \"pants\")\n"
   ]
  },
  {
   "cell_type": "code",
   "execution_count": 117,
   "metadata": {
    "collapsed": false
   },
   "outputs": [
    {
     "name": "stdout",
     "output_type": "stream",
     "text": [
      "DatetimeIndex(['2008-03-02', '2008-03-03', '2008-03-04', '2008-03-05',\n",
      "               '2008-03-06', '2008-03-07', '2008-03-08', '2008-03-09',\n",
      "               '2008-03-10', '2008-03-11',\n",
      "               ...\n",
      "               '2008-06-06', '2008-06-07', '2008-06-08', '2008-06-09',\n",
      "               '2008-06-10', '2008-06-11', '2008-06-12', '2008-06-13',\n",
      "               '2008-06-14', '2008-06-15'],\n",
      "              dtype='datetime64[ns]', length=106, freq='D')\n"
     ]
    },
    {
     "data": {
      "text/plain": [
       "[<matplotlib.lines.Line2D at 0x11bdc8950>]"
      ]
     },
     "execution_count": 117,
     "metadata": {},
     "output_type": "execute_result"
    },
    {
     "data": {
      "image/png": "[encoded data removed]",
      "text/plain": [
       "<matplotlib.figure.Figure at 0x11bafddd0>"
      ]
     },
     "metadata": {},
     "output_type": "display_data"
    }
   ],
   "source": [
    "jeans.plot_over_time(train, '2008-03-02', '2008-06-15')"
   ]
  },
  {
   "cell_type": "code",
   "execution_count": null,
   "metadata": {
    "collapsed": true
   },
   "outputs": [],
   "source": []
  },
  {
   "cell_type": "code",
   "execution_count": null,
   "metadata": {
    "collapsed": true
   },
   "outputs": [],
   "source": []
  },
  {
   "cell_type": "code",
   "execution_count": null,
   "metadata": {
    "collapsed": true
   },
   "outputs": [],
   "source": []
  },
  {
   "cell_type": "code",
   "execution_count": null,
   "metadata": {
    "collapsed": true
   },
   "outputs": [],
   "source": []
  },
  {
   "cell_type": "code",
   "execution_count": null,
   "metadata": {
    "collapsed": true
   },
   "outputs": [],
   "source": []
  },
  {
   "cell_type": "code",
   "execution_count": null,
   "metadata": {
    "collapsed": true
   },
   "outputs": [],
   "source": []
  }
 ],
 "metadata": {
  "anaconda-cloud": {},
  "kernelspec": {
   "display_name": "Python [Root]",
   "language": "python",
   "name": "Python [Root]"
  },
  "language_info": {
   "codemirror_mode": {
    "name": "ipython",
    "version": 2
   },
   "file_extension": ".py",
   "mimetype": "text/x-python",
   "name": "python",
   "nbconvert_exporter": "python",
   "pygments_lexer": "ipython2",
   "version": "2.7.12"
  }
 },
 "nbformat": 4,
 "nbformat_minor": 0
}
