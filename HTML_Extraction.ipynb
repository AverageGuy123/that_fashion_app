{
 "cells": [
  {
   "cell_type": "code",
   "execution_count": 3,
   "metadata": {
    "collapsed": true
   },
   "outputs": [],
   "source": [
    "import json\n",
    "from bs4 import BeautifulSoup"
   ]
  },
  {
   "cell_type": "markdown",
   "metadata": {},
   "source": [
    "The purpose of this notebook is to get all my beautifulSoup calls correctly formatted"
   ]
  },
  {
   "cell_type": "code",
   "execution_count": 6,
   "metadata": {
    "collapsed": true
   },
   "outputs": [],
   "source": [
    "path = '../chic_data/chic_export_1.json'\n",
    "is_exists = []\n",
    "check = []\n",
    "features_collect = []"
   ]
  },
  {
   "cell_type": "code",
   "execution_count": 7,
   "metadata": {
    "collapsed": false
   },
   "outputs": [],
   "source": [
    "with open(path) as json_data:\n",
    "    for line in json_data:\n",
    "        entry = json.loads(line)"
   ]
  },
  {
   "cell_type": "code",
   "execution_count": 15,
   "metadata": {
    "collapsed": false
   },
   "outputs": [],
   "source": [
    "entry\n",
    "fd = {}"
   ]
  },
  {
   "cell_type": "code",
   "execution_count": 16,
   "metadata": {
    "collapsed": true
   },
   "outputs": [],
   "source": [
    "def check_status(html):\n",
    "    '''some entries either refer to urls with no photo or return an error\n",
    "    this function will alert to pages that do not exist and flag pages that should\n",
    "    rechecked'''\n",
    "    soup = BeautifulSoup(html, \"html.parser\")\n",
    "    output = ''\n",
    "    text = str(soup.find())\n",
    "    if text.startswith('<response [200]') or text.startswith('<response [404]'):\n",
    "        output = 'check'\n",
    "    elif soup.title.text == u\"The page you are looking for doesn't exist | Chictopia\":\n",
    "        output = \"DNE\"\n",
    "    else:\n",
    "        output = \"passed\"\n",
    "    return output"
   ]
  },
  {
   "cell_type": "code",
   "execution_count": 17,
   "metadata": {
    "collapsed": true
   },
   "outputs": [],
   "source": [
    "html = entry['html'] \n",
    "\n",
    "soup = BeautifulSoup(html, \"html.parser\")"
   ]
  },
  {
   "cell_type": "code",
   "execution_count": 18,
   "metadata": {
    "collapsed": false
   },
   "outputs": [
    {
     "data": {
      "text/plain": [
       "u'freaky friday'"
      ]
     },
     "execution_count": 18,
     "metadata": {},
     "output_type": "execute_result"
    }
   ],
   "source": [
    "title = soup.find(\"h1\", { \"class\":\"photo_title\"}).text\n",
    "title"
   ]
  },
  {
   "cell_type": "code",
   "execution_count": 19,
   "metadata": {
    "collapsed": false
   },
   "outputs": [],
   "source": [
    "#I would like to be able to extract just the urls\n",
    "sub_photos = soup.find(\"div\", {\"class\":\"subphoto_items\"})\n",
    "if sub_photos is not None:\n",
    "    sub_photos = sub_photos.findChildren(\"img\")\n",
    "    sub_photos = [photo.get(\"src\") for photo in sub_photos]\n",
    "    str(sub_photos)\n",
    "else:\n",
    "    \"n/a\""
   ]
  },
  {
   "cell_type": "code",
   "execution_count": 20,
   "metadata": {
    "collapsed": false
   },
   "outputs": [
    {
     "data": {
      "text/plain": [
       "u'http://images0.chictopia.com/photos/fununderthesun/5013795741/5013795741_400.jpg'"
      ]
     },
     "execution_count": 20,
     "metadata": {},
     "output_type": "execute_result"
    }
   ],
   "source": [
    "#here also src would be helpful\n",
    "main_photo = soup.find(\"div\", {\"id\" : \"image_wrap\"}).findChild(\"img\").get(\"src\")\n",
    "main_photo\n"
   ]
  },
  {
   "cell_type": "code",
   "execution_count": 21,
   "metadata": {
    "collapsed": false
   },
   "outputs": [],
   "source": [
    "votes = soup.find(\"div\", {\"id\": \"vote_text_100000\"})\n",
    "if votes is not None:\n",
    "    votes = votes.text\n",
    "    votes = int(votes.split()[0])\n",
    "    fd['votes'] = int(votes)\n",
    "else:\n",
    "    fd['votes'] = 0"
   ]
  },
  {
   "cell_type": "code",
   "execution_count": 22,
   "metadata": {
    "collapsed": false
   },
   "outputs": [],
   "source": [
    "comments = soup.find(\"div\", {\"id\": \"comment_text_100000\"})\n",
    "if comments is not None:\n",
    "    comments = comments.text\n",
    "    comments = int(comments.split()[0])\n",
    "    fd['comments'] = int(comments)\n",
    "else:\n",
    "    fd['comments'] = 0"
   ]
  },
  {
   "cell_type": "code",
   "execution_count": 23,
   "metadata": {
    "collapsed": false
   },
   "outputs": [],
   "source": [
    "faves = soup.find(\"div\", {\"id\": \"favorite_text_100000\"})\n",
    "if faves is not None:\n",
    "    faves = faves.text\n",
    "    faves = int(faves.split()[0])\n",
    "    fd['favorites'] = int(faves)\n",
    "else:\n",
    "    fd['faves'] = 0"
   ]
  },
  {
   "cell_type": "code",
   "execution_count": 24,
   "metadata": {
    "collapsed": false
   },
   "outputs": [
    {
     "data": {
      "text/plain": [
       "[u'Casual', u'Cocktail', u'fall']"
      ]
     },
     "execution_count": 24,
     "metadata": {},
     "output_type": "execute_result"
    }
   ],
   "source": [
    "tags = soup.find(\"div\", {\"id\": \"tag_boxes\"}).findChildren(\"a\")\n",
    "tags = [tag.text for tag in tags]\n",
    "tags\n"
   ]
  },
  {
   "cell_type": "code",
   "execution_count": 25,
   "metadata": {
    "collapsed": false
   },
   "outputs": [
    {
     "data": {
      "text/plain": [
       "u'\\nscarf and belt vintage.\\ndress topshop.\\nsilver sling bag topshop. '"
      ]
     },
     "execution_count": 25,
     "metadata": {},
     "output_type": "execute_result"
    }
   ],
   "source": [
    "desc = soup.find(\"div\", {\"id\": \"photo_description\"}).text\n",
    "desc"
   ]
  },
  {
   "cell_type": "code",
   "execution_count": 26,
   "metadata": {
    "collapsed": true
   },
   "outputs": [],
   "source": [
    "#this doesn't exist on this page. I probably need a contingency for any time an element doesn't exist\n",
    "\n",
    "links = soup.find(\"div\",{\"class\": \"garmentLinks\"})\n",
    "links"
   ]
  },
  {
   "cell_type": "code",
   "execution_count": 27,
   "metadata": {
    "collapsed": false
   },
   "outputs": [
    {
     "data": {
      "text/plain": [
       "u'Style_council'"
      ]
     },
     "execution_count": 27,
     "metadata": {},
     "output_type": "execute_result"
    }
   ],
   "source": [
    "style_council = soup.find(\"div\", {\"class\":\"help\"}).findChild(\"img\").get(\"alt\")\n",
    "style_council"
   ]
  },
  {
   "cell_type": "code",
   "execution_count": 38,
   "metadata": {
    "collapsed": false
   },
   "outputs": [
    {
     "name": "stdout",
     "output_type": "stream",
     "text": [
      "no followers\n"
     ]
    }
   ],
   "source": [
    "#need contingency for when people have 0 followers like here\n",
    "followers = soup.find(\"div\", {\"id\":\"follow\"}).text\n",
    "if followers != '\\n\\n':\n",
    "    print followers\n",
    "else:\n",
    "    print \"no followers\"\n",
    "    "
   ]
  },
  {
   "cell_type": "code",
   "execution_count": 37,
   "metadata": {
    "collapsed": false
   },
   "outputs": [
    {
     "data": {
      "text/plain": [
       "u'\\n\\n'"
      ]
     },
     "execution_count": 37,
     "metadata": {},
     "output_type": "execute_result"
    }
   ],
   "source": [
    "soup.find(\"div\", {\"id\":\"follow\"}).text"
   ]
  },
  {
   "cell_type": "code",
   "execution_count": null,
   "metadata": {
    "collapsed": true
   },
   "outputs": [],
   "source": []
  },
  {
   "cell_type": "code",
   "execution_count": null,
   "metadata": {
    "collapsed": false
   },
   "outputs": [],
   "source": [
    "username = soup.find(\"div\",{ \"id\":\"name_div\"}).findChild(\"a\").text\n",
    "username"
   ]
  },
  {
   "cell_type": "code",
   "execution_count": null,
   "metadata": {
    "collapsed": false
   },
   "outputs": [],
   "source": [
    "location = soup.find(\"div\", {\"id\":\"loc_div\"}).findChild(\"a\").text\n",
    "location"
   ]
  },
  {
   "cell_type": "code",
   "execution_count": null,
   "metadata": {
    "collapsed": false
   },
   "outputs": [],
   "source": [
    "chic_points = soup.find(\"div\", {\"itemprop\": \"author\"}).findChildren(\"div\", {\"class\":\"px10\"})[2].text\n",
    "chic_points = chic_points.split()[0]\n",
    "chic_points"
   ]
  },
  {
   "cell_type": "code",
   "execution_count": null,
   "metadata": {
    "collapsed": false
   },
   "outputs": [],
   "source": [
    "date = soup.find(\"meta\", {\"itemprop\":\"dateCreated\"}).get(\"content\")\n",
    "date"
   ]
  },
  {
   "cell_type": "code",
   "execution_count": null,
   "metadata": {
    "collapsed": true
   },
   "outputs": [],
   "source": [
    "#create a features dictionary\n",
    "fd = {}"
   ]
  },
  {
   "cell_type": "code",
   "execution_count": null,
   "metadata": {
    "collapsed": false
   },
   "outputs": [],
   "source": [
    "labels = [username, title, date, location, desc, chic_points, followers, votes, comments, faves, \\\n",
    "              style_council, links, tags, main_photo, sub_photos]\n",
    "\n"
   ]
  },
  {
   "cell_type": "code",
   "execution_count": null,
   "metadata": {
    "collapsed": true
   },
   "outputs": [],
   "source": []
  }
 ],
 "metadata": {
  "kernelspec": {
   "display_name": "Python [Root]",
   "language": "python",
   "name": "Python [Root]"
  },
  "language_info": {
   "codemirror_mode": {
    "name": "ipython",
    "version": 2
   },
   "file_extension": ".py",
   "mimetype": "text/x-python",
   "name": "python",
   "nbconvert_exporter": "python",
   "pygments_lexer": "ipython2",
   "version": "2.7.12"
  }
 },
 "nbformat": 4,
 "nbformat_minor": 0
}
