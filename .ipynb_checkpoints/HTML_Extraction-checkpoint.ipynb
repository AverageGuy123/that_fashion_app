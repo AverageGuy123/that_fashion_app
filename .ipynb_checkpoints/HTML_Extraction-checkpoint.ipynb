{
 "cells": [
  {
   "cell_type": "code",
   "execution_count": 3,
   "metadata": {
    "collapsed": true
   },
   "outputs": [],
   "source": [
    "import json\n",
    "from bs4 import BeautifulSoup"
   ]
  },
  {
   "cell_type": "markdown",
   "metadata": {},
   "source": [
    "The purpose of this notebook is to get all my beautifulSoup calls correctly formatted"
   ]
  },
  {
   "cell_type": "code",
   "execution_count": 68,
   "metadata": {
    "collapsed": true
   },
   "outputs": [],
   "source": [
    "path = '../chic_data/chic_export_24.json'\n",
    "is_exists = []\n",
    "check = []\n",
    "features_collect = []\n",
    "htmls = []"
   ]
  },
  {
   "cell_type": "code",
   "execution_count": 69,
   "metadata": {
    "collapsed": false
   },
   "outputs": [],
   "source": [
    "with open(path) as json_data:\n",
    "    for line in json_data:\n",
    "        entry = json.loads(line)\n",
    "        html = entry['html'] \n",
    "        id_num = entry['id']\n",
    "        htmls.append([html, id_num])\n",
    "        \n"
   ]
  },
  {
   "cell_type": "code",
   "execution_count": 70,
   "metadata": {
    "collapsed": false
   },
   "outputs": [
    {
     "data": {
      "text/plain": [
       "24"
      ]
     },
     "execution_count": 70,
     "metadata": {},
     "output_type": "execute_result"
    }
   ],
   "source": [
    "len(htmls)\n",
    "\n"
   ]
  },
  {
   "cell_type": "code",
   "execution_count": 71,
   "metadata": {
    "collapsed": false
   },
   "outputs": [],
   "source": [
    "sample1 = htmls[6][0]\n",
    "sample2 = htmls[12][0]\n",
    "sample3 = htmls[18][0]\n",
    "sample4 = htmls[23][0]"
   ]
  },
  {
   "cell_type": "code",
   "execution_count": 72,
   "metadata": {
    "collapsed": true
   },
   "outputs": [],
   "source": [
    "soup = BeautifulSoup(sample1, \"html.parser\")"
   ]
  },
  {
   "cell_type": "code",
   "execution_count": 73,
   "metadata": {
    "collapsed": false
   },
   "outputs": [
    {
     "data": {
      "text/plain": [
       "<!DOCTYPE html>\\n\\n<html lang=\"en\" xml:lang=\"en\" xmlns=\"http://www.w3.org/1999/xhtml\" xmlns:fb=\"http://www.facebook.com/2008/fbml\" xmlns:wb=\"http://open.weibo.com/wb\">\\n<head prefix=\"og: http://ogp.me/ns# app_chictopia: http://ogp.me/ns/apps/app_chictopia#\">\\n<meta charset=\"unicode-escape\"/>\\n<title>Men's Chai Jackets | \"Fly me Fly me!!\" by techin | Chictopia</title>\\n<meta content=\"Discover this look wearing Chai Jackets tagged art, fall fashion trends, fashion, happy, photography - Fly me Fly me!! by techin styled for Casual, Clubbing in the Spring\" name=\"description\"/>\\n<link href=\"http://www.chictopia.com/assets/application-8f996d59e9a18e50a6a5732bd45bc0fe.css\" media=\"all\" rel=\"stylesheet\" type=\"text/css\"/>\\n<script src=\"//ajax.googleapis.com/ajax/libs/jquery/1.8.0/jquery.min.js\" type=\"text/javascript\"></script>\\n<script src=\"https://d1b7u2ujuyo838.cloudfront.net/images/libraries/jquery.placeholder.js\"></script>\\n<script src=\"http://www.chictopia.com/assets/application-620b76c66db278ab858341d8b3201620.js\" type=\"text/javascript\"></script>\\n<meta content=\"authenticity_token\" name=\"csrf-param\"/>\\n<meta content=\"O0tRGtOaED+jFrsxhEAx31E0hQpSzmA8GJtjXf0xlDQ=\" name=\"csrf-token\"/>\\n<link href=\"/favicon.ico?v=2\" rel=\"shortcut icon\"/>\\n<meta content=\"wzDRarZCv2GPgmcMfFM3ZYN73nc/NPKgTeifRBZEDss=\" name=\"verify-v1\"/>\\n<meta content=\"722F34A91D292AFBAC015F63B40E1CB5\" name=\"msvalidate.01\"/>\\n<meta content=\"app_chictopia:photo\" property=\"og:type\"/>\\n<meta content=\"Fly me Fly me!!\" property=\"og:title\"/>\\n<meta content=\"http://assets0.chictopia.com/photos/techin/7043981989/7043981989.jpg\" property=\"og:image\"/>\\n<meta content=\"http://www.chictopia.com/photo/show/100019-Fly+me+Fly+me-chai-jacket\" property=\"og:url\"/>\\n<meta content=\"FAshion set !! have some pic funny Lol\" property=\"og:description\"/>\\n<meta content=\"103608358170\" property=\"fb:app_id\"/>\\n<script src=\"https://d1b7u2ujuyo838.cloudfront.net/images/libraries/jquery.tools.1.2.7.min.js\" type=\"text/javascript\"></script>\\n<!-- google analytics -->\\n<script type=\"text/javascript\">\\n  var _gaq = _gaq || [];\\n  _gaq.push(['_setAccount', 'UA-3139503-1']);\\n  _gaq.push(['_setDomainName', '.chictopia.com']);\\n  _gaq.push(['_setSiteSpeedSampleRate', 100]);\\n  _gaq.push(['_trackPageview']);\\n  (function() {\\n    var ga = document.createElement('script'); ga.type = 'text/javascript'; ga.async = true;\\n    ga.src = ('https:' == document.location.protocol ? 'https://ssl' : 'http://www') + '.google-analytics.com/ga.js';\\n    var s = document.getElementsByTagName('script')[0]; s.parentNode.insertBefore(ga, s);\\n  })();\\n  \\n  (function(i,s,o,g,r,a,m){i['GoogleAnalyticsObject']=r;i[r]=i[r]||function(){\\n  (i[r].q=i[r].q||[]).push(arguments)},i[r].l=1*new Date();a=s.createElement(o),\\n  m=s.getElementsByTagName(o)[0];a.async=1;a.src=g;m.parentNode.insertBefore(a,m)\\n  })(window,document,'script','//www.google-analytics.com/analytics.js','ga');\\n  ga('create', 'UA-3139503-6', {'cookieDomain': '.chictopia.com'});\\n  ga('send', 'pageview');\\n  ga('set', 'dimension1', '0');\\n  \\n  function GA_trackEvent(category, action, label) {\\n    if(typeof label == 'undefined') {\\n      label = window.location.protocol +\\n        '//' + window.location.hostname +\\n        window.location.pathname +\\n        window.location.search;\\n    }\\n    _gaq.push(['_trackEvent', category, action, label]);\\n    ga('send', 'event', category, action, label);\\n  }\\n  function GA_trackPageView(url) {\\n    _gaq.push(['_trackPageview', url]);\\n    ga('send', 'pageview', url)\\n  }\\n</script>\\n<script src=\"//partner.googleadservices.com/gampad/google_service.js\" type=\"text/javascript\">\\n</script>\\n<script type=\"text/javascript\">\\n          GS_googleAddAdSenseService(\"ca-pub-0637175759187391\");\\n          GS_googleEnableAllServices();\\n        </script>\\n<script charset=\"utf-8\" src=\"http://tjs.sjs.sinajs.cn/open/api/js/wb.js\" type=\"text/javascript\"></script>\\n<script>\\n    $(document).ready(function() {\\n      $.ajaxSetup({ cache: true });\\n      $.getScript('//connect.facebook.net/en_UK/all.js', function(){\\n        FB.init({\\n          appId: '103608358170',\\n          status: true, \\n          cookie: true,\\n          oauth: true,\\n          xfbml: true\\n        });\\n      });    \\n    });\\n  </script>\\n<script async=\"\" defer=\"\" src=\"https://www.google.com/recaptcha/api.js\"></script>\\n</head>\\n<body itemscope=\"\" itemtype=\"http://schema.org/WebPage\" style=\"overflow-x:hidden;overflow-y:scroll\">\\n<div>\\n<div class=\"clear\"></div>\\n<div class=\"noskin\" id=\"topborder\">\\n<div id=\"navheader\">\\n<div id=\"topmenu_div\">\\n<ul id=\"topmenu\">\\n<li class=\" \">\\n<a href=\"/\">Home</a>\\n</li>\\n<li class=\" \">\\n<a href=\"/browse/people\" rel=\"stylegallery_submenu\">Street Style</a>\\n</li>\\n<li class=\" \">\\n<a href=\"/community/chictopians\" rel=\"community_submenu\">Community</a>\\n</li>\\n</ul>\\n</div> <!-- end topmenu div -->\\n<div class=\"submenu_2\" id=\"stylegallery_submenu\">\\n<div>\\n<a href=\"/browse/people\">#OOTD Gallery</a> <a href=\"/browse/new_photos/approve\">New Photos</a> <a href=\"/browse/people?g=2\">Men's Gallery</a> </div>\\n<div>\\n<a href=\"/browse/people?ti=2\">Top This Week</a> <a href=\"/browse/people?ti=3\">Top This Month</a> <a href=\"/account/signup?src=sg\">People Like Me</a>\\n</div>\\n</div>\\n<div class=\"submenu_2\" id=\"shop_submenu\">\\n<div class=\"col1\">\\n<a href=\"/shop\">Featured</a>\\n<a class=\"shop_submenu_sale cap\" href=\"/shop?ti=5\">sale</a>\\n<a href=\"/shop?ti=1\">New Arrivals</a>\\n</div>\\n<div class=\"col2\">\\n<a href=\"/shop?ti=6\">All</a>\\n<a href=\"/shop/tops?ti=6\">Tops</a>\\n<a href=\"/shop/dresses?ti=6\">Dresses</a>\\n</div>\\n<div class=\"col3\">\\n<a href=\"/shop/accessories?ti=6\">Accessories</a>\\n<a href=\"/shop/skirts?ti=6\">Skirts</a>\\n<a href=\"/shop/bottoms?ti=6\">Bottoms</a>\\n</div>\\n<div class=\"col4\">\\n<a href=\"/shop/vintage?ti=6\">Vintage</a>\\n<a href=\"/shop/shoes?ti=6\">Shoes</a>\\n<a class=\"shop_submenu_sellonshop\" href=\"/upload/shop_photo\">Sell on Shop</a>\\n</div>\\n</div>\\n<div class=\"submenu_2\" id=\"reward_submenu\">\\n<a href=\"/rewards/recent\">New Rewards</a> <a href=\"/rewards/notredeemed\">Unredeemed</a> <a href=\"/upload/reward\">Sponsor a Reward</a> </div>\\n<div class=\"submenu_2\" id=\"community_submenu\">\\n<a href=\"/forums\">Forum</a> <a href=\"/photo/everybody\">Blog</a> <a href=\"/reviews\">Reviews</a> </div>\\n<div id=\"topmenu_searchbar_container\">\\n<div style=\"height:18px;\">\\n<div id=\"searchbar_small\" style=\"display:none;\">\\n<form accept-charset=\"UTF-8\" action=\"/search/term_redirect\" id=\"search_sm\" method=\"post\"><div style=\"margin:0;padding:0;display:inline\"><input name=\"utf8\" type=\"hidden\" value=\"\\u2713\"/><input name=\"authenticity_token\" type=\"hidden\" value=\"O0tRGtOaED+jFrsxhEAx31E0hQpSzmA8GJtjXf0xlDQ=\"/></div> <div class=\"left\">\\n<input class=\"px12\" id=\"search_sm_text\" maxlength=\"50\" name=\"search\" placeholder=\"Search\" style=\"width:115px;height:15px;border:1px solid white;background-color:#fff;text-align:left;padding:0px 5px;\" type=\"text\"/>\\n</div>\\n<div class=\"left\" style=\"width:15px;height:15px;margin:2px 0px 0px -15px;background-color:white;overflow:hidden;\">\\n<div onclick=\"jQuery('#search_sm').submit();\" style=\"height:14px;width:14px;overflow:hidden;position:relative;padding:0px;margin:0px;cursor:pointer;\"><img alt=\" \" id=\"sp1\" src=\"http://images0.chictopia.com/images/site/sprites/gallery_sprite10.png\" style=\"position:absolute;left:-25px;top:-100px;\"/></div>\\n</div>\\n</form> <script>\\n        jQuery('#search_sm').submit(function(){ if(jQuery(this).find('input[type=\"text\"]').val().match(/^\\\\s*$/)){return false;} });\\n      </script>\\n</div>\\n</div>\\n</div>\\n<div id=\"rightmenu_div\" style=\"position:relative;\">\\n<div id=\"chictopia_alert1_container\">\\n<div style=\"display:block\">\\n<div id=\"chictopia_alert1\">\\n<div class=\"closebutton\" onclick=\"close_alert();\">\\n<a href=\"javascript:close_alert()\"><img alt=\"Close_small\" src=\"http://images0.chictopia.com/images/site/close_small.png\"/></a>\\n</div>\\n<div class=\"left\" onclick=\"location.href='http://www.chictopiaconnect.com'\" style=\"margin-right:5px;\">Sponsor Top Bloggers on Chictopia.</div><a href=\"http://www.chictopiaconnect.com\" onclick=\"close_alert()\"><div class=\"left\"><strong>Go Here</strong></div><div class=\"left\" style=\"margin:0 0 0 5px\"><img alt=\"Arrowright\" src=\"http://images2.chictopia.com/images/site/arrowright.png\"/></div></a>\\n</div>\\n</div>\\n</div>\\n<ul id=\"rightmenu\">\\n<li><a href=\"#\" onclick=\"return false;; return false;\" rel=\"menu_locale\"></a></li>\\n<li><a href=\"/account\" onclick=\"GA_trackEvent('Login', 'ClickLink', 'Top Menu');\" rel=\"fb_login\">Login</a></li>\\n<li><a class=\"rightmenu_signup\" href=\"/account/signup\" onclick=\"GA_trackEvent('Signup', 'ClickLink', 'Top Menu');\">Signup</a></li>\\n<li class=\"\">\\n<a href=\"#\" onclick=\"return false;; return false;\" rel=\"upload_submenu\"><span onclick=\"showUploadPopup();\">Upload</span></a>\\n</li>\\n<li><a href=\"/rewards/recent\" rel=\"chicpoints_infobox\" style=\"margin-left:0px;\">0 Chic Points</a></li>\\n</ul>\\n<div style=\"position:absolute;top:40px;left:180px;width:200px;margin:0px auto\">\\n<div id=\"new_notification_sticker\" style=\"z-index:200;display:none;\">\\n<script>\\n            var timeout;\\n            $('#notification_hover').mouseenter(function(){\\n                $('#notification_active').show(); $('#notification_nonactive').hide();\\n                $('#new_notification_sticker').show();\\n            });\\n            $('#notification_hover').mouseleave(function(){\\n                timeout = setTimeout(function(){\\n                  $('#notification_active').hide(); $('#notification_nonactive').show();\\n                  $('#new_notification_sticker').hide();\\n                  }, 300);\\n            });\\n            $('#new_notification_sticker').mouseenter(function(){\\n                clearTimeout(timeout);\\n            });\\n            $('#new_notification_sticker').mouseleave(function(){\\n               $('#notification_active').hide(); $('#notification_nonactive').show();\\n               $('#new_notification_sticker').hide();\\n            });\\n          </script>\\n<div class=\"closebutton\">\\n<a href=\"#\" onclick=\"jQuery('#new_notification_sticker').hide();jQuery.post('/notifications/ajax_mark_all_as_seen', 'clear=last_read&amp;time=2016-11-11T20:16:07-08:00');  $('#notification_nonactive_on').hide(); $('#notification_nonactive_off').show();; return false;\" style=\"color:#1e1e1e\"><img alt=\"Close_small\" src=\"http://images0.chictopia.com/images/site/close_small.png\"/></a>\\n</div>\\n<div class=\"clear2\"></div>\\n<a class=\"colorbox_ajax cboxElement\" href=\"/notifications/popup\">\\n<div class=\"left\" style=\"width:115px;\">\\n<div class=\"left\"><img alt=\"Expand\" height=\"15\" src=\"http://images0.chictopia.com/images/site/icons/expand.png\" width=\"15\"/></div>\\n<div class=\"left px10\" style=\"text-decoration:underline;margin-left:5px;\">See notifications</div>\\n</div>\\n</a> <a href=\"/message/inbox\">\\n<div class=\"left\" style=\"width:85px;\">\\n<div class=\"left\"><img alt=\"Mail_15\" height=\"15\" src=\"http://images2.chictopia.com/images/site/icons/mail_15.png\" width=\"15\"/></div>\\n<div class=\"left px10 \" style=\"text-decoration:underline;margin-left:5px;\">Inbox </div>\\n</div>\\n</a>\\n</div>\\n</div>\\n</div> <!-- end rightmenu_div -->\\n<div class=\"submenu_2 sticky\" id=\"upload_submenu\">\\n<a href=\"#\" onclick=\"showInfoBox_PS(); return false;\">Personal Style</a>\\n<a href=\"/upload/shop_photo\">Sell on Shop</a>\\n<a href=\"#\" onclick=\"showInfoBox_Reward(); return false;\">Giveaway</a>\\n</div>\\n<div class=\"submenu_2\" id=\"menu_locale\">\\n<a href=\"#\" onclick=\"return set_locale('en'); return false;\">English</a>\\n<a href=\"#\" onclick=\"return set_locale('es'); return false;\">Espa\\xf1ol</a>\\n<a href=\"#\" onclick=\"return set_locale('fr'); return false;\">Fran\\xe7ais</a>\\n<a href=\"#\" onclick=\"return set_locale('ja'); return false;\">\\u65e5\\u672c\\u8a9e</a>\\n<a href=\"#\" onclick=\"return set_locale('pt'); return false;\">Portugu\\xeas</a>\\n<a href=\"#\" onclick=\"return set_locale('ru'); return false;\">\\u0420\\u0443\\u0441\\u0441\\u043a\\u0438\\u0439</a>\\n<a href=\"#\" onclick=\"return set_locale('zh-CN'); return false;\">\\u7b80\\u4f53\\u4e2d\\u6587</a>\\n<a href=\"#\" onclick=\"return set_locale('zh-TW'); return false;\">\\u7e41\\u9ad4\\u4e2d\\u6587</a>\\n</div>\\n<div class=\"infobox sticky underline\" id=\"chicpoints_infobox\" style=\"border-top:0px;margin:-1px 0px 0px -1px;\">\\n<div>\\n        Chic Points are Chictopia's reward <br/>currency. Members can use<br/> Chic Points to redeem <a href=\"/rewards/recent\">Free Rewards</a>.\\n        <br/><br/>\\n<a href=\"/faq_how_do_i_get_chic_points_q/faq/chic_points/2\">Learn more ways to earn Chic Points.</a>\\n<br/>\\n        Add Comment \\u2013 1 <div style=\"height:10px;width:10px;overflow:hidden;position:relative;padding:0px;margin:0px;display:inline-block;\"><img alt=\" \" id=\"sp1\" src=\"http://images0.chictopia.com/images/site/sprites/gallery_sprite10.png\" style=\"position:absolute;left:0px;top:-100px;\"/></div><br/>\\n        Style Gallery Photo \\u2013 15 <div style=\"height:10px;width:10px;overflow:hidden;position:relative;padding:0px;margin:0px;display:inline-block;\"><img alt=\" \" id=\"sp1\" src=\"http://images0.chictopia.com/images/site/sprites/gallery_sprite10.png\" style=\"position:absolute;left:0px;top:-100px;\"/></div><br/>\\n        Gain a Follower \\u2013 10 <div style=\"height:10px;width:10px;overflow:hidden;position:relative;padding:0px;margin:0px;display:inline-block;\"><img alt=\" \" id=\"sp1\" src=\"http://images0.chictopia.com/images/site/sprites/gallery_sprite10.png\" style=\"position:absolute;left:0px;top:-100px;\"/></div><br/>\\n        Write a Review - 5 <div style=\"height:10px;width:10px;overflow:hidden;position:relative;padding:0px;margin:0px;display:inline-block;\"><img alt=\" \" id=\"sp1\" src=\"http://images0.chictopia.com/images/site/sprites/gallery_sprite10.png\" style=\"position:absolute;left:0px;top:-100px;\"/></div><br/>\\n<a href=\"#\" onclick=\"showInfoBox_Refer(); return false;\">Refer a Friend</a> \\u2013 10 <div style=\"height:10px;width:10px;overflow:hidden;position:relative;padding:0px;margin:0px;display:inline-block;\"><img alt=\" \" id=\"sp1\" src=\"http://images0.chictopia.com/images/site/sprites/gallery_sprite10.png\" style=\"position:absolute;left:0px;top:-100px;\"/></div><br/>\\n</div>\\n</div>\\n<div class=\"infobox sticky underline\" id=\"fb_login\" style=\"border-top:0px;margin:-1px 0px 0px -1px;\">\\n<div>\\n<a href=\"http://www.facebook.com/dialog/oauth/?scope=email,publish_actions&amp;client_id=103608358170&amp;redirect_uri=http%3A%2F%2Fwww.chictopia.com%2Ffbconnect%2Fclick_status%2F%3Freturn_url%3Dhttp%253A%252F%252Fwww.chictopia.com%252Fphoto%252Fshow%252F100019-Fly%252Bme%252BFly%252Bme-chai-jacket&amp;state=14789241679786222chictopia\"><div onclick=\"GA_trackEvent('FBConnect','ClickLink')\" style=\"height:22px;width:71px;overflow:hidden;position:relative;padding:0px;margin:0px;cursor:pointer;\"><img alt=\" \" id=\"sp1\" src=\"http://images0.chictopia.com/images/site/sprites/gallery_sprite10.png\" style=\"position:absolute;left:0px;top:-135px;\"/></div></a>\\n<br/>\\n        or <a href=\"/account\" onclick=\"GA_trackEvent('Login', 'ClickLink', 'Top Menu Submenu');\">Sign in with username</a>\\n</div>\\n</div>\\n<div class=\"clear\"></div>\\n<div class=\"underline loginbox\" id=\"chicpoints_refer\" name=\"chicpoints\">\\n<a href=\"/account/login_to_invite\">Login</a> to refer a friend today.<br/>\\n<a href=\"http://www.facebook.com/dialog/oauth/?scope=email,publish_actions&amp;client_id=103608358170&amp;redirect_uri=http%3A%2F%2Fwww.chictopia.com%2Ffbconnect%2Fclick_status%2F%3Freturn_url%3D%252Faccount%252Finvite&amp;state=1478924167981732chictopia\"><div onclick=\"GA_trackEvent('FBConnect','ClickLink')\" style=\"height:22px;width:71px;overflow:hidden;position:relative;padding:0px;margin:0px;cursor:pointer;\"><img alt=\" \" id=\"sp1\" src=\"http://images0.chictopia.com/images/site/sprites/gallery_sprite10.png\" style=\"position:absolute;left:0px;top:-135px;\"/></div></a>\\n<br/><br/>\\n    Don't have an account?<br/>\\n<a href=\"/account/signup_to_invite\">Sign up here</a>.\\n  </div>\\n<div class=\"underline loginbox\" id=\"upload_ps\" name=\"upload\">\\n<a href=\"http://www.chictopia.com/account?return_url=%2Fupload%2Fstyle_photo\">Login</a> to start uploading today.<br/>\\n<a href=\"http://www.facebook.com/dialog/oauth/?scope=email,publish_actions&amp;client_id=103608358170&amp;redirect_uri=http%3A%2F%2Fwww.chictopia.com%2Ffbconnect%2Fclick_status%2F%3Freturn_url%3D%252Fupload%252Fstyle_photo&amp;state=14789241679934955chictopia\"><div onclick=\"GA_trackEvent('FBConnect','ClickLink')\" style=\"height:22px;width:71px;overflow:hidden;position:relative;padding:0px;margin:0px;cursor:pointer;\"><img alt=\" \" id=\"sp1\" src=\"http://images0.chictopia.com/images/site/sprites/gallery_sprite10.png\" style=\"position:absolute;left:0px;top:-135px;\"/></div></a>\\n<br/><br/>\\n    Don't have an account?<br/>\\n<a href=\"/upload/signup_to_upload/photoblog\">Sign up here</a>.\\n  </div>\\n<div class=\"underline loginbox\" id=\"upload_reward\" name=\"upload\">\\n<a href=\"/upload/login_to_upload/reward\">Login</a> to start uploading today.<br/>\\n<a href=\"http://www.facebook.com/dialog/oauth/?scope=email,publish_actions&amp;client_id=103608358170&amp;redirect_uri=http%3A%2F%2Fwww.chictopia.com%2Ffbconnect%2Fclick_status%2F%3Freturn_url%3D%252Fupload%252Freward&amp;state=14789241679953682chictopia\"><div onclick=\"GA_trackEvent('FBConnect','ClickLink')\" style=\"height:22px;width:71px;overflow:hidden;position:relative;padding:0px;margin:0px;cursor:pointer;\"><img alt=\" \" id=\"sp1\" src=\"http://images0.chictopia.com/images/site/sprites/gallery_sprite10.png\" style=\"position:absolute;left:0px;top:-135px;\"/></div></a>\\n<br/><br/>\\n    Don't have an account?<br/>\\n<a href=\"/upload/signup_to_upload/reward\">Sign up here</a>.\\n  </div>\\n<script type=\"text/javascript\">\\n    function close_alert() {\\n      document.cookie = 'chictopia_alert1=hidden;'\\n      jQuery('#chictopia_alert1').fadeOut(200);\\n    }\\n    function showUploadPopup() {\\n      jQuery.colorbox({html: \"<style>\\\\n  .upload_photo_type_popup {min-height:300px;width:545px;text-align:left;}\\\\n  .upload_photo_type_popup>div {margin:20px;}\\\\n  .upload_photo_type_popup h2 {font-size:26px;font-weight:normal}\\\\n  .upload_photo_type_popup li div.titles  {width:260px}\\\\n  .upload_photo_type_popup h3 {font-size:14px;padding:5px 0 0 0;text-transform:none;font-weight:bold}\\\\n  .upload_photo_type_popup h4 {font-size:14px;text-transform:none;font-weight:bold}\\\\n  .upload_photo_type_popup li {margin:30px 0 0 0}\\\\n  .upload_photo_type_popup li div.button {width:190px}\\\\n  .upload_photo_type_popup li a:hover {text-decoration:none}\\\\n<\\\\/style>\\\\n\\\\n<div class=\\\\\"upload_photo_type_popup modal_wrapper\\\\\">\\\\n  <div>\\\\n    <h2>upload a photo<\\\\/h2>\\\\n    <div class=\\\\\"div_line\\\\\"><\\\\/div>\\\\n    \\\\n    <h3>Select an option below to get started<\\\\/h3>\\\\n    <ul>\\\\n        <li>\\\\n          <div class=\\\\\"left titles\\\\\">\\\\n            <div class=\\\\\"subtitles\\\\\">Post My Style Photo<\\\\/div>\\\\n            <div>Upload your stylish look to Chictopia<\\\\/div>\\\\n          <\\\\/div>\\\\n          <div class=\\\\\"left\\\\\">\\\\n            <a href=\\\\\"/upload/style_photo\\\\\"><div class=\\\\\"button black\\\\\">Post a Look<\\\\/div><\\\\/a>\\\\n          <\\\\/div>\\\\n          <div class=\\\\\"clear\\\\\"><\\\\/div>\\\\n        <\\\\/li>\\\\n        <li>\\\\n          <div class=\\\\\"left titles\\\\\">\\\\n            <div class=\\\\\"subtitles\\\\\">Sell on Chictopia Shop<\\\\/div>\\\\n            <div>List a product to sell on Chictopia Shop<\\\\/div>\\\\n          <\\\\/div>\\\\n          <div class=\\\\\"left\\\\\">\\\\n            <a href=\\\\\"/upload/shop_photo\\\\\"><div class=\\\\\"button black\\\\\">Sell on Shop<\\\\/div><\\\\/a>\\\\n          <\\\\/div>\\\\n          <div class=\\\\\"clear\\\\\"><\\\\/div>\\\\n        <\\\\/li>\\\\n        <li>\\\\n          <div class=\\\\\"left titles\\\\\">\\\\n            <div class=\\\\\"subtitles\\\\\">Sponsor a Chic Reward<\\\\/div>\\\\n            <div>List a product on Chic Rewards<\\\\/div>\\\\n          <\\\\/div>\\\\n          <div class=\\\\\"left\\\\\">\\\\n            <a href=\\\\\"/upload/reward\\\\\"><div class=\\\\\"button black\\\\\">Sponsor<\\\\/div><\\\\/a>\\\\n          <\\\\/div>\\\\n          <div class=\\\\\"clear\\\\\"><\\\\/div>\\\\n        <\\\\/li>\\\\n    <\\\\/ul>\\\\n  <\\\\/div>\\\\n<\\\\/div>\\\\n\"});\\n    }\\n  </script>\\n</div>\\n</div>\\n<script type=\"text/javascript\">\\n        //SYNTAX: tabdropdown.init(\"menu_id\", [integer OR \"auto\"])\\n        tabdropdown.init(\"topmenu\");\\n        tabdropdown.init(\"rightmenu\");\\n      </script>\\n<div class=\"clear\"></div>\\n<!-- navheader -->\\n<div style=\"width:980px;margin:auto\">\\n<script type=\"text/javascript\">\\n      GA_googleAddSlot(\"ca-pub-0637175759187391\", \"300x1050_left_homepage\");\\n      GA_googleAddSlot(\"ca-pub-0637175759187391\", \"300x1050_right_homepage\");\\n      GA_googleAddSlot(\"ca-pub-0637175759187391\", \"1x1_generic_all\");\\n    </script>\\n<script type=\"text/javascript\">\\n    GA_googleAddSlot(\"ca-pub-0637175759187391\", \"160x600_gallery_roadblock\");\\n    GA_googleAddSlot(\"ca-pub-0637175759187391\", \"728x90_gallery_roadblock\");\\n    GA_googleAddSlot(\"ca-pub-0637175759187391\", \"300x250_fixed_size\");\\n    GA_googleAddSlot(\"ca-pub-0637175759187391\", \"300x250_photo_roadblock\");\\n    GA_googleAddSlot(\"ca-pub-0637175759187391\", \"mobile_320x250\");\\n    GA_googleAddSlot(\"ca-pub-0637175759187391\", \"728x90_extra\");\\n    GA_googleAddSlot(\"ca-pub-0637175759187391\", \"300x250_extra\");\\n    GA_googleAddSlot(\"ca-pub-0637175759187391\", \"728x90_single_photo\");\\n    GA_googleAddSlot(\"ca-pub-0637175759187391\", \"1x1_generic_all\");\\n</script>\\n<script type=\"text/javascript\">\\n  GA_googleFetchAds();\\n</script>\\n<style type=\"text/css\">\\n#gutter_layer_l { position: relative; top: 40px; left: -310px;width: 300px; height: 0px; overflow: visible; z-index: 1;}\\n#skinlayerl1 { position: relative; top: -145px; left: -310px;width: 300px; height: 0px; overflow: visible; z-index: 105;}\\n</style>\\n<style type=\"text/css\">\\n#gutterlayer_r {position: relative; top: 40px; left: 990px; width: 300px; height: 0px; overflow: visible; z-index: 1; }\\n#skinlayerr1 { position: relative; top: -145px; left: 980px; width: 300px; height: 0px; overflow: visible; z-index: 105; }\\n</style>\\n<div id=\"gutter_layer_l\">\\n<script type=\"text/javascript\">\\n      GA_googleFillSlot(\"300x1050_left_homepage\");\\n    </script>\\n<script type=\"text/javascript\">\\n      GA_googleFillSlot(\"1x1_generic_all\");\\n    </script>\\n</div>\\n<div id=\"gutterlayer_r\">\\n<script type=\"text/javascript\">\\n      GA_googleFillSlot(\"300x1050_right_homepage\");\\n    </script>\\n</div>\\n<script>\\n    $( window ).scroll(function() {\\n      var scrolled_px = window.pageYOffset + 40;\\n      $('#gutter_layer_l').css( \"top\", scrolled_px + 'px' );\\n      $('#gutterlayer_r').css( \"top\", scrolled_px + 'px' );\\n    });\\n  </script>\\n</div>\\n</div><!--top -->\\n<div class=\"clear2\"></div>\\n<div class=\"clear2\"></div>\\n<div class=\"clear2\"></div>\\n<div id=\"topsearch\">\\n<script src=\"https://d1b7u2ujuyo838.cloudfront.net/images/libraries/jquery.autocomplete.min.js\" type=\"text/javascript\"></script>\\n<div id=\"main_search_bar\">\\n<div class=\"left\" id=\"logo\" style=\"margin-top:0px;width:180px;\">\\n<a href=\"/\"><img alt=\"Chictopia_logo3\" height=\"25\" src=\"http://images0.chictopia.com/images/site/chictopia_logo3.png\" width=\"165\"/></a>\\n</div>\\n<div class=\"search_text\">\\n<form accept-charset=\"UTF-8\" action=\"/search/term_redirect\" id=\"search_lg\" method=\"post\"><div style=\"margin:0;padding:0;display:inline\"><input name=\"utf8\" type=\"hidden\" value=\"\\u2713\"/><input name=\"authenticity_token\" type=\"hidden\" value=\"O0tRGtOaED+jFrsxhEAx31E0hQpSzmA8GJtjXf0xlDQ=\"/></div> <input id=\"search_lg_text\" maxlength=\"50\" name=\"search\" style=\"\" type=\"text\"/>\\n</form> </div>\\n<div class=\"search_button\">\\n<a href=\"#\" onclick=\"jQuery('#search_lg').submit();; return false;\"><img alt=\"Search_15\" height=\"15\" src=\"http://images0.chictopia.com/images/site/icons/search_15.png\" style=\"margin-left:-20px;margin-top:5px;\" width=\"15\"/></a>\\n</div>\\n<div class=\"post_a_look\">\\n<a class=\"nav_button blue_text\" href=\"/upload/style_photo\" style=\"line-height:28px;white-space:nowrap\">Post a Look</a>\\n</div>\\n<div class=\"sell_on_shop\">\\n<a class=\"nav_button\" href=\"/upload/shop_photo\" style=\"line-height:28px;white-space:nowrap\">Sell on Shop</a>\\n</div>\\n<div class=\"sell_on_shop\">\\n<a class=\"nav_button\" href=\"#\" onclick=\"$.colorbox({html:'&lt;div style=&quot;width:530px;height:200px;background-color:#fff;padding:15px;&quot;&gt;&lt;div style=&quot;font-size:16px;text-transform:uppercase;margin-top:30px;&quot;&gt;Our collaboration tool has moved to its own site!&lt;/div&gt;&lt;div class=&quot;clear2&quot;&gt;&lt;/div&gt;Come check out the collaboration platform at its new home on ChictopiaConnect.com. Don&amp;#x27;t worry, you can still access all of your existing campaigns by logging in using your Chictopia username.&lt;div class=&quot;clear3&quot;&gt;&lt;/div&gt;&lt;a href=&quot;/connect/listings&quot; style=&quot;text-decoration:none;&quot;&gt;&lt;div class=&quot;button no_ul&quot; style=&quot;width:300px;margin:auto;text-decoration:none;&quot;&gt;Log in to chictopiaconnect.com&lt;/div&gt;&lt;/a&gt;&lt;/div&gt;'});\" style=\"line-height:28px;white-space:nowrap\">Sponsorships</a>\\n</div>\\n<script>\\n    jQuery('#search_lg').submit(function(){ if(jQuery(this).find('input[type=\"text\"]').val().match(/^\\\\s*$/)){return false;} });\\n\\n    $('#search_lg_text').autocomplete({\\n      serviceUrl: '/search/autocomplete',\\n      deferRequestBy: 300,\\n      minChars: 2,\\n      maxHeight: 200,\\n      onSelect: function (suggestion) {\\n        jQuery('#search_lg').submit();\\n      }\\n    });\\n  </script>\\n<style>\\n    .autocomplete-suggestions { text-align:left;border: 1px solid #999; background: #FFF; overflow: auto; }\\n    .autocomplete-suggestion { padding: 2px 5px; white-space: nowrap; overflow: hidden; }\\n    .autocomplete-selected { background: #F0F0F0; }\\n    .autocomplete-suggestions strong { font-weight: normal; color: #2484c5; }\\n  </style>\\n</div>\\n</div>\\n<div style=\"clear:both;height:20px\"></div>\\n<div class=\"bg_lg\" id=\"topbanner\">\\n<div class=\"leaderboard\" style=\"width:980px;padding:0px;margin:auto\">\\n<script type=\"text/javascript\">\\n          GA_googleFillSlot(\"728x90_single_photo\");\\n        </script>\\n</div>\\n<div class=\"clear\"></div>\\n</div>\\n<div class=\"clear3\"></div>\\n<div id=\"pagewrapper\">\\n<!-- else normal site content -->\\n<div class=\"notify_yellow\" id=\"flash_notice\" style=\"display:none;\">\\n</div>\\n<div class=\"notify_yellow\" id=\"gallery_vote_notify\" style=\"height:25px;display:none;\">\\n<div style=\"float:left;margin-left:240px;\"><a href=\"/account/login_redirect\" onclick=\"GA_trackEvent('Login','ClickLink', 'On-Page');\" style=\"text-decoration:underline\">Login</a>\\n<span id=\"gallery_notify_text\"> to cast your vote. </span>\\n            Don't have an account?\\n            <a href=\"/account/signup\" onclick=\"GA_trackEvent('Signup','ClickLink', 'On-Page');\" style=\"text-decoration:underline\">Sign up</a> \\xa0\\n          </div>\\n<div class=\"left\" style=\"margin:4px 0px 0px 20px;\">\\n<div style=\"margin-top:2px;\"><a href=\"http://www.facebook.com/dialog/oauth/?scope=email,publish_actions&amp;client_id=103608358170&amp;redirect_uri=http%3A%2F%2Fwww.chictopia.com%2Ffbconnect%2Fclick_status%2F%3Freturn_url%3Dhttp%253A%252F%252Fwww.chictopia.com%252Fphoto%252Fshow%252F100019-Fly%252Bme%252BFly%252Bme-chai-jacket&amp;state=1478924168011185chictopia\"><div onclick=\"GA_trackEvent('FBConnect','ClickLink')\" style=\"height:18px;width:58px;overflow:hidden;position:relative;padding:0px;margin:0px;cursor:pointer;\"><img alt=\" \" id=\"sp1\" src=\"http://images0.chictopia.com/images/site/sprites/gallery_sprite10.png\" style=\"position:absolute;left:-25px;top:-115px;\"/></div></a></div>\\n</div>\\n</div>\\n<div class=\"clear\"></div>\\n<style>\\n\\n.color_box0 {background-color:#3E3E3E;width:40px;height:15px;border:1px solid #3E3E3E;margin-right:3px;}\\n.color_box0:hover {border:1px solid black;}\\n\\n.prevnext img:hover {opacity:0.5;}\\n</style>\\n<style type=\"text/css\">\\n  #left_column {width:635px;}\\n  #right_column {width:300px;margin-left:45px;}\\n  #image_wrap {cursor:pointer;}\\n</style>\\n<script>\\n  GA_trackEvent('SinglePhotoViews', '100019');\\n</script>\\n<div id=\"bodywrapper\" itemscope=\"\" itemtype=\"http://schema.org/Photograph\">\\n<div id=\"title_bar\">\\n<div class=\"left\" style=\"width:980px;\">\\n<a name=\"title_anchor\"></a>\\n<div class=\"left\" style=\"margin-right:20px;\">\\n<h1 class=\"photo_title\" itemprop=\"name\">Fly me Fly me!!</h1>\\n</div>\\n<div class=\"clear_5\"></div>\\n<meta content=\"2009-04-20\" itemprop=\"dateCreated\"/>\\n<div class=\"left px10 italics\" style=\"line-height:12px;vertical-align:bottom;\">\\n        Updated on Apr 20, 2009\\n      </div>\\n<div class=\"clear2\"></div>\\n</div>\\n</div>\\n<div class=\"clear\"></div>\\n<div class=\"left\" id=\"left_column\">\\n<div style=\"position:relative;\">\\n<div class=\"left\" id=\"image_wrap\" style=\"width:485px;\">\\n<img alt=\"Chai jacket\" itemprop=\"image\" onclick='clickTrack(\"main_photo\");goto_next_photo();' onmouseout=\"jQuery('.next_ph').css('background-position','-60px 0px');jQuery('#next_desc').hide();\" onmouseover=\"image_mouseover();\" src=\"http://images0.chictopia.com/photos/techin/7043981989/7043981989_400.jpg\" style=\"margin-left:85px;;\"/>\\n</div>\\n<div style=\"position:absolute;top:0px;left:-2px;\">\\n<div class=\"subphoto_scrollable\">\\n<div class=\"subphoto_items\" style=\"text-align:center;\">\\n<div style=\"display:inline-block\">\\n<img alt=\"7043981989\" class=\"hoverDarken\" id=\"first_photo\" src=\"http://images2.chictopia.com/photos/techin/7043981989/7043981989_sm.jpg\" style=\"margin-bottom:10px;\"/> <img alt=\"5136844237\" class=\"hoverDarken\" src=\"http://images2.chictopia.com/photos/techin/7043981989/5136844237/5136844237_sm.jpg\" style=\"margin-bottom:10px;\"/> <img alt=\"5388070635\" class=\"hoverDarken\" src=\"http://images2.chictopia.com/photos/techin/7043981989/5388070635/5388070635_sm.jpg\" style=\"margin-bottom:10px;\"/> <img alt=\"5308872942\" class=\"hoverDarken\" src=\"http://images2.chictopia.com/photos/techin/7043981989/5308872942/5308872942_sm.jpg\" style=\"margin-bottom:10px;\"/> </div>\\n</div>\\n</div>\\n</div>\\n<div class=\"left\" id=\"photo_actions\" style=\"height:600px;width:135px;margin-left:15px;position:relative;\">\\n<style>\\n#navlist{position:relative;height:60px;}\\n#navlist li{margin:0;padding:0;list-style:none;position:absolute;top:0;}\\n#navlist li, #navlist a{height:60px;display:block;}\\n\\n.prev_ph {left:0px;width:60px;}\\n.prev_ph {background:url('http://images0.chictopia.com/images/site/nextprev_sprite2.gif') 0 0;}\\n.prev_ph a:hover{background: url('http://images0.chictopia.com/images/site/nextprev_sprite2.gif') 0 -60px;}\\n#no_link_prev{left:0px;width:60px;}\\n#no_link_prev{background:url('http://images0.chictopia.com/images/site/nextprev_sprite2.gif') 0 -120px;}\\n\\n.next_ph {left:75px;width:60px;}\\n.next_ph {background:url('http://images0.chictopia.com/images/site/nextprev_sprite2.gif') -60px 0;}\\n.next_ph a:hover{background: url('http://images0.chictopia.com/images/site/nextprev_sprite2.gif') -60px -60px;}\\n#no_link_next{left:75px;width:60px;}\\n#no_link_next{background:url('http://images0.chictopia.com/images/site/nextprev_sprite2.gif') -60px -120px;}\\n\\n.desc {display:none;position:absolute;width:60px;height:15px;font-size:10px;font-weight:bold;top:-20px;}\\n</style>\\n<div>\\n<div class=\"desc\" id=\"prev_desc\" style=\"left:0px;\">\\n    PREVIOUS\\n  </div>\\n<div class=\"desc\" id=\"next_desc\" style=\"left:76px;text-align:right;\">\\n    NEXT\\n  </div>\\n<div id=\"navigate_gallery\" style=\"display:none;\">\\n<ul id=\"navlist\">\\n<li class=\"prev_ph\" onmouseout=\"jQuery('#prev_desc').hide();\" onmouseover=\"jQuery('#prev_desc').show();\">\\n<a href=\"/photo/prev_photo/100019#title_anchor\" onclick=\"clickTrack('prev_gallery_photo');\"></a>\\n</li>\\n<li class=\"next_ph\" onmouseout=\"jQuery('#next_desc').hide();\" onmouseover=\"jQuery('#next_desc').show();\">\\n<a href=\"/photo/next_photo/100019#title_anchor\" onclick=\"clickTrack('next_gallery_photo');\"></a>\\n</li>\\n</ul>\\n</div>\\n<div id=\"navigate_blogger\" style=\"display:block;\">\\n<ul id=\"navlist\">\\n<li class=\"prev_ph\" onmouseout=\"jQuery('#prev_desc').hide();\" onmouseover=\"jQuery('#prev_desc').show();\">\\n<a href=\"/photo/prev_photo/100019?user=techin\" onclick=\"clickTrack('prev_blogger_photo');\"></a>\\n</li>\\n<li class=\"next_ph\" onmouseout=\"jQuery('#next_desc').hide();\" onmouseover=\"jQuery('#next_desc').show();\">\\n<a href=\"/photo/next_photo/100019?user=techin\" onclick=\"clickTrack('next_blogger_photo');\"></a>\\n</li>\\n</ul>\\n</div>\\n</div>\\n<div class=\"clear1\"></div>\\n<div class=\"clear_5\"></div>\\n<div style=\"height:20px;\">\\n<select autocomplete=\"off\" id=\"navigate_select\" name=\"outfit_type\" style=\"font-size:11px;width:100%;\"><option selected=\"selected\" value=\"1\">From This User</option>\\n<option value=\"2\">From Style Gallery</option></select>\\n</div>\\n<script type=\"text/javascript\">\\n  jQuery('#navigate_select').change(function() {\\n    if (jQuery(this).val() == 2) {\\n      jQuery('#navigate_gallery').show();\\n      jQuery('#navigate_blogger').hide();\\n      jQuery('input#comment_navigate').val('true');\\n    } else {\\n      jQuery('#navigate_gallery').hide();\\n      jQuery('#navigate_blogger').show();\\n      jQuery('input#comment_navigate').val('false');\\n    }\\n  });\\n</script>\\n<div style=\"margin-top:55px;\">\\n<meta content=\"UserLikes:11\" itemprop=\"interactionCount\"/>\\n<meta content=\"UserPlusOnes:11\" itemprop=\"interactionCount\"/>\\n<meta content=\"UserComments:11\" itemprop=\"interactionCount\"/>\\n<div itemscope=\"\" itemtype=\"http://data-vocabulary.org/Review-aggregate\">\\n<meta content=\"5.0\" itemprop=\"rating\"/>\\n<meta content=\"11\" itemprop=\"vote\"/>\\n<meta content=\"11\" itemprop=\"count\"/>\\n</div>\\n<div itemprop=\"aggregateRating\" itemscope=\"\" itemtype=\"http://schema.org/AggregateRating\">\\n<meta content=\"5.0\" itemprop=\"ratingValue\"/>\\n<meta content=\"11\" itemprop=\"ratingCount\"/>\\n<meta content=\"11\" itemprop=\"reviewCount\"/>\\n</div>\\n<div id=\"user_actions\">\\n<div id=\"user_action_vote_100019\">\\n<div class=\"action_button_unclicked\">\\n<div class=\"vote_btn_2 left cursor\" id=\"vote_button_100019\" style=\"width:25px;\">\\n<img alt=\"Vote_link\" onclick=\"loginPrompt('vote');clickTrack(&quot;photo_vote&quot;);\" onmouseout=\"user_action_button_mouseout('vote','100019')\" onmouseover=\"user_action_button_mouseover('vote','100019')\" src=\"http://images2.chictopia.com/images/site/actions2/vote_link.png\"/>\\n</div>\\n<div class=\"left action_unclicked_show cursor\" data-actiontext=\"VOTE!\" data-counttext=\"11 votes\" id=\"vote_text_100019\" onclick=\"loginPrompt('vote');clickTrack(&quot;photo_vote&quot;);\" onmouseout=\"user_action_button_mouseout('vote', '100019')\" onmouseover=\"user_action_button_mouseover('vote','100019')\" style=\"width:97px;margin-left:3px;\">\\n                11 votes\\n              </div>\\n</div>\\n<div class=\"action_button_clicked\" style=\"display:none\">\\n<div class=\"vote_btn_clicked_2 left\" id=\"vote_button_100019\">\\n<img alt=\"Vote_click\" src=\"http://images0.chictopia.com/images/site/actions2/vote_click.png\"/>\\n</div>\\n<div class=\"left action_unclicked_show\" id=\"vote_text_100019\" style=\"width:97px;margin-left:3px;\">\\n                12 votes\\n              </div>\\n</div>\\n</div>\\n<div class=\"clear\" style=\"height:3px;\"></div>\\n<div id=\"user_action_comment_100019\">\\n<div class=\"comment_btn_2 left cursor\" id=\"comment_button_100019\" style=\"width:25px;\">\\n<img alt=\"Comment_link\" id=\"comment_click_100019\" onclick=\"loginPrompt('comment');clickTrack(&quot;photo_comment&quot;);\" onmouseout=\"user_action_button_mouseout('comment','100019')\" onmouseover=\"user_action_button_mouseover('comment','100019')\" src=\"http://images2.chictopia.com/images/site/actions2/comment_link.png\"/>\\n</div>\\n<div class=\"left action_unclicked_show cursor\" data-actiontext=\"COMMENT!\" data-counttext=\"11 comments\" id=\"comment_text_100019\" onclick=\"loginPrompt('comment');clickTrack(&quot;photo_comment&quot;);\" onmouseout=\"user_action_button_mouseout('comment', '100019')\" onmouseover=\"user_action_button_mouseover('comment','100019')\" style=\"width:97px;margin-left:3px;\">\\n              11 comments\\n            </div>\\n</div>\\n<div class=\"clear\" style=\"height:3px;\"></div>\\n<div id=\"user_action_favorite_100019\">\\n<div class=\"action_button_unclicked\">\\n<div class=\"favorite_btn_2 left cursor\" id=\"favorite_button_100019\" style=\"width:25px;\">\\n<img alt=\"Fav_link\" id=\"favorite_click_100019\" onclick=\"loginPrompt('favorite');clickTrack(&quot;photo_favorite&quot;);\" onmouseout=\"user_action_button_mouseout('favorite','100019')\" onmouseover=\"user_action_button_mouseover('favorite','100019')\" src=\"http://images2.chictopia.com/images/site/actions2/fav_link.png\"/>\\n</div>\\n<div class=\"left action_unclicked_show cursor\" data-actiontext=\"FAVORITE!\" data-counttext=\"1 favorite\" id=\"favorite_text_100019\" onclick=\"loginPrompt('favorite');clickTrack(&quot;photo_favorite&quot;);\" onmouseout=\"user_action_button_mouseout('favorite', '100019')\" onmouseover=\"user_action_button_mouseover('favorite','100019')\" style=\"width:97px;margin-left:3px;\">\\n                1 favorite\\n              </div>\\n</div>\\n<div class=\"action_button_clicked\" style=\"display:none\">\\n<div class=\"favorite_btn_clicked_2 left\" id=\"favorite_button_100019\" style=\"display:\">\\n<img alt=\"Fav_click\" src=\"http://images2.chictopia.com/images/site/actions2/fav_click.png\"/>\\n</div>\\n<div class=\"left action_unclicked_show\" id=\"favorite_text_100019\" style=\"width:97px;margin-left:3px;\">\\n                2 favorites\\n              </div>\\n</div>\\n</div>\\n<div class=\"clear\" style=\"position:relative;height:0px;\">\\n<div id=\"hidden_tags\" style=\"display:none;z-index:5;position:absolute;top:0px;left:0px;margin-left:22px;\">\\n<div id=\"hidden_favorite_action\" style=\"position:relative;width:93px;height:83px;padding:2px 10px;z-index:5;background-color:#fffea0;border:0px;\">\\n<div class=\"left\" style=\"font-size:11px;\">Add Tags?</div>\\n<div class=\"clear\"></div>\\n<div class=\"left\">\\n<form accept-charset=\"UTF-8\" action=\"/tag_favorite/add_tags\" id=\"favorite_action_form_100019\" method=\"post\"><div style=\"margin:0;padding:0;display:inline\"><input name=\"utf8\" type=\"hidden\" value=\"\\u2713\"/><input name=\"authenticity_token\" type=\"hidden\" value=\"O0tRGtOaED+jFrsxhEAx31E0hQpSzmA8GJtjXf0xlDQ=\"/></div> <textarea id=\"tag_list\" maxlength=\"400\" name=\"tag_list\" onclick=\"jQuery(this).val('').css('color','#333')\" onkeypress=\"enterSubmitFavorite(event,jQuery(this).parent(),'single_photo');\" style=\"color:#828282;height:50px;width:89px;resize:none;border:1px solid #dcdcdc;overflow:auto;\" wrap=\"hard\">enter tags here, separate with a comma</textarea> <input id=\"photo_id\" name=\"photo_id\" type=\"hidden\" value=\"100019\"/>\\n<input id=\"parent\" name=\"parent\" type=\"hidden\" value=\"0\"/>\\n<input id=\"render\" name=\"render\" type=\"hidden\" value=\"none\"/>\\n</form> </div>\\n</div>\\n</div>\\n<div id=\"hidden_notification\" style=\"display:none;position:absolute;top:0px;left:0px;z-index:1;margin-left:22px;\">\\n<div id=\"hidden_tag_content\" style=\"line-height:16px;max-height:84px;overflow:hidden;font-size:11px;position:relative;width:93px;padding:6px 10px;z-index:5;background-color:#fffea0;border:0px;\"> \\n                Tags Added:<br>\\n</br></div>\\n</div>\\n</div> <!-- 0 height clear div to hold tagging overlays -->\\n</div>\\n</div>\\n<div style=\"margin-top:45px;\">\\n<div id=\"share_actions\">\\n<div style=\"height:30px;\">\\n<div class=\"fb-like\" data-href=\"http://www.chictopia.com/photo/show/100019-Fly+me+Fly+me-chai-jacket\" data-layout=\"button_count\" data-send=\"false\" data-show-faces=\"false\" data-width=\"50\"></div>\\n<script>\\n  FB.Event.subscribe('edge.create', function(targetUrl) { ga('send', 'social', 'facebook', 'like', targetUrl); });\\n</script>\\n</div>\\n<div style=\"height:30px;\">\\n<a class=\"twitter-share-button\" data-text=\"Fly+me+Fly+me%21%21\" href=\"https://twitter.com/share\">Tweet</a>\\n<script>!function(d,s,id){var js,fjs=d.getElementsByTagName(s)[0];if(!d.getElementById(id)){js=d.createElement(s);js.id=id;js.src=\"//platform.twitter.com/widgets.js\";fjs.parentNode.insertBefore(js,fjs);}}(document,\"script\",\"twitter-wjs\");</script>\\n</div>\\n<div style=\"height:30px;\">\\n<g:plusone size=\"medium\"></g:plusone>\\n<script type=\"text/javascript\">\\n(function() {\\n  var po = document.createElement('script'); po.type = 'text/javascript'; po.async = true;\\n  po.src = 'https://apis.google.com/js/plusone.js';\\n  var s = document.getElementsByTagName('script')[0]; s.parentNode.insertBefore(po, s);\\n})();\\n</script>\\n</div>\\n<div style=\"height:30px;\">\\n<wb:share-button addition=\"number\" appkey=\"L84U1\" ralateuid=\"2179807704\" type=\"icon\"></wb:share-button>\\n</div>\\n<div style=\"height:30px;\">\\n<a class=\"pin-it-button\" count-layout=\"horizontal\" href=\"http://pinterest.com/pin/create/button/?url=http%3A%2F%2Fwww.chictopia.com%2Fphoto%2Fshow%2F100019-Fly%2Bme%2BFly%2Bme-chai-jacket&amp;media=http%3A%2F%2Fassets0.chictopia.com%2Fphotos%2Ftechin%2F7043981989%2F7043981989_400.jpg&amp;description=Fly+me+Fly+me%21%21\">Pin It</a>\\n<script src=\"http://assets.pinterest.com/js/pinit.js\" type=\"text/javascript\"></script>\\n</div>\\n</div>\\n</div>\\n<div id=\"tag_boxes\" style=\"margin-top:40px;\">\\n<div class=\"subtitles\">tags</div>\\n<div class=\"clear\" style=\"height:5px;\"></div>\\n<div class=\"left clear px10\" style=\"text-transform:capitalize;text-decoration:underline;line-height:15px;\">\\n<div class=\"left px10\" style=\"text-decoration:underline;line-height:15px;\"><a href=\"/Casual/style\" onclick='clickTrack(\"photo_tags\");' target=\"_blank\">Casual</a></div>\\n<div class=\"clear\"></div>\\n<div class=\"left px10\" style=\"text-decoration:underline;line-height:15px;\"><a href=\"/what-to-wear-clubbing/clothing\" onclick='clickTrack(\"photo_tags\");' target=\"_blank\">Clubbing</a></div>\\n<div class=\"clear\"></div>\\n<div class=\"left px10\" style=\"text-decoration:underline;line-height:15px;\"><a href=\"/Spring-Jacket/info\" onclick='clickTrack(\"photo_tags\");' target=\"_blank\">spring</a></div>\\n<div class=\"clear\"></div>\\n<div class=\"left\">\\n<a href=\"/art-50/trend\" onclick='clickTrack(\"photo_tags\");' target=\"_blank\">art</a></div>\\n<div class=\"clear\"></div>\\n<div class=\"left\">\\n<a href=\"/fall-fashion-trends-1890/trend\" onclick='clickTrack(\"photo_tags\");' target=\"_blank\">fall fashion trends</a></div>\\n<div class=\"clear\"></div>\\n<div class=\"left\">\\n<a href=\"/photography-38/trend\" onclick='clickTrack(\"photo_tags\");' target=\"_blank\">photography</a></div>\\n<div class=\"clear\"></div>\\n</div>\\n</div>\\n<div class=\"clear1\"></div>\\n<div id=\"color_boxes\" style=\"width:127px;height:100px;\">\\n<a class=\"color_box0 left\" href=\"/Gray-Jacket/info\" onclick=\"clickTrack('color_box');\"></a> <div class=\"clear\" style=\"height:3px;\"></div>\\n</div>\\n</div>\\n</div>\\n<div style=\"width:400px;margin-left:85px;\">\\n<div class=\"right\" style=\"margin-top:5px;\">\\n<style>\\n  .stButton, .smallShareButton {margin-left:2px;}\\n  .stButton {width:13px !important;} /* stButton is auto-generated by sharethis widget */\\n</style>\\n<div class=\"left smallShareButton\">\\n<a class=\"colorbox_callback_close colorbox_ajax cboxElement\" href=\"/message/email\"><img alt=\"Mail-iconrectangle\" src=\"http://images2.chictopia.com/images/site/mail-iconrectangle.png\"/></a>\\n</div>\\n<div class=\"left smallShareButton\">\\n<a alt=\"Share on Facebook\" href=\"http://www.facebook.com/sharer.php?u=http%3A%2F%2Fwww.chictopia.com%2Fphoto%2Fshow%2F100019-Fly%2Bme%2BFly%2Bme-chai-jacket\" onclick=\"javascript:window.open(this.href,'','menubar=no,toolbar=no,resizable=yes,scrollbars=yes,height=400,width=600');return false;\"><img alt=\"Facebook\" height=\"15\" src=\"http://images0.chictopia.com/images/share/15/facebook.png\" width=\"15\"/></a></div>\\n<div class=\"left smallShareButton\">\\n<a alt=\"Tweet this\" href=\"http://twitter.com/share/?url=http%3A%2F%2Fwww.chictopia.com%2Fphoto%2Fshow%2F100019-Fly%2Bme%2BFly%2Bme-chai-jacket&amp;text=Men%27s+Chai+Jackets+%7C+%22Fly+me+Fly+me%21%21%22+by+techin\" onclick=\"javascript:window.open(this.href,'','menubar=no,toolbar=no,resizable=yes,scrollbars=yes,height=400,width=600');return false;\"><img alt=\"Twitter\" height=\"15\" src=\"http://images0.chictopia.com/images/share/15/twitter.png\" width=\"15\"/></a></div>\\n<div class=\"left smallShareButton\">\\n<a alt=\"Share on Google+\" href=\"https://plus.google.com/share?url=http%3A%2F%2Fwww.chictopia.com%2Fphoto%2Fshow%2F100019-Fly%2Bme%2BFly%2Bme-chai-jacket\" onclick=\"javascript:window.open(this.href,'','menubar=no,toolbar=no,resizable=yes,scrollbars=yes,height=400,width=600');return false;\"><img alt=\"Googleplus\" height=\"15\" src=\"http://images2.chictopia.com/images/share/15/googleplus.png\" width=\"15\"/></a></div>\\n<div class=\"left smallShareButton\">\\n<a alt=\"Post to Tumblr\" href=\"http://www.tumblr.com/share/photo?source=http%3A%2F%2Fassets0.chictopia.com%2Fphotos%2Ftechin%2F7043981989%2F7043981989_400.jpg&amp;caption=Men%27s+Chai+Jackets+%7C+%22Fly+me+Fly+me%21%21%22+by+techin+-+via+%3Ca+href%3D%22http%3A%2F%2Fwww.chictopia.com%22%3Echictopia%3C%2Fa%3E&amp;clickthru=http%3A%2F%2Fwww.chictopia.com%2Fphoto%2Fshow%2F100019-Fly%2Bme%2BFly%2Bme-chai-jacket\" onclick=\"javascript:window.open(this.href,'','menubar=no,toolbar=no,resizable=yes,scrollbars=yes,height=400,width=600');return false;\"><img alt=\"Tumblr\" height=\"15\" src=\"http://images2.chictopia.com/images/share/15/tumblr.png\" width=\"15\"/></a></div>\\n<div class=\"left\" style=\"margin-top:-1px;width:40px\">\\n<span class=\"st_sharethis\"></span><span class=\"st_stumbleupon\"></span>\\n</div>\\n</div>\\n<div class=\"right gray_text\" style=\"margin:4px 5px 0px 0px;\">SHARE </div>\\n</div>\\n<div class=\"clear1\"></div>\\n<div itemprop=\"keywords\">\\n<style>\\n  .garmentLinks {font-size:10px;line-height:15px;}\\n</style>\\n<div class=\"garmentLinks left\" style=\"text-transform:capitalize;\">\\n<a href=\"/gray-jackets-qq/color/gray/clothes-jacket\" onclick='clickTrack(\"garment_tags\");' target=\"_blank\">gray</a> <a class=\"garmentHover\" href=\"/Chai-jackets-qq/Chai/fashion/clothes-jacket\" id=\"garment_211074\" onclick='clickTrack(\"garment_tags\");' target=\"_blank\">Chai jacket</a>\\n</div>\\n<div class=\"left\" style=\"position:relative;\">\\n<div class=\"garmentHover\" id=\"garment_211074_hover\" style=\"border:1px solid #aaa;left:0px;top:3px;position:absolute;display:none;z-index:2;background-color:#fff;padding:11px;\">\\n<div style=\"white-space:nowrap;\">\\n<a href=\"/Chai-Jackets-how-to-wear/search/clothes\" onclick='clickTrack(\"garment_tags\");' style=\"\">How To Wear Chai Jackets</a>\\n                      &gt; </div>\\n<div style=\"white-space:nowrap;\"><a href=\"/Chai-Jackets/info\" onclick='clickTrack(\"garment_tags\");'>Chai Jackets</a> on Chictopia &gt; </div>\\n</div>\\n</div>\\n<div class=\"clear\"></div>\\n<script type=\"text/javascript\">\\n  var timeout = {};\\n  jQuery( function() {\\n    jQuery('.garmentHover').mouseenter(function() {\\n      var id = \"#\" + jQuery(this).attr('id') + '_hover';\\n      id = id.replace('hover_hover','hover');\\n      clearTimeout(timeout[id]);\\n      jQuery(id).show();\\n    });\\n    jQuery('.garmentHover').mouseleave(function() {\\n      var id = \"#\" + jQuery(this).attr('id') + '_hover';\\n      id = id.replace('hover_hover','hover');\\n      timeout[id] = setTimeout(function() {jQuery(id).hide();}, 50);\\n    });\\n  });\\n</script>\\n</div>\\n<div class=\"clear2\"></div>\\n<div class=\"subtitles nocap\">\\n<span style=\"text-decoration:underline;\">\\n<a href=\"/techin\">techin</a>\\n</span>\\n's Thoughts:</div>\\n<div class=\"clear\"></div>\\n<div class=\"subtitles nocap underline\" id=\"photo_description\" itemprop=\"text\">\\n<p>FAshion set !!<br>\\nhave some pic funny Lol</br></p> </div>\\n<div class=\"clear\"></div>\\n<div id=\"photo_id_value\" style=\"display:none;\">100019</div>\\n<style>\\n    #navlist_posts_lg {position:relative;height:40px;}\\n    #navlist_posts_lg li{margin:0;padding:0;list-style:none;position:absolute;top:0;}\\n    #navlist_posts_lg li, #navlist_posts_lg a{height:40px;display:block;}\\n\\n    .left_posts_lg {left:0px;width:35px;}\\n    .left_posts_lg {background:url('http://images1.chictopia.com/images/site/nextprev_sm_sprite2.gif') -3px 0px;}\\n    .left_posts_lg a:hover{background: url('http://images1.chictopia.com/images/site/nextprev_sm_sprite2.gif') -3px -40px;}\\n\\n    .right_posts_lg {left:600px;width:35px;}\\n    .right_posts_lg {background:url('http://images1.chictopia.com/images/site/nextprev_sm_sprite2.gif') -42px 0px;}\\n    .right_posts_lg a:hover{background: url('http://images1.chictopia.com/images/site/nextprev_sm_sprite2.gif') -42px -40px;}\\n  </style>\\n<div style=\"position:relative;height:240px;width:635px;\">\\n<div class=\"clear2\"></div>\\n<div class=\"subtitles\">\\n<a href=\"/techin\" onclick=\"clickTrack('more_photos_title');\" onmouseout=\"jQuery('.left_posts_lg').css('background-position','-3px 0px');jQuery('.right_posts_lg').css('background-position','-42px 0px');\" onmouseover=\"jQuery('.left_posts_lg').css('background-position','-3px -40px');jQuery('.right_posts_lg').css('background-position','-42px -40px');\">more from techin</a>\\n</div>\\n<div id=\"posts_page\" style=\"display:none;\">0</div>\\n<div id=\"navlist_enabled\" style=\"display:block;position:absolute;top:100px;left:0px;\">\\n<ul id=\"navlist_posts_lg\">\\n<li class=\"left_posts_lg\">\\n<a href=\"javascript:ajax_more_posts(35345,'user_posts','left','');disable_posts_scroll(null);clickTrack('scroll_prev');\"></a>\\n</li>\\n<li class=\"right_posts_lg\">\\n<a href=\"javascript:ajax_more_posts(35345,'user_posts','right','');disable_posts_scroll(null);clickTrack('scroll_next');\"></a>\\n</li>\\n</ul>\\n</div>\\n<div id=\"navlist_disabled\" style=\"display:none;position:absolute;top:100px;left:0px;\">\\n<ul id=\"navlist_posts_lg\">\\n<li class=\"left_posts_lg\">\\n<a href=\"javascript:return false;\"></a>\\n</li>\\n<li class=\"right_posts_lg\">\\n<a href=\"javascript:return false;\"></a>\\n</li>\\n</ul>\\n</div>\\n<div id=\"posts_spinner\" style=\"display:none;z-index:20;position:absolute;top:125px;left:311px;\">\\n<img alt=\"Spinner_bounce\" src=\"http://images2.chictopia.com/images/site/spinner_bounce.gif\"/>\\n</div>\\n<div id=\"posts_wrapper\" style=\"overflow:hidden;width:550px;height:177px;position:absolute;top:50px;left:45px;\">\\n<div id=\"more_posts_1\" onmouseout=\"jQuery('.prev_posts_lg').css('background-position','-3px 0px');jQuery('.next_posts_lg').css('background-position','-42px 0px');\" onmouseover=\"jQuery('.prev_posts_lg').css('background-position','-3px -40px');jQuery('.next_posts_lg').css('background-position','-42px -40px');\" style=\"width:635px;position:absolute;top:0px;left:0px;\">\\n<div class=\"left\">\\n<div style=\"width:143px;\">\\n<div class=\"left hoverDarken\">\\n<a href=\"/photo/show/96029-Praew+Magazine-techinmyself-design-blazer-vintage-adidas-pants-y-3-shoes\" onclick='clickTrack(\"more_user_photo\");' title=\"techinMyself design blazer - vintage Adidas pants - y-3 shoes\"><img alt=\"techinMyself design blazer - vintage Adidas pants - y-3 shoes\" class=\"hoverDarken\" height=\"177\" src=\"http://images0.chictopia.com/photos/techin/1962299788/1962299788_med.jpg\" style=\"background-color:#ededed;\" width=\"118\"/></a>\\n</div>\\n</div>\\n</div>\\n<div class=\"left\">\\n<div style=\"width:143px;\">\\n<div class=\"left hoverDarken\">\\n<a href=\"/photo/show/94584-Lady+GAGA+party-techinmy-self-design-blazer-vintage-t-shirt-realistic-situation-shorts-leg\" onclick='clickTrack(\"more_user_photo\");' title=\"Techinmy self design blazer - vintage t-shirt - Realistic Situation shorts - leg\"><img alt=\"Techinmy self design blazer - vintage t-shirt - Realistic Situation shorts - leg\" class=\"hoverDarken\" height=\"177\" src=\"http://images0.chictopia.com/photos/techin/8898305580/8898305580_med.jpg\" style=\"background-color:#ededed;\" width=\"118\"/></a>\\n</div>\\n</div>\\n</div>\\n<div class=\"left\">\\n<div style=\"width:143px;\">\\n<div class=\"left hoverDarken\">\\n<a href=\"/photo/show/91677-wide+leg+pants+with+rock+style-vintage-leather-jacket-t-shirt-greyhound-pants-dior-homme-high-cut-shoes-\" onclick='clickTrack(\"more_user_photo\");' title=\"Vintage leather jacket - t-shirt - greyhound pants - dior homme high cut shoes -\"><img alt=\"Vintage leather jacket - t-shirt - greyhound pants - dior homme high cut shoes -\" class=\"hoverDarken\" height=\"177\" src=\"http://images0.chictopia.com/photos/techin/5752582243/5752582243_med.jpg\" style=\"background-color:#ededed;\" width=\"118\"/></a>\\n</div>\\n</div>\\n</div>\\n<div class=\"left\">\\n<div style=\"width:118px;\">\\n<div class=\"left hoverDarken\">\\n<a href=\"/photo/show/91291\" onclick='clickTrack(\"more_user_photo\");' title=\"at Hi magazine...\"><img alt=\"at Hi magazine...\" class=\"hoverDarken\" height=\"177\" src=\"http://images0.chictopia.com/photos/techin/8710465275/8710465275_med.jpg\" style=\"background-color:#ededed;\" width=\"118\"/></a>\\n</div>\\n</div>\\n</div>\\n</div>\\n<div id=\"posts_page\" style=\"display:none;\">\\n       1\\n    </div>\\n</div>\\n</div>\\n<div class=\"clear3\"></div>\\n<a name=\"comments\"></a>\\n<div id=\"comment\">\\n<h2 class=\"subtitles\" style=\"font-size:14px;font-weight:normal;text-transform:capitalize;\">Comments (11)</h2>\\n<div class=\"clear1\"></div>\\n<div class=\"single_comment\" itemprop=\"comment\" itemscope=\"\" itemtype=\"http://schema.org/UserComments\" style=\"width:400px;\">\\n<div class=\"left hoverDarken\" itemprop=\"creator\" itemscope=\"\" itemtype=\"http://schema.org/Person\">\\n<meta content=\"ElectroBebe\" itemprop=\"name\"/>\\n<a href=\"/ElectroBebe\" onclick='clickTrack(\"comment_avatar\");'><img alt=\"ElectroBebe\" class=\"hoverDarken\" height=\"50\" itemprop=\"image\" src=\"http://images2.chictopia.com/photos/ElectroBebe/avatar/9181834707ElectroBebe_sm.jpg\" width=\"50\"/></a> </div>\\n<div class=\"userComment\" style=\"width:330px\">\\n<div>\\n<a class=\"boldlink\" href=\"/ElectroBebe\" onclick='clickTrack(\"comment_login\");'>ElectroBebe</a> <meta content=\"2010-02-11\" itemprop=\"commentTime\"/>\\n          on February 11        </div>\\n<div class=\"comment_content\" itemprop=\"commentText\">\\n          Amazing look! I want it all!        </div>\\n<div class=\"reply\" id=\"field_1956106_child\" style=\"margin-top:5px;\">\\n<div class=\"left ullink\"><a href=\"/comment/add_comment\" onclick=\"GA_trackEvent('Login', 'Prompted', 'clicked on comment without being logged in');\">reply</a></div>\\n</div>\\n</div> <!-- userComment -->\\n</div> <!-- message -->\\n<div class=\"single_comment\" itemprop=\"comment\" itemscope=\"\" itemtype=\"http://schema.org/UserComments\" style=\"width:400px;\">\\n<div class=\"left hoverDarken\" itemprop=\"creator\" itemscope=\"\" itemtype=\"http://schema.org/Person\">\\n<meta content=\"Snow_Prince\" itemprop=\"name\"/>\\n<a href=\"/Snow_Prince\" onclick='clickTrack(\"comment_avatar\");'><img alt=\"Snow_Prince\" class=\"hoverDarken\" height=\"50\" itemprop=\"image\" src=\"http://images0.chictopia.com/photos/Snow_Prince/avatar/6788239722Snow_Prince_DSC02383_sm.jpg\" width=\"50\"/></a> </div>\\n<div class=\"userComment\" style=\"width:330px\">\\n<div>\\n<a class=\"boldlink\" href=\"/Snow_Prince\" onclick='clickTrack(\"comment_login\");'>Snow_Prince</a> <meta content=\"2009-12-14\" itemprop=\"commentTime\"/>\\n          on December 14        </div>\\n<div class=\"comment_content\" itemprop=\"commentText\">\\n          r u one of Headquater fan or u are one of that team        </div>\\n<div class=\"reply\" id=\"field_1611735_child\" style=\"margin-top:5px;\">\\n<div class=\"left ullink\"><a href=\"/comment/add_comment\" onclick=\"GA_trackEvent('Login', 'Prompted', 'clicked on comment without being logged in');\">reply</a></div>\\n</div>\\n</div> <!-- userComment -->\\n</div> <!-- message -->\\n<div class=\"single_comment\" itemprop=\"comment\" itemscope=\"\" itemtype=\"http://schema.org/UserComments\" style=\"width:400px;\">\\n<div class=\"left hoverDarken\" itemprop=\"creator\" itemscope=\"\" itemtype=\"http://schema.org/Person\">\\n<meta content=\"MichellBallestas\" itemprop=\"name\"/>\\n<a href=\"/MichellBallestas\" onclick='clickTrack(\"comment_avatar\");'><img alt=\"MichellBallestas\" class=\"hoverDarken\" height=\"50\" itemprop=\"image\" src=\"http://images0.chictopia.com/photos/MichellBallestas/avatar/2261217491MichellBallestas_avatar2_sm.jpg\" width=\"50\"/></a> </div>\\n<div class=\"userComment\" style=\"width:330px\">\\n<div>\\n<a class=\"boldlink\" href=\"/MichellBallestas\" onclick='clickTrack(\"comment_login\");'>MichellBallestas</a> <meta content=\"2009-12-10\" itemprop=\"commentTime\"/>\\n          on December 10        </div>\\n<div class=\"comment_content\" itemprop=\"commentText\">\\n          great pics        </div>\\n<div class=\"reply\" id=\"field_1592574_child\" style=\"margin-top:5px;\">\\n<div class=\"left ullink\"><a href=\"/comment/add_comment\" onclick=\"GA_trackEvent('Login', 'Prompted', 'clicked on comment without being logged in');\">reply</a></div>\\n</div>\\n</div> <!-- userComment -->\\n</div> <!-- message -->\\n<div class=\"single_comment\" itemprop=\"comment\" itemscope=\"\" itemtype=\"http://schema.org/UserComments\" style=\"width:400px;\">\\n<div class=\"left hoverDarken\" itemprop=\"creator\" itemscope=\"\" itemtype=\"http://schema.org/Person\">\\n<meta content=\"techin\" itemprop=\"name\"/>\\n<a href=\"/techin\" onclick='clickTrack(\"comment_avatar\");'><img alt=\"techin\" class=\"hoverDarken\" height=\"50\" itemprop=\"image\" src=\"http://images2.chictopia.com/photos/techin/avatar/2339592702techin_DSC02936_sm.jpg\" width=\"50\"/></a> </div>\\n<div class=\"userComment\" style=\"width:330px\">\\n<div>\\n<a class=\"boldlink\" href=\"/techin\" onclick='clickTrack(\"comment_login\");'>techin</a> <meta content=\"2009-08-13\" itemprop=\"commentTime\"/>\\n          on August 13        </div>\\n<div class=\"comment_content\" itemprop=\"commentText\">\\n          Thank...all of u're guy        </div>\\n<div class=\"reply\" id=\"field_1106214_child\" style=\"margin-top:5px;\">\\n<div class=\"left ullink\"><a href=\"/comment/add_comment\" onclick=\"GA_trackEvent('Login', 'Prompted', 'clicked on comment without being logged in');\">reply</a></div>\\n</div>\\n</div> <!-- userComment -->\\n</div> <!-- message -->\\n<div class=\"single_comment\" itemprop=\"comment\" itemscope=\"\" itemtype=\"http://schema.org/UserComments\" style=\"width:400px;\">\\n<div class=\"left hoverDarken\" itemprop=\"creator\" itemscope=\"\" itemtype=\"http://schema.org/Person\">\\n<meta content=\"jeroy\" itemprop=\"name\"/>\\n<a href=\"/jeroy\" onclick='clickTrack(\"comment_avatar\");'><img alt=\"jeroy\" class=\"hoverDarken\" height=\"50\" itemprop=\"image\" src=\"http://images0.chictopia.com/photos/jeroy/avatar/9565991313jeroy_1_625569484l_sm.jpg\" width=\"50\"/></a> </div>\\n<div class=\"userComment\" style=\"width:330px\">\\n<div>\\n<a class=\"boldlink\" href=\"/jeroy\" onclick='clickTrack(\"comment_login\");'>jeroy</a> <meta content=\"2009-07-07\" itemprop=\"commentTime\"/>\\n          on July 07        </div>\\n<div class=\"comment_content\" itemprop=\"commentText\">\\n          amazing :)        </div>\\n<div class=\"reply\" id=\"field_962710_child\" style=\"margin-top:5px;\">\\n<div class=\"left ullink\"><a href=\"/comment/add_comment\" onclick=\"GA_trackEvent('Login', 'Prompted', 'clicked on comment without being logged in');\">reply</a></div>\\n</div>\\n</div> <!-- userComment -->\\n</div> <!-- message -->\\n<div class=\"single_comment\" itemprop=\"comment\" itemscope=\"\" itemtype=\"http://schema.org/UserComments\" style=\"width:400px;\">\\n<div class=\"left hoverDarken\" itemprop=\"creator\" itemscope=\"\" itemtype=\"http://schema.org/Person\">\\n<meta content=\"inKARLcerating\" itemprop=\"name\"/>\\n<a href=\"/inKARLcerating\" onclick='clickTrack(\"comment_avatar\");'><img alt=\"inKARLcerating\" class=\"hoverDarken\" height=\"50\" itemprop=\"image\" src=\"http://images2.chictopia.com/photos/inKARLcerating/avatar/9408041914inKARLcerating_cch5_sm.jpg\" width=\"50\"/></a> </div>\\n<div class=\"userComment\" style=\"width:330px\">\\n<div>\\n<a class=\"boldlink\" href=\"/inKARLcerating\" onclick='clickTrack(\"comment_login\");'>inKARLcerating</a> <meta content=\"2009-04-22\" itemprop=\"commentTime\"/>\\n          on April 22        </div>\\n<div class=\"comment_content\" itemprop=\"commentText\">\\n          this is soo hot\\r\\n        </div>\\n<div class=\"reply\" id=\"field_663075_child\" style=\"margin-top:5px;\">\\n<div class=\"left ullink\"><a href=\"/comment/add_comment\" onclick=\"GA_trackEvent('Login', 'Prompted', 'clicked on comment without being logged in');\">reply</a></div>\\n</div>\\n</div> <!-- userComment -->\\n</div> <!-- message -->\\n<div class=\"single_comment\" itemprop=\"comment\" itemscope=\"\" itemtype=\"http://schema.org/UserComments\" style=\"width:400px;\">\\n<div class=\"left hoverDarken\" itemprop=\"creator\" itemscope=\"\" itemtype=\"http://schema.org/Person\">\\n<meta content=\"presidentp3\" itemprop=\"name\"/>\\n<a href=\"/presidentp3\" onclick='clickTrack(\"comment_avatar\");'><img alt=\"presidentp3\" class=\"hoverDarken\" height=\"50\" itemprop=\"image\" src=\"http://images2.chictopia.com/photos/presidentp3/avatar/6972396867presidentp3_8490684182_sm.jpg\" width=\"50\"/></a> </div>\\n<div class=\"userComment\" style=\"width:330px\">\\n<div>\\n<a class=\"boldlink\" href=\"/presidentp3\" onclick='clickTrack(\"comment_login\");'>presidentp3</a> <meta content=\"2009-04-21\" itemprop=\"commentTime\"/>\\n          on April 21        </div>\\n<div class=\"comment_content\" itemprop=\"commentText\">\\n          awesome pictures        </div>\\n<div class=\"reply\" id=\"field_661238_child\" style=\"margin-top:5px;\">\\n<div class=\"left ullink\"><a href=\"/comment/add_comment\" onclick=\"GA_trackEvent('Login', 'Prompted', 'clicked on comment without being logged in');\">reply</a></div>\\n</div>\\n</div> <!-- userComment -->\\n</div> <!-- message -->\\n<div class=\"single_comment\" itemprop=\"comment\" itemscope=\"\" itemtype=\"http://schema.org/UserComments\" style=\"width:400px;\">\\n<div class=\"left hoverDarken\" itemprop=\"creator\" itemscope=\"\" itemtype=\"http://schema.org/Person\">\\n<meta content=\"arghitsgaby\" itemprop=\"name\"/>\\n<a href=\"/arghitsgaby\" onclick='clickTrack(\"comment_avatar\");'><img alt=\"arghitsgaby\" class=\"hoverDarken\" height=\"50\" itemprop=\"image\" src=\"http://images0.chictopia.com/photos/arghitsgaby/avatar/2621954078arghitsgaby_DSC03290_sm.jpg\" width=\"50\"/></a> </div>\\n<div class=\"userComment\" style=\"width:330px\">\\n<div>\\n<a class=\"boldlink\" href=\"/arghitsgaby\" onclick='clickTrack(\"comment_login\");'>arghitsgaby</a> <meta content=\"2009-04-21\" itemprop=\"commentTime\"/>\\n          on April 21        </div>\\n<div class=\"comment_content\" itemprop=\"commentText\">\\n          love the movement in the photos!        </div>\\n<div class=\"reply\" id=\"field_659982_child\" style=\"margin-top:5px;\">\\n<div class=\"left ullink\"><a href=\"/comment/add_comment\" onclick=\"GA_trackEvent('Login', 'Prompted', 'clicked on comment without being logged in');\">reply</a></div>\\n</div>\\n</div> <!-- userComment -->\\n</div> <!-- message -->\\n<div class=\"single_comment\" itemprop=\"comment\" itemscope=\"\" itemtype=\"http://schema.org/UserComments\" style=\"width:400px;\">\\n<div class=\"left hoverDarken\" itemprop=\"creator\" itemscope=\"\" itemtype=\"http://schema.org/Person\">\\n<meta content=\"fashiongeometry\" itemprop=\"name\"/>\\n<a href=\"/fashiongeometry\" onclick='clickTrack(\"comment_avatar\");'><img alt=\"fashiongeometry\" class=\"hoverDarken\" height=\"50\" itemprop=\"image\" src=\"http://images0.chictopia.com/photos/fashiongeometry/avatar/6552713701fashiongeometry_Photo_29_sm.jpg\" width=\"50\"/></a> </div>\\n<div class=\"userComment\" style=\"width:330px\">\\n<div>\\n<a class=\"boldlink\" href=\"/fashiongeometry\" onclick='clickTrack(\"comment_login\");'>fashiongeometry</a> <meta content=\"2009-04-20\" itemprop=\"commentTime\"/>\\n          on April 20        </div>\\n<div class=\"comment_content\" itemprop=\"commentText\">\\n          these photos look really cool! great movements :)        </div>\\n<div class=\"reply\" id=\"field_657543_child\" style=\"margin-top:5px;\">\\n<div class=\"left ullink\"><a href=\"/comment/add_comment\" onclick=\"GA_trackEvent('Login', 'Prompted', 'clicked on comment without being logged in');\">reply</a></div>\\n</div>\\n</div> <!-- userComment -->\\n</div> <!-- message -->\\n<div class=\"single_comment\" itemprop=\"comment\" itemscope=\"\" itemtype=\"http://schema.org/UserComments\" style=\"width:400px;\">\\n<div class=\"left hoverDarken\" itemprop=\"creator\" itemscope=\"\" itemtype=\"http://schema.org/Person\">\\n<meta content=\"franloiacono\" itemprop=\"name\"/>\\n<a href=\"/franloiacono\" onclick='clickTrack(\"comment_avatar\");'><img alt=\"franloiacono\" class=\"hoverDarken\" height=\"50\" itemprop=\"image\" src=\"http://images0.chictopia.com/photos/YOUTHAGAINSTFASHlON/avatar/8023766983YOUTHAGAINSTFASHlON_prada_sm.jpg\" width=\"50\"/></a> </div>\\n<div class=\"userComment\" style=\"width:330px\">\\n<div>\\n<a class=\"boldlink\" href=\"/franloiacono\" onclick='clickTrack(\"comment_login\");'>franloiacono</a> <meta content=\"2009-04-20\" itemprop=\"commentTime\"/>\\n          on April 20        </div>\\n<div class=\"comment_content\" itemprop=\"commentText\">\\n          cool pictures!        </div>\\n<div class=\"reply\" id=\"field_655970_child\" style=\"margin-top:5px;\">\\n<div class=\"left ullink\"><a href=\"/comment/add_comment\" onclick=\"GA_trackEvent('Login', 'Prompted', 'clicked on comment without being logged in');\">reply</a></div>\\n</div>\\n</div> <!-- userComment -->\\n</div> <!-- message -->\\n<div class=\"single_comment\" itemprop=\"comment\" itemscope=\"\" itemtype=\"http://schema.org/UserComments\" style=\"width:400px;\">\\n<div class=\"left hoverDarken\" itemprop=\"creator\" itemscope=\"\" itemtype=\"http://schema.org/Person\">\\n<meta content=\"hypercoolmike\" itemprop=\"name\"/>\\n<a href=\"/hypercoolmike\" onclick='clickTrack(\"comment_avatar\");'><img alt=\"hypercoolmike\" class=\"hoverDarken\" height=\"50\" itemprop=\"image\" src=\"http://images0.chictopia.com/photos/hypercoolmike/avatar/2010314638hypercoolmike_headshotsmall_sm.jpg\" width=\"50\"/></a> </div>\\n<div class=\"userComment\" style=\"width:330px\">\\n<div>\\n<a class=\"boldlink\" href=\"/hypercoolmike\" onclick='clickTrack(\"comment_login\");'>hypercoolmike</a> <meta content=\"2009-04-20\" itemprop=\"commentTime\"/>\\n          on April 20        </div>\\n<div class=\"comment_content\" itemprop=\"commentText\">\\n          wow. i love everything.         </div>\\n<div class=\"reply\" id=\"field_655482_child\" style=\"margin-top:5px;\">\\n<div class=\"left ullink\"><a href=\"/comment/add_comment\" onclick=\"GA_trackEvent('Login', 'Prompted', 'clicked on comment without being logged in');\">reply</a></div>\\n</div>\\n</div> <!-- userComment -->\\n</div> <!-- message -->\\n<!-- for comment in comments -->\\n<div class=\"left\" onclick=\"window.location = '/photo/single_comment_login';\" style=\"width:633px;height:75px;border:1px solid gray;\"></div>\\n<div class=\"clear2\"></div>\\n<div class=\"left ullink\">\\n<a href=\"/account/signup\" onclick=\"GA_trackEvent('Signup', 'ClickLink', 'Photo Comment');\">Create an account</a>      to add a comment. Or \\n      <a href=\"/account/login_redirect\" onclick=\"GA_trackEvent('Login', 'ClickLink', 'Photo Comment');\">login here</a>.\\n    </div>\\n<div class=\"clear2\"></div>\\n<div style=\"float:left; width:240px;\">\\n<div style=\"float:left; width:120px;height:20px;\">\\n<a href=\"http://www.facebook.com/dialog/oauth/?scope=email,publish_actions&amp;client_id=103608358170&amp;redirect_uri=http%3A%2F%2Fwww.chictopia.com%2Ffbconnect%2Fclick_status%2F%3Freturn_url%3Dhttp%253A%252F%252Fwww.chictopia.com%252Fphoto%252Fshow%252F100019-Fly%252Bme%252BFly%252Bme-chai-jacket&amp;state=14789241678952324chictopia\"><div onclick=\"GA_trackEvent('FBConnect','ClickLink')\" style=\"height:22px;width:71px;overflow:hidden;position:relative;padding:0px;margin:0px;cursor:pointer;\"><img alt=\" \" id=\"sp1\" src=\"http://images0.chictopia.com/images/site/sprites/gallery_sprite10.png\" style=\"position:absolute;left:0px;top:-135px;\"/></div></a>\\n</div>\\n</div>\\n<div class=\"clear2\"></div>\\n</div>\\n</div>\\n<div class=\"left\" id=\"right_column\">\\n<style>\\n    .follow_btn_lg {background-image: url(//d1b7u2ujuyo838.cloudfront.net/images/site/actions3/follow_hover_button.png);background-size:98px 25px}\\n</style>\\n<div itemprop=\"author\" itemscope=\"\" itemtype=\"http://schema.org/Person\">\\n<div style=\"float:left; width:100px;\">\\n<div class=\"vipicon hoverDarken\" id=\"profile_photo\" style=\"position:relative;width:100px;height:100px;\">\\n<a href=\"/techin\" onclick='clickTrack(\"avatar_image\");' title=\"techin\"><img alt=\"techin\" class=\"hoverDarken\" height=\"100\" itemprop=\"image\" src=\"http://images2.chictopia.com/photos/techin/avatar/2339592702techin_DSC02936.jpg\" width=\"100\"/></a> </div>\\n<div class=\"clear\" style=\"height:3px;\"></div>\\n<div class=\"help\">\\n<img alt=\"Style_council\" src=\"http://images2.chictopia.com/images/site/style_council.gif\"/>\\n</div>\\n</div>\\n<div style=\"float:left;width:190px;margin-left:10px;height:120px;\">\\n<div class=\"follow_btn_lg left\" id=\"follow\" style=\"float:left;height:25px;width:98px;\">\\n<img alt=\"Follow_button\" height=\"25\" onclick=\"loginPrompt('follow');\" src=\"http://images2.chictopia.com/images/site/actions3/follow_button.png\" width=\"98\"/>\\n</div>\\n<div class=\"left cap bold px10 bg_lg\" id=\"fan_count\" style=\"line-height:25px;height:25px;width:92px;text-align:center\">\\n        19\\n      </div>\\n<div class=\"clear1\"></div>\\n<div class=\"av_info px14 \" id=\"name_div\" style=\"line-height:16px;\">\\n<a href=\"/techin\" itemprop=\"name\" onclick=\"clickTrack('avatar_name');\">techin</a> </div>\\n<div class=\"av_info px10 \" id=\"loc_div\" style=\"line-height:16px;\">\\n          from <a alt=\"Bangkok, Thailand\" href=\"/Bangkok-Street-Style/info\" style=\"text-transform:capitalize\">Bangkok, Thailand</a>\\n</div>\\n<div class=\"clear\"></div>\\n<div class=\"av_info \">\\n<div class=\"left\" style=\"height:16px;\">\\n<a class=\"help\" style=\"color:#336faf;\">\\n<img alt=\"Chicpoint\" src=\"http://images2.chictopia.com/images/site/chicpoint.png\" style=\"margin-top:-2px;\"/>\\n<span style=\"width:310px;\"><strong>What are chic points?</strong><br/>\\n            Chic points are chictopia's members only reward currency.\\n            If you want to earn more Chic points, these actions are available.<br/><br/>\\n<strong>Ways to earn chic points</strong><br/>\\n            10 - acquiring a new fan<br/>\\n             5 - posting a photo that qualifies in the style gallery<br/>\\n             1 - receiving a new comment<br/>\\n             1 - leaving a comment for another user (up to 50 points per day)<br/>\\n             1 - posting in the forum<br/>\\n             5 - write a review<br/>\\n             5 - logging in to Chictopia everyday(24 hours)<br/>\\n</span></a>\\n</div>\\n<div class=\"left px10 \" style=\"line-height:16px;\">888 chic points</div>\\n</div>\\n<div class=\"clear left \" style=\"line-height:16px;\">\\n<a class=\"ullink px11\" href=\" http://techin-style.blogspot.com \" onclick=\"clickTrack('blog_link');\" target=\"_blank\"> http://techin-style.blogspot....</a>\\n</div>\\n</div> <!-- blog_url spacing -->\\n<div class=\"clear2\"></div>\\n</div>\\n<div class=\"clear1\"></div>\\n<div style=\"margin-left:0px;\">\\n<div>\\n<script type=\"text/javascript\">\\n    GA_googleFillSlot(\"300x250_photo_roadblock\");\\n</script>\\n</div>\\n</div>\\n<div class=\"clear2\"></div>\\n<div class=\"clear1\"></div>\\n<div class=\"clear2\"></div>\\n<div class=\"subtitles\">Users you may like</div>\\n<div class=\"clear1\"></div>\\n<div class=\"clear\" style=\"height:50px;position:relative;\">\\n<div class=\"left\" style=\"margin-right:15px;width:50px;height:50px;overflow:hidden;\">\\n<a href=\"/Kryz\"><img alt=\"Kryz\" class=\"photo\" height=\"50\" src=\"http://images0.chictopia.com/photos/Kryz/avatar/7262177971Kryz_sm.jpg\" width=\"50\"/></a>\\n</div>\\n<div class=\"px10\" style=\"position:absolute;top:0px;left:65px;white-space:nowrap;\">\\n<b><a href=\"/Kryz\">Kryz</a></b> from Manila/Cebu, Philippines\\n            <div class=\"clear_5\"></div>\\n<div style=\"float:left;height:18px;width:90px;\">\\n<div id=\"follow_ajax_68304\" style=\"display:block;\">\\n<div ,=\"\" class=\"buttonlink small blue\" onclick=\"jQuery.colorbox({html:'&lt;div style=\\\\'height:100px;width:200px;background-color:#fff;\\\\'&gt;&lt;br&gt;&lt;br&gt;You must &lt;u&gt;&lt;a href=\\\\'/account/login_redirect\\\\'&gt;login&lt;/a&gt;&lt;/u&gt; to follow them.&lt;/div&gt;'});\" onmouseout=\"this.innerHTML='follow+'\" onmouseover=\"this.innerHTML='follow?'\" style=\"text-align:center;\">\\n      follow+\\n    </div>\\n</div>\\n<div id=\"unfollow_ajax_68304\" style=\"display:none;\">\\n<div ,=\"\" class=\"buttonlink small\" onclick=\"remoteCall('http://www.chictopia.com/delete/remove_favorite_chictopian/Kryz?render=none');jQuery('#follow_ajax_68304').toggle();jQuery('#unfollow_ajax_68304').toggle();\" onmouseout=\"this.innerHTML='following'\" onmouseover=\"this.innerHTML='unfollow?'\" style=\"text-align:center;\">\\n      following\\n    </div>\\n</div>\\n</div>\\n</div>\\n</div>\\n<div class=\"clear1\"></div>\\n<div class=\"clear_5\"></div>\\n<div class=\"clear\" style=\"height:50px;position:relative;\">\\n<div class=\"left\" style=\"margin-right:15px;width:50px;height:50px;overflow:hidden;\">\\n<a href=\"/selectivepotential\"><img alt=\"selectivepotential\" class=\"photo\" height=\"50\" src=\"http://images0.chictopia.com/photos/selectivepotential/avatar/6314816325selectivepotential_sm.jpg\" width=\"50\"/></a>\\n</div>\\n<div class=\"px10\" style=\"position:absolute;top:0px;left:65px;white-space:nowrap;\">\\n<b><a href=\"/selectivepotential\">selectivepotential</a></b> from Grand Rapids, MI\\n            <div class=\"clear_5\"></div>\\n<div style=\"float:left;height:18px;width:90px;\">\\n<div id=\"follow_ajax_77605\" style=\"display:block;\">\\n<div ,=\"\" class=\"buttonlink small blue\" onclick=\"jQuery.colorbox({html:'&lt;div style=\\\\'height:100px;width:200px;background-color:#fff;\\\\'&gt;&lt;br&gt;&lt;br&gt;You must &lt;u&gt;&lt;a href=\\\\'/account/login_redirect\\\\'&gt;login&lt;/a&gt;&lt;/u&gt; to follow them.&lt;/div&gt;'});\" onmouseout=\"this.innerHTML='follow+'\" onmouseover=\"this.innerHTML='follow?'\" style=\"text-align:center;\">\\n      follow+\\n    </div>\\n</div>\\n<div id=\"unfollow_ajax_77605\" style=\"display:none;\">\\n<div ,=\"\" class=\"buttonlink small\" onclick=\"remoteCall('http://www.chictopia.com/delete/remove_favorite_chictopian/selectivepotential?render=none');jQuery('#follow_ajax_77605').toggle();jQuery('#unfollow_ajax_77605').toggle();\" onmouseout=\"this.innerHTML='following'\" onmouseover=\"this.innerHTML='unfollow?'\" style=\"text-align:center;\">\\n      following\\n    </div>\\n</div>\\n</div>\\n</div>\\n</div>\\n<div class=\"clear1\"></div>\\n<div class=\"clear_5\"></div>\\n<div class=\"clear\" style=\"height:50px;position:relative;\">\\n<div class=\"left\" style=\"margin-right:15px;width:50px;height:50px;overflow:hidden;\">\\n<a href=\"/Yamilla\"><img alt=\"Yamilla\" class=\"photo\" height=\"50\" src=\"http://images2.chictopia.com/photos/Yamilla/avatar/8628436811Yamilla_sm.jpg\" width=\"50\"/></a>\\n</div>\\n<div class=\"px10\" style=\"position:absolute;top:0px;left:65px;white-space:nowrap;\">\\n<b><a href=\"/Yamilla\">Yamilla</a></b> from Almelo\\n            <div class=\"clear_5\"></div>\\n<div style=\"float:left;height:18px;width:90px;\">\\n<div id=\"follow_ajax_179156\" style=\"display:block;\">\\n<div ,=\"\" class=\"buttonlink small blue\" onclick=\"jQuery.colorbox({html:'&lt;div style=\\\\'height:100px;width:200px;background-color:#fff;\\\\'&gt;&lt;br&gt;&lt;br&gt;You must &lt;u&gt;&lt;a href=\\\\'/account/login_redirect\\\\'&gt;login&lt;/a&gt;&lt;/u&gt; to follow them.&lt;/div&gt;'});\" onmouseout=\"this.innerHTML='follow+'\" onmouseover=\"this.innerHTML='follow?'\" style=\"text-align:center;\">\\n      follow+\\n    </div>\\n</div>\\n<div id=\"unfollow_ajax_179156\" style=\"display:none;\">\\n<div ,=\"\" class=\"buttonlink small\" onclick=\"remoteCall('http://www.chictopia.com/delete/remove_favorite_chictopian/Yamilla?render=none');jQuery('#follow_ajax_179156').toggle();jQuery('#unfollow_ajax_179156').toggle();\" onmouseout=\"this.innerHTML='following'\" onmouseover=\"this.innerHTML='unfollow?'\" style=\"text-align:center;\">\\n      following\\n    </div>\\n</div>\\n</div>\\n</div>\\n</div>\\n<div class=\"clear1\"></div>\\n<div class=\"clear_5\"></div>\\n<div class=\"clear\" style=\"height:50px;position:relative;\">\\n<div class=\"left\" style=\"margin-right:15px;width:50px;height:50px;overflow:hidden;\">\\n<a href=\"/Q2HAN\"><img alt=\"Q2HAN\" class=\"photo\" height=\"50\" src=\"http://images2.chictopia.com/photos/Q2HAN/avatar/6773551688Q2HAN_sm.jpg\" width=\"50\"/></a>\\n</div>\\n<div class=\"px10\" style=\"position:absolute;top:0px;left:65px;white-space:nowrap;\">\\n<b><a href=\"/Q2HAN\">Q2HAN</a></b> from Los Angeles, CA\\n            <div class=\"clear_5\"></div>\\n<div style=\"float:left;height:18px;width:90px;\">\\n<div id=\"follow_ajax_335644\" style=\"display:block;\">\\n<div ,=\"\" class=\"buttonlink small blue\" onclick=\"jQuery.colorbox({html:'&lt;div style=\\\\'height:100px;width:200px;background-color:#fff;\\\\'&gt;&lt;br&gt;&lt;br&gt;You must &lt;u&gt;&lt;a href=\\\\'/account/login_redirect\\\\'&gt;login&lt;/a&gt;&lt;/u&gt; to follow them.&lt;/div&gt;'});\" onmouseout=\"this.innerHTML='follow+'\" onmouseover=\"this.innerHTML='follow?'\" style=\"text-align:center;\">\\n      follow+\\n    </div>\\n</div>\\n<div id=\"unfollow_ajax_335644\" style=\"display:none;\">\\n<div ,=\"\" class=\"buttonlink small\" onclick=\"remoteCall('http://www.chictopia.com/delete/remove_favorite_chictopian/Q2HAN?render=none');jQuery('#follow_ajax_335644').toggle();jQuery('#unfollow_ajax_335644').toggle();\" onmouseout=\"this.innerHTML='following'\" onmouseover=\"this.innerHTML='unfollow?'\" style=\"text-align:center;\">\\n      following\\n    </div>\\n</div>\\n</div>\\n</div>\\n</div>\\n<div class=\"clear1\"></div>\\n<div class=\"clear_5\"></div>\\n<div class=\"clear\" style=\"height:50px;position:relative;\">\\n<div class=\"left\" style=\"margin-right:15px;width:50px;height:50px;overflow:hidden;\">\\n<a href=\"/PamHetlinger\"><img alt=\"PamHetlinger\" class=\"photo\" height=\"50\" src=\"http://images0.chictopia.com/photos/PamHetlinger/avatar/7209219072PamHetlinger_sm.jpg\" width=\"50\"/></a>\\n</div>\\n<div class=\"px10\" style=\"position:absolute;top:0px;left:65px;white-space:nowrap;\">\\n<b><a href=\"/PamHetlinger\">PamHetlinger</a></b> from Boston, MA\\n            <div class=\"clear_5\"></div>\\n<div style=\"float:left;height:18px;width:90px;\">\\n<div id=\"follow_ajax_473641\" style=\"display:block;\">\\n<div ,=\"\" class=\"buttonlink small blue\" onclick=\"jQuery.colorbox({html:'&lt;div style=\\\\'height:100px;width:200px;background-color:#fff;\\\\'&gt;&lt;br&gt;&lt;br&gt;You must &lt;u&gt;&lt;a href=\\\\'/account/login_redirect\\\\'&gt;login&lt;/a&gt;&lt;/u&gt; to follow them.&lt;/div&gt;'});\" onmouseout=\"this.innerHTML='follow+'\" onmouseover=\"this.innerHTML='follow?'\" style=\"text-align:center;\">\\n      follow+\\n    </div>\\n</div>\\n<div id=\"unfollow_ajax_473641\" style=\"display:none;\">\\n<div ,=\"\" class=\"buttonlink small\" onclick=\"remoteCall('http://www.chictopia.com/delete/remove_favorite_chictopian/PamHetlinger?render=none');jQuery('#follow_ajax_473641').toggle();jQuery('#unfollow_ajax_473641').toggle();\" onmouseout=\"this.innerHTML='following'\" onmouseover=\"this.innerHTML='unfollow?'\" style=\"text-align:center;\">\\n      following\\n    </div>\\n</div>\\n</div>\\n</div>\\n</div>\\n<div class=\"clear1\"></div>\\n<div class=\"clear_5\"></div>\\n<div class=\"clear1\"></div>\\n</div>\\n</div>\\n<script type=\"text/javascript\">\\n  single_photo_scrollable();\\n</script>\\n<!--footer-->\\n<div id=\"navfooter\">\\n<div class=\"clear3\"></div>\\n<div class=\"bg_lg\" style=\"width:980px;height:90px;padding:0px;\">\\n<div style=\"width:720px;margin:auto\">\\n<iframe frameborder=\"0\" height=\"90\" marginheight=\"0\" marginwidth=\"0\" scrolling=\"no\" src=\"/ads/leaderboard_iframe?slot=gallery\" width=\"728\"></iframe>\\n</div>\\n</div>\\n<div class=\"clear2\"></div>\\n<div id=\"bottomnav\">\\n<div class=\"clear_5\"></div>\\n<div style=\"width:100%;margin:0 auto\">\\n<a href=\"/about\">About Us</a> <a href=\"/about/terms\">Terms</a> <a href=\"/about/privacy\">Privacy Policy</a> <a href=\"/faq\">FAQ</a> <a href=\"/about/jobs\">Jobs</a> <a href=\"/promote\">Share Badge</a> <a href=\"/about/advertise\">Advertise</a> <a href=\"/sitemap\">Site Map</a> <a href=\"/user/feedback\">Feedback</a> <a href=\"/?webview=false\" style=\"text-decoration:underline;\">Mobile Site</a> </div>\\n</div>\\n<div class=\"clear2\"></div>\\n<div>\\n<div class=\"cap px12\" style=\"width:170px;margin:auto;line-height:23px;height:23px;\">\\n<div class=\"left\" style=\"margin:0px\"><a href=\"https://plus.google.com/+Chictopia\" target=\"_blank\"><img alt=\"Googleplus_20_2\" src=\"http://images2.chictopia.com/images/site/icons/Googleplus_20_2.png\"/></a></div>\\n<div class=\"left\" style=\"margin-left:5px\"><a href=\"http://www.facebook.com/Chictopia\" target=\"_blank\"><img alt=\"Facebook_20\" src=\"http://images2.chictopia.com/images/site/icons/Facebook_20.png\"/></a></div>\\n<div class=\"left\" style=\"margin-left:5px\"><a href=\"https://www.twitter.com/Chictopia\" target=\"_blank\"><img alt=\"Twitter_20\" src=\"http://images0.chictopia.com/images/site/icons/Twitter_20.png\"/></a></div>\\n<div class=\"left\" style=\"margin-left:5px\"><a href=\"http://www.youtube.com/Chictopia\" target=\"_blank\"><img alt=\"Youtube_20\" src=\"http://images0.chictopia.com/images/site/icons/Youtube_20.png\"/></a></div>\\n<div class=\"left\" style=\"margin-left:5px\"><a href=\"http://www.instagram.com/chictopia\" target=\"_blank\"><img alt=\"Instagram_20\" src=\"http://images2.chictopia.com/images/site/icons/Instagram_20.png\"/></a></div>\\n<div class=\"left\" style=\"margin-left:5px\"><a href=\"https://itunes.apple.com/us/app/chictopia/id322407786\"><img alt=\"Iphone_20\" src=\"http://images0.chictopia.com/images/site/icons/iPhone_20.png\"/></a></div>\\n<div class=\"left\" style=\"margin-left:5px\"><a href=\"https://play.google.com/store/apps/details?id=com.chictopia.chictopia\"><img alt=\"Android_20\" src=\"http://images0.chictopia.com/images/site/icons/Android_20.png\"/></a></div>\\n</div>\\n</div>\\n<a href=\"https://plus.google.com/+Chictopia\" rel=\"publisher\" target=\"_blank\"><img alt=\"1x1white\" height=\"1\" src=\"http://images0.chictopia.com/images/site/eiu/1x1white.png\" width=\"1\"/></a>\\n<div class=\"clear2\"></div>\\n<div style=\"text-align:center;\">Copyright \\xa9 2016  Chictopia, LLC</div>\\n<div class=\"clear_5\"></div>\\n</div>\\n</div> <!-- pagewrapper -->\\n<div style=\"display:none;\">\\n<div id=\"hidden_login_action\" style=\"width:145px;height:220px;padding:10px;border:2px solid #aaa;z-index:5;position:relative;background-color:white;\">\\n<div style=\"line-height:22px;white-space:normal;\">Please log in. Don't have an account? <a class=\"ullink\" href=\"/account/signup\">Sign up here</a>.</div>\\n<div class=\"clear1\"></div>\\n<div>\\n<div class=\"left\"> <a href=\"http://www.facebook.com/dialog/oauth/?scope=email,publish_actions&amp;client_id=103608358170&amp;redirect_uri=http%3A%2F%2Fwww.chictopia.com%2Ffbconnect%2Fclick_status%2F%3Freturn_url%3Dhttp%253A%252F%252Fwww.chictopia.com%252Fphoto%252Fshow%252F100019-Fly%252Bme%252BFly%252Bme-chai-jacket&amp;state=14789241680282chictopia\"><div onclick=\"GA_trackEvent('FBConnect','ClickLink')\" style=\"height:22px;width:71px;overflow:hidden;position:relative;padding:0px;margin:0px;cursor:pointer;\"><img alt=\" \" id=\"sp1\" src=\"http://images0.chictopia.com/images/site/sprites/gallery_sprite10.png\" style=\"position:absolute;left:0px;top:-135px;\"/></div></a>\\n</div>\\n<div class=\"left\" style=\"white-space:normal;font-size:11px;line-height:12px;color:#888;margin-left:12px;width:42px;\">or login below</div>\\n</div>\\n<div class=\"clear2\"></div>\\n<form accept-charset=\"UTF-8\" action=\"/account\" id=\"login_form_DUMMYPHOTOID\" method=\"post\"><div style=\"margin:0;padding:0;display:inline\"><input name=\"utf8\" type=\"hidden\" value=\"\\u2713\"/><input name=\"authenticity_token\" type=\"hidden\" value=\"O0tRGtOaED+jFrsxhEAx31E0hQpSzmA8GJtjXf0xlDQ=\"/></div> <div class=\"cap\" style=\"line-height:15px;height:15px;\">Username</div>\\n<div><input id=\"login\" name=\"login\" style=\"height:13px;\" type=\"text\"/></div>\\n<div class=\"cap\" style=\"line-height:15px;height:15px;\">Password</div>\\n<div><input id=\"password\" name=\"password\" style=\"height:13px;\" type=\"password\"/></div>\\n<div class=\"clear_5\"></div>\\n<input id=\"return_url\" name=\"return_url\" type=\"hidden\" value=\"/photo/show/100019-Fly+me+Fly+me-chai-jacket\"/>\\n<div class=\"left\"><input class=\"button\" name=\"commit\" type=\"submit\" value=\"Login\"/></div>\\n</form> <div class=\"clear_5\"></div>\\n<div class=\"gray_text\"><a href=\"/account/forgot_password\">Forgot your password?</a></div>\\n</div>\\n</div>\\n<div style=\"display:none;\">\\n<div id=\"hidden_comment_action\" style=\"position:relative;width:141px;height:70px;padding:10px;z-index:5;background-color:#fff;border:1px solid #dcdcdc;display:none;\">\\n<div class=\"left\" style=\"margin-right:9px;\"><img alt=\"Pf8\" height=\"20\" src=\"http://images2.chictopia.com/avatar/pf8_sm.gif\" width=\"20\"/></div>\\n<div class=\"left\">\\n<form accept-charset=\"UTF-8\" action=\"/comment/ajax_comment\" id=\"comment_action_form_DUMMYPHOTOID\" method=\"post\"><div style=\"margin:0;padding:0;display:inline\"><input name=\"utf8\" type=\"hidden\" value=\"\\u2713\"/><input name=\"authenticity_token\" type=\"hidden\" value=\"O0tRGtOaED+jFrsxhEAx31E0hQpSzmA8GJtjXf0xlDQ=\"/></div> <textarea id=\"new_comment\" maxlength=\"400\" name=\"new_comment\" onkeypress=\"enterSubmitComment(event,jQuery(this).parent());\" style=\"height:60px;width:102px;resize:none;border:1px solid #dcdcdc;overflow:auto;\" wrap=\"hard\"></textarea> <input id=\"photo_id\" name=\"photo_id\" type=\"hidden\" value=\"DUMMYPHOTOID\"/>\\n<input id=\"parent\" name=\"parent\" type=\"hidden\" value=\"0\"/>\\n<input id=\"render\" name=\"render\" type=\"hidden\" value=\"none\"/>\\n</form> </div>\\n</div>\\n</div>\\n<div style=\"display:none;\">\\n<div id=\"hidden_favorite_action\" style=\"position:relative;width:90px;height:63px;padding:2px 10px;z-index:5;background-color:#fffea0;border:0px;display:none;\">\\n<div class=\"left\" style=\"font-size:11px;\">Faved. Add Tags?</div>\\n<div class=\"clear\"></div>\\n<div class=\"left\">\\n<form accept-charset=\"UTF-8\" action=\"/tag_favorite/add_tags\" id=\"favorite_action_form_DUMMYPHOTOID\" method=\"post\"><div style=\"margin:0;padding:0;display:inline\"><input name=\"utf8\" type=\"hidden\" value=\"\\u2713\"/><input name=\"authenticity_token\" type=\"hidden\" value=\"O0tRGtOaED+jFrsxhEAx31E0hQpSzmA8GJtjXf0xlDQ=\"/></div> <textarea id=\"tag_list\" maxlength=\"400\" name=\"tag_list\" onkeypress=\"enterSubmitFavorite(event,jQuery(this).parent());\" style=\"height:30px;width:85px;resize:none;border:1px solid #dcdcdc;overflow:auto;\" wrap=\"hard\"></textarea> <input id=\"photo_id\" name=\"photo_id\" type=\"hidden\" value=\"DUMMYPHOTOID\"/>\\n<input id=\"parent\" name=\"parent\" type=\"hidden\" value=\"0\"/>\\n<input id=\"render\" name=\"render\" type=\"hidden\" value=\"none\"/>\\n</form> </div>\\n</div>\\n</div>\\n<!-- site skin tag call -->\\n<script>\\n  GA_googleFillSlot(\"1x1_generic_all\");\\n</script>\\n<div id=\"spin_loader\" style=\"background-color:#fff;padding:20px;border:2px solid #aaa;z-index:101;display:none;position:fixed;left:47%;top:40%;\">\\n<img alt=\"Default_loader\" src=\"http://images2.chictopia.com/images/site/default_loader.gif\"/>\\n</div>\\n<script type=\"text/javascript\">var switchTo5x=true;</script>\\n<script src=\"http://w.sharethis.com/button/buttons.js\" type=\"text/javascript\"></script>\\n<script type=\"text/javascript\">stLight.options({publisher:'e4a9d57b-9d10-4a79-a82e-e4a990965084',onhover: false});</script>\\n<script>\\nvar ChicSocialMediaData = {\\n  \"_preferences\": {},\\n  \"_platform_hash\": {},\\n  \"fbLike\": 0,\\n};\\nChicSocialMediaData.preference = function(service, name, value) {\\n  if(typeof value != 'undefined') {\\n    if(!ChicSocialMediaData._preferences[service]) {\\n      ChicSocialMediaData._preferences[service] = {}\\n    }\\n    ChicSocialMediaData._preferences[service][name] = value\\n    $.post('/user/ajax_social_preference',{\"service\":service, \"name\":name, \"value\":value});\\n    return value;\\n  }\\n  return (ChicSocialMediaData._preferences[service] && ChicSocialMediaData._preferences[service][name]);\\n}\\nChicSocialMediaData.connectedTo = function(platform) {\\n  return (ChicSocialMediaData._platform_hash[platform] ? true : false);\\n}\\nChicSocialMediaData.setConnectedTo = function(platform) { ChicSocialMediaData._platform_hash[platform] = true }\\n\\n</script>\\n</body>\\n</html>\\n"
      ]
     },
     "execution_count": 73,
     "metadata": {},
     "output_type": "execute_result"
    }
   ],
   "source": [
    "soup"
   ]
  },
  {
   "cell_type": "code",
   "execution_count": 74,
   "metadata": {
    "collapsed": false
   },
   "outputs": [
    {
     "data": {
      "text/plain": [
       "100019"
      ]
     },
     "execution_count": 74,
     "metadata": {},
     "output_type": "execute_result"
    }
   ],
   "source": [
    "htmls[6][1]"
   ]
  },
  {
   "cell_type": "code",
   "execution_count": null,
   "metadata": {
    "collapsed": true
   },
   "outputs": [],
   "source": []
  },
  {
   "cell_type": "code",
   "execution_count": null,
   "metadata": {
    "collapsed": true
   },
   "outputs": [],
   "source": []
  },
  {
   "cell_type": "code",
   "execution_count": 16,
   "metadata": {
    "collapsed": true
   },
   "outputs": [],
   "source": [
    "def check_status(html):\n",
    "    '''some entries either refer to urls with no photo or return an error\n",
    "    this function will alert to pages that do not exist and flag pages that should\n",
    "    rechecked'''\n",
    "    soup = BeautifulSoup(html, \"html.parser\")\n",
    "    output = ''\n",
    "    text = str(soup.find())\n",
    "    if text.startswith('<response [200]') or text.startswith('<response [404]'):\n",
    "        output = 'check'\n",
    "    elif soup.title.text == u\"The page you are looking for doesn't exist | Chictopia\":\n",
    "        output = \"DNE\"\n",
    "    else:\n",
    "        output = \"passed\"\n",
    "    return output"
   ]
  },
  {
   "cell_type": "code",
   "execution_count": 79,
   "metadata": {
    "collapsed": false
   },
   "outputs": [
    {
     "data": {
      "text/plain": [
       "100019"
      ]
     },
     "execution_count": 79,
     "metadata": {},
     "output_type": "execute_result"
    }
   ],
   "source": [
    "post_id = soup.find(\"input\", {\"id\" :\"photo_id\"})\n",
    "if post_id is not None:\n",
    "    post_id = int(post_id.get(\"value\"))\n",
    "    fd['post_id'] = post_id\n",
    "else:\n",
    "    fd['post_id'] = 0\n",
    "\n",
    "\n",
    "fd['post_id']\n"
   ]
  },
  {
   "cell_type": "code",
   "execution_count": null,
   "metadata": {
    "collapsed": true
   },
   "outputs": [],
   "source": []
  },
  {
   "cell_type": "code",
   "execution_count": null,
   "metadata": {
    "collapsed": true
   },
   "outputs": [],
   "source": []
  },
  {
   "cell_type": "code",
   "execution_count": null,
   "metadata": {
    "collapsed": true
   },
   "outputs": [],
   "source": []
  },
  {
   "cell_type": "code",
   "execution_count": 60,
   "metadata": {
    "collapsed": false
   },
   "outputs": [
    {
     "data": {
      "text/plain": [
       "'Fly me Fly me!!'"
      ]
     },
     "execution_count": 60,
     "metadata": {},
     "output_type": "execute_result"
    }
   ],
   "source": [
    "title = soup.find(\"h1\", { \"class\":\"photo_title\"})\n",
    "if title is not None:\n",
    "    title = title.text\n",
    "    fd['title'] = title.encode('ascii', 'ignore')\n",
    "else:\n",
    "    fd['title'] = 'No Title'\n",
    "    \n",
    "fd['title']"
   ]
  },
  {
   "cell_type": "code",
   "execution_count": 63,
   "metadata": {
    "collapsed": false
   },
   "outputs": [
    {
     "data": {
      "text/plain": [
       "'2009-04-20'"
      ]
     },
     "execution_count": 63,
     "metadata": {},
     "output_type": "execute_result"
    }
   ],
   "source": [
    "date = soup.find(\"meta\", {\"itemprop\":\"dateCreated\"})\n",
    "if date is not None:\n",
    "    date = date.get(\"content\")\n",
    "    fd['date'] = date.encode('ascii', 'ignore')\n",
    "else:\n",
    "    fd['date'] = \"No Date\"\n",
    "        \n",
    "fd['date']"
   ]
  },
  {
   "cell_type": "code",
   "execution_count": 64,
   "metadata": {
    "collapsed": false
   },
   "outputs": [
    {
     "data": {
      "text/plain": [
       "[u'http://images2.chictopia.com/photos/techin/7043981989/7043981989_sm.jpg',\n",
       " u'http://images2.chictopia.com/photos/techin/7043981989/5136844237/5136844237_sm.jpg',\n",
       " u'http://images2.chictopia.com/photos/techin/7043981989/5388070635/5388070635_sm.jpg',\n",
       " u'http://images2.chictopia.com/photos/techin/7043981989/5308872942/5308872942_sm.jpg']"
      ]
     },
     "execution_count": 64,
     "metadata": {},
     "output_type": "execute_result"
    }
   ],
   "source": [
    "sub_photos = soup.find(\"div\", {\"class\":\"subphoto_items\"})\n",
    "if sub_photos is not None:\n",
    "    sub_photos = sub_photos.findChildren(\"img\")\n",
    "    sub_photos = [photo.get(\"src\") for photo in sub_photos]\n",
    "    fd['subphotos'] = sub_photos\n",
    "else:\n",
    "    fd['subphotos'] = \"No Subphotos\"\n",
    "\n",
    "fd['subphotos']"
   ]
  },
  {
   "cell_type": "code",
   "execution_count": 65,
   "metadata": {
    "collapsed": false
   },
   "outputs": [
    {
     "data": {
      "text/plain": [
       "'http://images0.chictopia.com/photos/techin/7043981989/7043981989_400.jpg'"
      ]
     },
     "execution_count": 65,
     "metadata": {},
     "output_type": "execute_result"
    }
   ],
   "source": [
    "main_photo = soup.find(\"div\", {\"id\" : \"image_wrap\"})\n",
    "if main_photo is not None:\n",
    "    main_photo = main_photo.findChild(\"img\").get(\"src\")\n",
    "    fd['main_photo'] = main_photo.encode(\"ascii\", \"ignore\")\n",
    "else:\n",
    "    fd['main_photo'] = \"No Main Photo\"\n",
    "\n",
    "fd['main_photo']"
   ]
  },
  {
   "cell_type": "code",
   "execution_count": 80,
   "metadata": {
    "collapsed": false
   },
   "outputs": [
    {
     "name": "stdout",
     "output_type": "stream",
     "text": [
      "found <div class=\"left action_unclicked_show cursor\" data-actiontext=\"VOTE!\" data-counttext=\"11 votes\" id=\"vote_text_100019\" onclick=\"loginPrompt('vote');clickTrack(&quot;photo_vote&quot;);\" onmouseout=\"user_action_button_mouseout('vote', '100019')\" onmouseover=\"user_action_button_mouseover('vote','100019')\" style=\"width:97px;margin-left:3px;\">\n",
      "                11 votes\n",
      "              </div> for votes field\n",
      "11\n",
      "11\n"
     ]
    }
   ],
   "source": [
    "vote_tag = \"vote_text_{}\".format(post_id)\n",
    "\n",
    "votes = soup.find(\"div\", {\"id\": vote_tag})\n",
    "if votes is not None:\n",
    "    votes = votes.text\n",
    "    votes = int(votes.split()[0])\n",
    "    fd['votes'] = int(votes)\n",
    "else:\n",
    "    fd['votes'] = 0\n",
    "\n",
    "    \n",
    "print votes\n",
    "print fd['votes']\n"
   ]
  },
  {
   "cell_type": "code",
   "execution_count": 82,
   "metadata": {
    "collapsed": false
   },
   "outputs": [
    {
     "name": "stdout",
     "output_type": "stream",
     "text": [
      "11\n"
     ]
    }
   ],
   "source": [
    "comments_tag = \"comment_text_{}\".format(post_id)\n",
    "comments = soup.find(\"div\", {\"id\": comments_tag})\n",
    "if comments is not None:\n",
    "    comments = comments.text\n",
    "    comments = int(comments.split()[0])\n",
    "    fd['comments'] = int(comments)\n",
    "else:\n",
    "    fd['comments'] = 0\n",
    "    \n",
    "print fd['comments']"
   ]
  },
  {
   "cell_type": "code",
   "execution_count": 84,
   "metadata": {
    "collapsed": false
   },
   "outputs": [
    {
     "data": {
      "text/plain": [
       "1"
      ]
     },
     "execution_count": 84,
     "metadata": {},
     "output_type": "execute_result"
    }
   ],
   "source": [
    "faves_tag = \"favorite_text_{}\".format(post_id)\n",
    "faves = soup.find(\"div\", {\"id\": faves_tag})\n",
    "if faves is not None:\n",
    "    faves = faves.text\n",
    "    faves = int(faves.split()[0])\n",
    "    fd['favorites'] = int(faves)\n",
    "else:\n",
    "    fd['favorites'] = 0\n",
    "    \n",
    "fd['favorites']\n",
    "\n"
   ]
  },
  {
   "cell_type": "code",
   "execution_count": 24,
   "metadata": {
    "collapsed": false
   },
   "outputs": [
    {
     "data": {
      "text/plain": [
       "[u'Casual', u'Cocktail', u'fall']"
      ]
     },
     "execution_count": 24,
     "metadata": {},
     "output_type": "execute_result"
    }
   ],
   "source": [
    "tags = soup.find(\"div\", {\"id\": \"tag_boxes\"}).findChildren(\"a\")\n",
    "tags = [tag.text for tag in tags]\n",
    "tags\n"
   ]
  },
  {
   "cell_type": "code",
   "execution_count": 25,
   "metadata": {
    "collapsed": false
   },
   "outputs": [
    {
     "data": {
      "text/plain": [
       "u'\\nscarf and belt vintage.\\ndress topshop.\\nsilver sling bag topshop. '"
      ]
     },
     "execution_count": 25,
     "metadata": {},
     "output_type": "execute_result"
    }
   ],
   "source": [
    "desc = soup.find(\"div\", {\"id\": \"photo_description\"}).text\n",
    "desc"
   ]
  },
  {
   "cell_type": "code",
   "execution_count": 26,
   "metadata": {
    "collapsed": true
   },
   "outputs": [],
   "source": [
    "#this doesn't exist on this page. I probably need a contingency for any time an element doesn't exist\n",
    "\n",
    "links = soup.find(\"div\",{\"class\": \"garmentLinks\"})\n",
    "links"
   ]
  },
  {
   "cell_type": "code",
   "execution_count": 27,
   "metadata": {
    "collapsed": false
   },
   "outputs": [
    {
     "data": {
      "text/plain": [
       "u'Style_council'"
      ]
     },
     "execution_count": 27,
     "metadata": {},
     "output_type": "execute_result"
    }
   ],
   "source": [
    "style_council = soup.find(\"div\", {\"class\":\"help\"}).findChild(\"img\").get(\"alt\")\n",
    "style_council"
   ]
  },
  {
   "cell_type": "code",
   "execution_count": 87,
   "metadata": {
    "collapsed": false
   },
   "outputs": [
    {
     "data": {
      "text/plain": [
       "19"
      ]
     },
     "execution_count": 87,
     "metadata": {},
     "output_type": "execute_result"
    }
   ],
   "source": [
    "#need contingency for when people have 0 followers like here\n",
    "followers = soup.find(\"div\", {\"id\":\"fan_count\"})\n",
    "if followers is not None:\n",
    "    followers = followers.text\n",
    "    if followers != '\\n\\n':\n",
    "        fd['followers'] = int(followers)\n",
    "else:\n",
    "    fd['followers'] = 0\n",
    "    \n",
    "fd['followers']    "
   ]
  },
  {
   "cell_type": "code",
   "execution_count": 37,
   "metadata": {
    "collapsed": false
   },
   "outputs": [
    {
     "data": {
      "text/plain": [
       "u'\\n\\n'"
      ]
     },
     "execution_count": 37,
     "metadata": {},
     "output_type": "execute_result"
    }
   ],
   "source": [
    "soup.find(\"div\", {\"id\":\"follow\"}).text"
   ]
  },
  {
   "cell_type": "code",
   "execution_count": null,
   "metadata": {
    "collapsed": true
   },
   "outputs": [],
   "source": []
  },
  {
   "cell_type": "code",
   "execution_count": null,
   "metadata": {
    "collapsed": false
   },
   "outputs": [],
   "source": [
    "username = soup.find(\"div\",{ \"id\":\"name_div\"}).findChild(\"a\").text\n",
    "username"
   ]
  },
  {
   "cell_type": "code",
   "execution_count": null,
   "metadata": {
    "collapsed": false
   },
   "outputs": [],
   "source": [
    "location = soup.find(\"div\", {\"id\":\"loc_div\"}).findChild(\"a\").text\n",
    "location"
   ]
  },
  {
   "cell_type": "code",
   "execution_count": null,
   "metadata": {
    "collapsed": false
   },
   "outputs": [],
   "source": [
    "chic_points = soup.find(\"div\", {\"itemprop\": \"author\"}).findChildren(\"div\", {\"class\":\"px10\"})[2].text\n",
    "chic_points = chic_points.split()[0]\n",
    "chic_points"
   ]
  },
  {
   "cell_type": "code",
   "execution_count": null,
   "metadata": {
    "collapsed": false
   },
   "outputs": [],
   "source": [
    "date = soup.find(\"meta\", {\"itemprop\":\"dateCreated\"}).get(\"content\")\n",
    "date"
   ]
  },
  {
   "cell_type": "code",
   "execution_count": null,
   "metadata": {
    "collapsed": true
   },
   "outputs": [],
   "source": [
    "#create a features dictionary\n",
    "fd = {}"
   ]
  },
  {
   "cell_type": "code",
   "execution_count": null,
   "metadata": {
    "collapsed": false
   },
   "outputs": [],
   "source": [
    "labels = [username, title, date, location, desc, chic_points, followers, votes, comments, faves, \\\n",
    "              style_council, links, tags, main_photo, sub_photos]\n",
    "\n"
   ]
  },
  {
   "cell_type": "code",
   "execution_count": null,
   "metadata": {
    "collapsed": true
   },
   "outputs": [],
   "source": [
    "def extract_feats(html):\n",
    "    '''\n",
    "    '''\n",
    "\n",
    "    soup = BeautifulSoup(html, \"html.parser\")\n",
    "    #features dictionary\n",
    "    fd = {}\n",
    "    \n",
    "    #find post id for reference\n",
    "    post_id = soup.find(\"input\", {\"id\" :\"photo_id\"})\n",
    "    if post_id is not None:\n",
    "        post_id = int(post_id.get(\"value\"))\n",
    "        fd['post_id'] = post_id\n",
    "    else:\n",
    "        fd['post_id'] = 0\n",
    "\n",
    "    #find title of post\n",
    "    title = soup.find(\"h1\", { \"class\":\"photo_title\"})\n",
    "    if title is not None:\n",
    "        title = title.text\n",
    "        fd['title'] = title.encode('ascii', 'ignore')\n",
    "    else:\n",
    "        fd['title'] = 'No Title'\n",
    "\n",
    "    #find date of post\n",
    "    date = soup.find(\"meta\", {\"itemprop\":\"dateCreated\"})\n",
    "    if date is not None:\n",
    "        date = date.get(\"content\")\n",
    "        fd['date'] = date.encode('ascii', 'ignore')\n",
    "    else:\n",
    "        fd['date'] = \"No Date\"\n",
    "\n",
    "    #find smaller photos url\n",
    "    sub_photos = soup.find(\"div\", {\"class\":\"subphoto_items\"})\n",
    "    if sub_photos is not None:\n",
    "        sub_photos = sub_photos.findChildren(\"img\")\n",
    "        sub_photos = [photo.get(\"src\") for photo in sub_photos]\n",
    "        fd['subphotos'] = sub_photos\n",
    "    else:\n",
    "        fd['subphotos'] = \"No Subphotos\"\n",
    "\n",
    "    #find main photo\n",
    "    main_photo = soup.find(\"div\", {\"id\" : \"image_wrap\"})\n",
    "    if main_photo is not None:\n",
    "        main_photo = main_photo.findChild(\"img\").get(\"src\")\n",
    "        fd['main_photo'] = main_photo.encode(\"ascii\", \"ignore\")\n",
    "    else:\n",
    "        fd['main_photo'] = \"No Main Photo\"\n",
    "\n",
    "    #number of votes for this post\n",
    "    vote_tag = \"vote_text_{}\".format(post_id)\n",
    "    votes = soup.find(\"div\", {\"id\": vote_tag})\n",
    "    if votes is not None:\n",
    "        votes = votes.text\n",
    "        votes = int(votes.split()[0])\n",
    "        fd['votes'] = int(votes)\n",
    "    else:\n",
    "        fd['votes'] = 0\n",
    "\n",
    "    #number of comments for this post\n",
    "    comments_tag = \"comment_text_{}\".format(post_id)\n",
    "    comments = soup.find(\"div\", {\"id\": comments_tag})\n",
    "    if comments is not None:\n",
    "        comments = comments.text\n",
    "        comments = int(comments.split()[0])\n",
    "        fd['comments'] = int(comments)\n",
    "    else:\n",
    "        fd['comments'] = 0\n",
    "\n",
    "    #number of favorites for this post\n",
    "    faves_tag = \"favorite_text_{}\".format(post_id)\n",
    "    faves = soup.find(\"div\", {\"id\": faves_tag})\n",
    "    if faves is not None:\n",
    "        faves = faves.text\n",
    "        faves = int(faves.split()[0])\n",
    "        fd['favorites'] = int(faves)\n",
    "    else:\n",
    "        fd['favorites'] = 0\n",
    "\n",
    "    #find all tags\n",
    "    tags = soup.find(\"div\", {\"id\": \"tag_boxes\"})\n",
    "    if tags is not None:\n",
    "        tags = tags.findChildren(\"a\")\n",
    "        tags = [tag.text.encode('ascii', 'ignore') for tag in tags]\n",
    "        fd['tags'] = tags\n",
    "    else:\n",
    "        fd['tags'] = \"No Tags\"\n",
    "\n",
    "    #find description\n",
    "    desc = soup.find(\"div\", {\"id\": \"photo_description\"})\n",
    "    if desc is not None:\n",
    "        desc = desc.text\n",
    "        fd['photo_desc'] = desc.encode('ascii', 'ignore')\n",
    "    else:\n",
    "        fd['photo_desc'] = \"No Description\"\n",
    "\n",
    "    #find links to garments\n",
    "    links = soup.find(\"div\",{\"class\": \"garmentLinks\"})\n",
    "    if links is not None:\n",
    "        links = links.findChildren(\"a\")\n",
    "        fd['garment_links'] = [link.text.encode('ascii', 'ignore') for link in links]\n",
    "    else:\n",
    "        fd['garment_links'] = None\n",
    "\n",
    "    #find styleCouncl status\n",
    "    style_council = soup.find(\"div\", {\"class\":\"help\"})\n",
    "    if style_council is not None:\n",
    "        style_council = style_council.findChild(\"img\").get(\"alt\")\n",
    "        fd['style_council'] = style_council.encode('ascii', 'ignore')\n",
    "    else:\n",
    "        fd['style_council'] = \"Not Style Council (or..no badge?)\"\n",
    "\n",
    "    #find number of followers\n",
    "    followers = soup.find(\"div\", {\"id\":\"fan_count\"})\n",
    "    if followers is not None:\n",
    "        followers = followers.text\n",
    "        if followers != '\\n\\n':\n",
    "            fd['followers'] = int(followers)\n",
    "    else:\n",
    "        fd['followers'] = 0\n",
    "\n",
    "    fd['followers']  \n",
    "\n",
    "    #find username\n",
    "    username = soup.find(\"div\",{ \"id\":\"name_div\"})\n",
    "    if username is not None:\n",
    "        username = username.findChild(\"a\").text\n",
    "        fd['username'] = username.encode('ascii', 'ignore')\n",
    "    else:\n",
    "        fd['username'] = \"No Username\"\n",
    "\n",
    "\n",
    "    #find location\n",
    "    location = soup.find(\"div\", {\"id\":\"loc_div\"})\n",
    "    if location is not None:\n",
    "        location = location.findChild(\"a\")\n",
    "        if location is not None:\n",
    "            location = location.text\n",
    "            fd['location'] = location.encode('ascii', 'ignore')\n",
    "    else:\n",
    "        fd['location'] = \"n/a\"\n",
    "\n",
    "    #find num chic points\n",
    "    chic_points = soup.find(\"div\", {\"itemprop\": \"author\"})\n",
    "    if chic_points is not None:\n",
    "        chic_points = chic_points.findChildren(\"div\", {\"class\":\"px10\"})[2].text\n",
    "        chic_points = chic_points.split()[0]\n",
    "        fd['chic_points'] = int(chic_points)\n",
    "    else:\n",
    "        fd['chic_points'] = 0\n",
    "\n",
    "    ''''''\n",
    "    return fd\n"
   ]
  }
 ],
 "metadata": {
  "anaconda-cloud": {},
  "kernelspec": {
   "display_name": "Python [Root]",
   "language": "python",
   "name": "Python [Root]"
  },
  "language_info": {
   "codemirror_mode": {
    "name": "ipython",
    "version": 2
   },
   "file_extension": ".py",
   "mimetype": "text/x-python",
   "name": "python",
   "nbconvert_exporter": "python",
   "pygments_lexer": "ipython2",
   "version": "2.7.12"
  }
 },
 "nbformat": 4,
 "nbformat_minor": 0
}
